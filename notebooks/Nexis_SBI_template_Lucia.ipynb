{
 "cells": [
  {
   "cell_type": "markdown",
   "id": "48ee4fd6",
   "metadata": {},
   "source": [
    "This file is to try Nexis-SBI\n",
    "\n",
    "Note that, the original Nexis params are bounded, so I transform them first (to real line). \n",
    "\n",
    "The simulator fn in our case requires trans-params not the org params. \n",
    "I put a guassian prior on the trans-params. \n",
    "So the SBI gives the posterior sps of the trans-params, I transform them back to the original params.\n",
    "\n"
   ]
  },
  {
   "cell_type": "markdown",
   "id": "269c1f0a",
   "metadata": {},
   "source": [
    "### import and define"
   ]
  },
  {
   "cell_type": "code",
   "execution_count": 1,
   "id": "4e45686c",
   "metadata": {
    "ExecuteTime": {
     "end_time": "2023-06-16T18:06:37.190434Z",
     "start_time": "2023-06-16T18:06:36.103743Z"
    }
   },
   "outputs": [
    {
     "ename": "ModuleNotFoundError",
     "evalue": "No module named 'mkl'",
     "output_type": "error",
     "traceback": [
      "\u001b[0;31m---------------------------------------------------------------------------\u001b[0m",
      "\u001b[0;31mModuleNotFoundError\u001b[0m                       Traceback (most recent call last)",
      "Cell \u001b[0;32mIn[1], line 3\u001b[0m\n\u001b[1;32m      1\u001b[0m \u001b[38;5;28;01mimport\u001b[39;00m \u001b[38;5;21;01msys\u001b[39;00m\n\u001b[1;32m      2\u001b[0m sys\u001b[38;5;241m.\u001b[39mpath\u001b[38;5;241m.\u001b[39mappend(\u001b[38;5;124m\"\u001b[39m\u001b[38;5;124m../mypkg\u001b[39m\u001b[38;5;124m\"\u001b[39m)\n\u001b[0;32m----> 3\u001b[0m \u001b[38;5;28;01mimport\u001b[39;00m \u001b[38;5;21;01mmkl\u001b[39;00m\n",
      "\u001b[0;31mModuleNotFoundError\u001b[0m: No module named 'mkl'"
     ]
    }
   ],
   "source": [
    "import sys\n",
    "sys.path.append(\"../mypkg\")\n",
    "import mkl"
   ]
  },
  {
   "cell_type": "markdown",
   "id": "e5ca9b8a",
   "metadata": {},
   "source": [
    "#### Other pkgs"
   ]
  },
  {
   "cell_type": "code",
   "execution_count": 2,
   "id": "c93dcfe1",
   "metadata": {
    "ExecuteTime": {
     "end_time": "2023-06-16T18:06:45.658885Z",
     "start_time": "2023-06-16T18:06:39.727036Z"
    }
   },
   "outputs": [],
   "source": [
    "from tqdm import trange, tqdm\n",
    "\n",
    "import torch\n",
    "import torch.nn as nn \n",
    "import torch.nn.functional as F \n",
    "from sbi import analysis as analysis\n",
    "from sbi.inference.base import infer\n",
    "from sbi.inference import SNPE, prepare_for_sbi, simulate_for_sbi\n",
    "from sbi.utils.get_nn_models import posterior_nn\n",
    "from torch.distributions.multivariate_normal import MultivariateNormal\n",
    "\n",
    "import numpy as np\n",
    "from easydict import EasyDict as edict\n",
    "from pathlib import Path\n",
    "import pickle\n",
    "import scipy\n",
    "\n",
    "import seaborn as sns\n",
    "import pandas as pd\n",
    "import numpy as np\n",
    "import matplotlib.pyplot as plt\n",
    "import json\n",
    "from functools import partial\n",
    "\n",
    "import warnings\n",
    "warnings.filterwarnings(\"ignore\")"
   ]
  },
  {
   "cell_type": "code",
   "execution_count": null,
   "id": "aac0886a",
   "metadata": {},
   "outputs": [],
   "source": []
  },
  {
   "cell_type": "markdown",
   "id": "7452265b",
   "metadata": {},
   "source": [
    "#### My own pkgs"
   ]
  },
  {
   "cell_type": "code",
   "execution_count": 3,
   "id": "da2f4f7a",
   "metadata": {
    "ExecuteTime": {
     "end_time": "2023-06-16T18:07:05.434394Z",
     "start_time": "2023-06-16T18:07:05.429599Z"
    }
   },
   "outputs": [],
   "source": [
    "import importlib\n",
    "\n",
    "from utils.misc import save_pkl_dict2folder, load_pkl_folder2dict\n",
    "from utils.reparam import para_trans2org, logistic_np, logistic_torch\n",
    "from constants import RES_ROOT, FIG_ROOT, DATA_ROOT\n",
    "import from_justin.nexis as nx"
   ]
  },
  {
   "cell_type": "code",
   "execution_count": 4,
   "id": "9a6bdc4e",
   "metadata": {},
   "outputs": [],
   "source": [
    "# # load the data and build the nexis model\n",
    "# loadinst = nx.loading_matfiles()\n",
    "# endmstuff = loadinst.load_file('eNDM_mousedata.mat')\n",
    "# # the following are required for build a model\n",
    "# C = endmstuff['Networks'][0,0]['ret']\n",
    "# C = C / np.max(C[:])\n",
    "# endmstuff_kauf = loadinst.load_file('KaufmanDiamond_datasets_dat&seed.mat')\n",
    "# seedvec = endmstuff_kauf['seed426'][0,0]['DS6']\n",
    "# tpts = endmstuff_kauf['tpts'][0,0]['DS6'][0]\n",
    "# U = np.zeros([426,1]);\n",
    "\n",
    "# # the model for generate\n",
    "# nexis_model = nx.run_Nexis(C, U, seedvec, tpts)\n",
    "\n",
    "# # real data, the real data decide the nan positions and decide the simulator function\n",
    "# data = endmstuff_kauf['data426'][0,0]['DS6'];"
   ]
  },
  {
   "cell_type": "code",
   "execution_count": 5,
   "id": "619fca02",
   "metadata": {},
   "outputs": [],
   "source": [
    "# np.shape(seedvec)"
   ]
  },
  {
   "cell_type": "markdown",
   "id": "4022c78f",
   "metadata": {},
   "source": [
    "### Load data "
   ]
  },
  {
   "cell_type": "code",
   "execution_count": 6,
   "id": "182ff6f5",
   "metadata": {
    "ExecuteTime": {
     "end_time": "2023-06-16T18:08:41.223394Z",
     "start_time": "2023-06-16T18:08:40.806375Z"
    }
   },
   "outputs": [],
   "source": [
    "# load the data and build the nexis model\n",
    "loadinst = nx.loading_matfiles()\n",
    "\n",
    "# load the connectome and normalize\n",
    "C = loadinst.load_file('Connectomes.mat')\n",
    "C = C['Connectomes'][0,0]['default']\n",
    "C = C / np.max(C[:])\n",
    "# load the data\n",
    "endmstuff = loadinst.load_file('Mouse_Tauopathy_Data_HigherQ_CCF.mat')\n",
    "data_DS4 = endmstuff['mousedata_struct_ccf'][0,0]['DS4'][0]['data'][0]\n",
    "data_DS4 = data_DS4/np.nansum(data_DS4[:,0])\n",
    "data_DS6 = endmstuff['mousedata_struct_ccf'][0,0]['DS6'][0]['data'][0]\n",
    "data_DS6 = data_DS6/np.nansum(data_DS6[:,0])\n",
    "data_DS7 = endmstuff['mousedata_struct_ccf'][0,0]['DS7'][0]['data'][0]\n",
    "data_DS7 = data_DS7/np.nansum(data_DS7[:,0])\n",
    "data_DS9 = endmstuff['mousedata_struct_ccf'][0,0]['DS9'][0]['data'][0]\n",
    "data_DS9 = data_DS9/np.nansum(data_DS9[:,0])\n",
    "data_DS6_110 = endmstuff['mousedata_struct_ccf'][0,0]['DS6_110'][0]['data'][0]\n",
    "data_DS6_110 = data_DS6_110/np.nansum(data_DS6_110[:,0])\n",
    "data_DS9_110 = endmstuff['mousedata_struct_ccf'][0,0]['DS9_110'][0]['data'][0]\n",
    "data_DS9_110 = data_DS9_110/np.nansum(data_DS9_110[:,0])\n",
    "seedvec = endmstuff['mousedata_struct_ccf'][0,0]['DS4'][0]['seed'][0]\n",
    "tpts = endmstuff['mousedata_struct_ccf'][0,0]['DS4'][0]['time_stamps'][0]\n",
    "tpts = np.ndarray.flatten(tpts)\n",
    "U = np.zeros([426,1]); # cell type or gene expression vector/matrix\n",
    "\n",
    "# the model for generate\n",
    "nexis_model = nx.run_Nexis(C, U, seedvec, tpts, w_dir_ = 1, volcorrect_ = 1) # Keep same"
   ]
  },
  {
   "cell_type": "markdown",
   "id": "b6960bf4",
   "metadata": {},
   "source": [
    "#### Set up Parameters"
   ]
  },
  {
   "cell_type": "code",
   "execution_count": 7,
   "id": "d9326efc",
   "metadata": {
    "ExecuteTime": {
     "end_time": "2023-06-16T18:22:38.008144Z",
     "start_time": "2023-06-16T18:22:37.994608Z"
    }
   },
   "outputs": [],
   "source": [
    "# some constant parameters for this file\n",
    "# typically not change\n",
    "paras_ = edict()\n",
    "paras_.n_types = U.shape[1]\n",
    "# same order to the function\n",
    "paras_.par_low = np.array([0, 0, 0, 0, -5, -5]) # Keep same\n",
    "# maybe play around with this one, lower paras_.par_high[1] to 3 and lower paras_.par_high[2] to 5(?)\n",
    "paras_.par_high = np.array([1, 10, 2, 1, 5, 5]) \n",
    "paras_.bds = np.array([paras_.par_low, paras_.par_high]).T\n",
    "paras_.names = [\"alpha\", \"beta\", \"gamma\", \"s\", \"b\", \"p\"]\n",
    "# the parameter for var transfomration\n",
    "# take the length of b and p into account\n",
    "paras_.bds_full = np.concatenate([paras_.bds[:-2], \n",
    "    np.repeat(paras_.bds[-2].reshape(1, -1), paras_.n_types, axis=0),\n",
    "    np.repeat(paras_.bds[-1].reshape(1, -1), paras_.n_types, axis=0),\n",
    "    ])\n",
    "paras_.k = 0.1 # Keep same\n",
    "\n",
    "# convert the trans-param back to the org params\n",
    "_para_trans2org = partial(para_trans2org, \n",
    "                          map_fn=partial(logistic_np, k=paras_.k))\n",
    "\n",
    "# Some hyperparams, tuning them for better results\n",
    "paras = edict()\n",
    "# the std of noise added to the simulated data, now my formula is simu_data * (1+noise)\n",
    "# You may want to tune it. Larger one, smoother of the posterior.\n",
    "paras.noise_sd = 1.75 # CHANGE THIS ONE: range [0,2] (maybe linear from 0 to 2, 0.2 step size)\n",
    "# The num of simulated sps used for training the model, 1e3 is too small, make it larger. \n",
    "# The larger, the better, but you also have to consider the computational burden.\n",
    "paras.num_prior_sps = int(50000) # CHANGE THIS ONE: range [1e4,2e5] (pick a few: 10000,50000,100000,200000)\n",
    "# The density estimator. \n",
    "# Without solid reason, do not change it \n",
    "paras.den_est = \"nsf\" # Keep same\n",
    "# The std of prior of the parameters\n",
    "# Without solid reason, do not change it \n",
    "# If you change it, you have to also adjust paras_.k\n",
    "paras.prior_sd = 10 # Keep same"
   ]
  },
  {
   "cell_type": "code",
   "execution_count": 8,
   "id": "221b3b6d",
   "metadata": {
    "ExecuteTime": {
     "end_time": "2023-06-16T18:22:38.760402Z",
     "start_time": "2023-06-16T18:22:38.740674Z"
    }
   },
   "outputs": [
    {
     "name": "stdout",
     "output_type": "stream",
     "text": [
      "folder is /data/rajlab1/user_data/lucia/Nexis_SBI/notebooks/../mypkg/../results/nexis_num50000_sd175_betaub10_gammaub2\n"
     ]
    }
   ],
   "source": [
    "# save the results\n",
    "_folder_path = f\"./nexis_num{paras.num_prior_sps:.0f}\" +\\\n",
    "               f\"_sd{paras.noise_sd*100:.0f}\" +\\\n",
    "               f\"_betaub{paras_.par_high[1]}\" +\\\n",
    "               f\"_gammaub{paras_.par_high[2]}\"\n",
    "paras.folder_path = RES_ROOT/_folder_path\n",
    "print(f\"folder is {paras.folder_path}\")\n",
    "if not paras.folder_path.exists():\n",
    "    paras.folder_path.mkdir()"
   ]
  },
  {
   "cell_type": "markdown",
   "id": "86923703",
   "metadata": {},
   "source": [
    "### Prepare for SBI"
   ]
  },
  {
   "cell_type": "code",
   "execution_count": 9,
   "id": "b4ee7118",
   "metadata": {
    "ExecuteTime": {
     "end_time": "2023-06-16T18:22:39.736632Z",
     "start_time": "2023-06-16T18:22:39.730143Z"
    }
   },
   "outputs": [],
   "source": [
    "# The main fn in SBI, simulate the data\n",
    "def simulator(para_trans, noise_sd):\n",
    "    \"\"\"I add noise by multiplying\"\"\"\n",
    "    para_org = _para_trans2org(para_trans, paras_.bds_full)\n",
    "    res = nexis_model.simulate_nexis(para_org);\n",
    "    # remove the part of simu-data corresponding to the nan in the real data\n",
    "    nonnan_idxs = ~np.isnan(data_DS4.sum(axis=1));\n",
    "    res = res[nonnan_idxs]\n",
    "    noise = np.random.randn(*res.shape)*noise_sd + 1\n",
    "    return res * noise "
   ]
  },
  {
   "cell_type": "code",
   "execution_count": 10,
   "id": "18b61a06",
   "metadata": {},
   "outputs": [],
   "source": [
    "# The main fn in SBI, simulate the data\n",
    "# def simulator(para_trans, noise_sd, data):\n",
    "#     \"\"\"I add noise by multiplying\"\"\"\n",
    "#     para_org = _para_trans2org(para_trans, paras_.bds_full)\n",
    "#     res = nexis_model.simulate_nexis(para_org);\n",
    "#     # remove the part of simu-data corresponding to the nan in the real data\n",
    "#     nonnan_idxs = ~np.isnan(data.sum(axis=1));\n",
    "#     res = res[nonnan_idxs]\n",
    "#     noise = np.random.randn(*res.shape)*noise_sd + 1\n",
    "#     return res * noise "
   ]
  },
  {
   "cell_type": "code",
   "execution_count": 11,
   "id": "23dff474",
   "metadata": {
    "ExecuteTime": {
     "end_time": "2023-06-16T18:22:40.642306Z",
     "start_time": "2023-06-16T18:22:40.619212Z"
    }
   },
   "outputs": [],
   "source": [
    "# The prior dist to generate the simulated data\n",
    "prior = MultivariateNormal(loc=torch.zeros(paras_.bds_full.shape[0]), \n",
    "                           covariance_matrix=torch.eye(paras_.bds_full.shape[0])*(paras.prior_sd**2))"
   ]
  },
  {
   "cell_type": "code",
   "execution_count": null,
   "id": "54329d44",
   "metadata": {},
   "outputs": [],
   "source": []
  },
  {
   "cell_type": "markdown",
   "id": "5a694c3b",
   "metadata": {},
   "source": [
    "### SBI"
   ]
  },
  {
   "cell_type": "code",
   "execution_count": 12,
   "id": "c82b5b02",
   "metadata": {
    "ExecuteTime": {
     "end_time": "2023-06-16T18:18:22.715307Z",
     "start_time": "2023-06-16T18:18:22.477139Z"
    }
   },
   "outputs": [],
   "source": [
    "simulator_sp = partial(simulator,  noise_sd=paras.noise_sd)\n",
    "# make a SBI-wrapper on the simulator object for compatibility\n",
    "simulator_wrapper, prior = prepare_for_sbi(simulator_sp, prior)"
   ]
  },
  {
   "cell_type": "code",
   "execution_count": 13,
   "id": "947b7ad7",
   "metadata": {},
   "outputs": [],
   "source": [
    "# simulator_sp = partial(simulator,  noise_sd=paras.noise_sd, data=data)\n",
    "# # make a SBI-wrapper on the simulator object for compatibility\n",
    "# simulator_wrapper, prior = prepare_for_sbi(simulator_sp, prior)"
   ]
  },
  {
   "cell_type": "code",
   "execution_count": null,
   "id": "013eacb0",
   "metadata": {},
   "outputs": [],
   "source": []
  },
  {
   "cell_type": "markdown",
   "id": "aa59351b",
   "metadata": {},
   "source": [
    "#### RUN"
   ]
  },
  {
   "cell_type": "code",
   "execution_count": 14,
   "id": "78809473",
   "metadata": {
    "ExecuteTime": {
     "end_time": "2023-06-16T18:18:55.374810Z",
     "start_time": "2023-06-16T18:18:26.014944Z"
    },
    "scrolled": true
   },
   "outputs": [
    {
     "data": {
      "application/vnd.jupyter.widget-view+json": {
       "model_id": "7991499c98fb4d4989231819d2d250a2",
       "version_major": 2,
       "version_minor": 0
      },
      "text/plain": [
       "Running 50000 simulations in 50000 batches.:   0%|          | 0/50000 [00:00<?, ?it/s]"
      ]
     },
     "metadata": {},
     "output_type": "display_data"
    },
    {
     "name": "stderr",
     "output_type": "stream",
     "text": [
      "/data/rajlab1/user_data/lucia/Nexis_SBI/notebooks/../mypkg/utils/reparam.py:32: UserWarning: masked_fill_ received a mask with dtype torch.uint8, this behavior is now deprecated,please use a mask with dtype torch.bool instead. (Triggered internally at  ../aten/src/ATen/native/TensorAdvancedIndexing.cpp:1582.)\n",
      "  res[np.isinf(num)] = 1\n",
      "/data/rajlab1/user_data/lucia/Nexis_SBI/notebooks/../mypkg/utils/reparam.py:32: UserWarning: masked_fill_ received a mask with dtype torch.uint8, this behavior is now deprecated,please use a mask with dtype torch.bool instead. (Triggered internally at  ../aten/src/ATen/native/TensorAdvancedIndexing.cpp:1582.)\n",
      "  res[np.isinf(num)] = 1\n",
      "/data/rajlab1/user_data/lucia/Nexis_SBI/notebooks/../mypkg/utils/reparam.py:32: UserWarning: masked_fill_ received a mask with dtype torch.uint8, this behavior is now deprecated,please use a mask with dtype torch.bool instead. (Triggered internally at  ../aten/src/ATen/native/TensorAdvancedIndexing.cpp:1582.)\n",
      "  res[np.isinf(num)] = 1\n",
      "/data/rajlab1/user_data/lucia/Nexis_SBI/notebooks/../mypkg/utils/reparam.py:32: UserWarning: masked_fill_ received a mask with dtype torch.uint8, this behavior is now deprecated,please use a mask with dtype torch.bool instead. (Triggered internally at  ../aten/src/ATen/native/TensorAdvancedIndexing.cpp:1582.)\n",
      "  res[np.isinf(num)] = 1\n",
      "/data/rajlab1/user_data/lucia/Nexis_SBI/notebooks/../mypkg/utils/reparam.py:32: UserWarning: masked_fill_ received a mask with dtype torch.uint8, this behavior is now deprecated,please use a mask with dtype torch.bool instead. (Triggered internally at  ../aten/src/ATen/native/TensorAdvancedIndexing.cpp:1582.)\n",
      "  res[np.isinf(num)] = 1\n",
      "/data/rajlab1/user_data/lucia/Nexis_SBI/notebooks/../mypkg/utils/reparam.py:32: UserWarning: masked_fill_ received a mask with dtype torch.uint8, this behavior is now deprecated,please use a mask with dtype torch.bool instead. (Triggered internally at  ../aten/src/ATen/native/TensorAdvancedIndexing.cpp:1582.)\n",
      "  res[np.isinf(num)] = 1\n",
      "/data/rajlab1/user_data/lucia/Nexis_SBI/notebooks/../mypkg/utils/reparam.py:32: UserWarning: masked_fill_ received a mask with dtype torch.uint8, this behavior is now deprecated,please use a mask with dtype torch.bool instead. (Triggered internally at  ../aten/src/ATen/native/TensorAdvancedIndexing.cpp:1582.)\n",
      "  res[np.isinf(num)] = 1\n",
      "/data/rajlab1/user_data/lucia/Nexis_SBI/notebooks/../mypkg/utils/reparam.py:32: UserWarning: masked_fill_ received a mask with dtype torch.uint8, this behavior is now deprecated,please use a mask with dtype torch.bool instead. (Triggered internally at  ../aten/src/ATen/native/TensorAdvancedIndexing.cpp:1582.)\n",
      "  res[np.isinf(num)] = 1\n",
      "/data/rajlab1/user_data/lucia/Nexis_SBI/notebooks/../mypkg/utils/reparam.py:32: UserWarning: masked_fill_ received a mask with dtype torch.uint8, this behavior is now deprecated,please use a mask with dtype torch.bool instead. (Triggered internally at  ../aten/src/ATen/native/TensorAdvancedIndexing.cpp:1582.)\n",
      "  res[np.isinf(num)] = 1\n",
      "/data/rajlab1/user_data/lucia/Nexis_SBI/notebooks/../mypkg/utils/reparam.py:32: UserWarning: masked_fill_ received a mask with dtype torch.uint8, this behavior is now deprecated,please use a mask with dtype torch.bool instead. (Triggered internally at  ../aten/src/ATen/native/TensorAdvancedIndexing.cpp:1582.)\n",
      "  res[np.isinf(num)] = 1\n"
     ]
    }
   ],
   "source": [
    "# generate the simulated sps\n",
    "params, x = simulate_for_sbi(simulator_wrapper, prior, \n",
    "                            num_simulations=int(paras.num_prior_sps), \n",
    "                            num_workers=10); # Don't change"
   ]
  },
  {
   "cell_type": "code",
   "execution_count": 15,
   "id": "3783abdd",
   "metadata": {
    "ExecuteTime": {
     "end_time": "2023-06-16T18:23:45.497628Z",
     "start_time": "2023-06-16T18:22:48.743572Z"
    },
    "scrolled": true
   },
   "outputs": [
    {
     "name": "stdout",
     "output_type": "stream",
     "text": [
      " Neural network successfully converged after 27 epochs."
     ]
    }
   ],
   "source": [
    "# training and get the posterior\n",
    "inference = SNPE(prior=prior, density_estimator=paras.den_est)\n",
    "density_estimator = inference.append_simulations(params, x).train()\n",
    "posterior = inference.build_posterior(density_estimator)"
   ]
  },
  {
   "cell_type": "code",
   "execution_count": 16,
   "id": "7e2bb5bb",
   "metadata": {
    "ExecuteTime": {
     "end_time": "2023-06-16T18:23:52.282606Z",
     "start_time": "2023-06-16T18:23:52.063690Z"
    }
   },
   "outputs": [
    {
     "name": "stdout",
     "output_type": "stream",
     "text": [
      "Save to /data/rajlab1/user_data/lucia/Nexis_SBI/notebooks/../mypkg/../results/nexis_num50000_sd175_betaub10_gammaub2/params_trans.pkl\n",
      "Save to /data/rajlab1/user_data/lucia/Nexis_SBI/notebooks/../mypkg/../results/nexis_num50000_sd175_betaub10_gammaub2/x.pkl\n",
      "Save to /data/rajlab1/user_data/lucia/Nexis_SBI/notebooks/../mypkg/../results/nexis_num50000_sd175_betaub10_gammaub2/posterior.pkl\n"
     ]
    }
   ],
   "source": [
    "# save it \n",
    "cur_res = edict()\n",
    "cur_res.params_trans = params\n",
    "cur_res.x = x\n",
    "cur_res.posterior = posterior\n",
    "save_pkl_dict2folder(paras.folder_path, cur_res, is_force=True)"
   ]
  },
  {
   "cell_type": "markdown",
   "id": "304320dd",
   "metadata": {},
   "source": [
    "### Posterior and scatterplots"
   ]
  },
  {
   "cell_type": "code",
   "execution_count": 17,
   "id": "5b8c4743",
   "metadata": {},
   "outputs": [
    {
     "name": "stdout",
     "output_type": "stream",
     "text": [
      "Load file /data/rajlab1/user_data/lucia/Nexis_SBI/notebooks/../mypkg/../results/nexis_num50000_sd175_betaub10_gammaub2/posterior.pkl\n"
     ]
    }
   ],
   "source": [
    "#load\n",
    "cur_res = load_pkl_folder2dict(paras.folder_path, [\"x\", \"para*\"]);"
   ]
  },
  {
   "cell_type": "code",
   "execution_count": 18,
   "id": "a3de2bb7",
   "metadata": {},
   "outputs": [
    {
     "data": {
      "application/vnd.jupyter.widget-view+json": {
       "model_id": "cba2d91fa55a4106a4a0a142b3084494",
       "version_major": 2,
       "version_minor": 0
      },
      "text/plain": [
       "Drawing 1000 posterior samples:   0%|          | 0/1000 [00:00<?, ?it/s]"
      ]
     },
     "metadata": {},
     "output_type": "display_data"
    },
    {
     "name": "stdout",
     "output_type": "stream",
     "text": [
      "[ 0.23424726  3.24080627  0.37437286  0.46992164  0.46357113 -0.03930225]\n"
     ]
    }
   ],
   "source": [
    "#DS4\n",
    "# just to remove nan\n",
    "# now my real data has nan, you should find a way to handle the nan\n",
    "nonnan_idxs = np.isnan(data_DS4).sum(axis=1)==0\n",
    "data_DS4_part = data_DS4[nonnan_idxs];\n",
    "cur_x_DS4 = data_DS4_part.flatten();\n",
    "cur_x_DS4 = torch.Tensor(cur_x_DS4)\n",
    "post_sps_trans_DS4 = cur_res.posterior.sample((1000, ),  x=cur_x_DS4);\n",
    "#cur_res.post_sps_trans_DS4 = post_sps_trans_DS4\n",
    "post_sps_org_DS4 = _para_trans2org(post_sps_trans_DS4, paras_.bds_full); # 1000 samples forming the posteriors of the parameters in the original space\n",
    "\n",
    "# Query posterior statistics\n",
    "param_post_DS4 = np.array(post_sps_org_DS4) # Convert to numpy array\n",
    "postmean_DS4 = np.mean(param_post_DS4,axis = 0) # Take mean over simulations (or whichever statistic you want, e.g. median, mode)\n",
    "print(postmean_DS4)\n"
   ]
  },
  {
   "cell_type": "code",
   "execution_count": 19,
   "id": "336cf3ad",
   "metadata": {},
   "outputs": [
    {
     "name": "stdout",
     "output_type": "stream",
     "text": [
      "R_all_DS4 = 0.55\n",
      "R_1_DS4 = 0.68\n",
      "R_2_DS4 = 0.53\n",
      "R_3_DS4 = 0.26\n"
     ]
    }
   ],
   "source": [
    "# Test out overall model fit using the mean of the parameters\n",
    "y_DS4 = nexis_model.simulate_nexis(postmean_DS4) # Run the Nexis model using the best estimate of the parameters\n",
    "y_DS4_part = y_DS4[nonnan_idxs] # remove unsampled regions\n",
    "test = np.shape(y_DS4_part)\n",
    "test = test[0]\n",
    "y_DS4_part_vec = np.reshape(y_DS4_part,(test*3,1)) # Flatten all time points of model simulation into a vector\n",
    "y_DS4_part_vec = np.ndarray.flatten(y_DS4_part_vec)\n",
    "data_DS4_part_vec = np.reshape(data_DS4_part,(test*3,1)) # Flatten all time points of data into a vector\n",
    "data_DS4_part_vec = np.ndarray.flatten(data_DS4_part_vec)\n",
    "\n",
    "R_all_DS4 = np.corrcoef(y_DS4_part_vec,data_DS4_part_vec)# Calculate R\n",
    "R_all_DS4 = R_all_DS4[0,1]\n",
    "R_1_DS4 = np.corrcoef(y_DS4_part[:,0],data_DS4_part[:,0])# Calculate R\n",
    "R_1_DS4 = R_1_DS4[0,1]\n",
    "R_2_DS4 = np.corrcoef(y_DS4_part[:,1],data_DS4_part[:,1])# Calculate R\n",
    "R_2_DS4 = R_2_DS4[0,1]\n",
    "R_3_DS4 = np.corrcoef(y_DS4_part[:,2],data_DS4_part[:,2])# Calculate R\n",
    "R_3_DS4 = R_3_DS4[0,1]\n",
    "\n",
    "print(f'R_all_DS4 = {R_all_DS4:.2f}')\n",
    "print(f'R_1_DS4 = {R_1_DS4:.2f}')\n",
    "print(f'R_2_DS4 = {R_2_DS4:.2f}')\n",
    "print(f'R_3_DS4 = {R_3_DS4:.2f}')\n"
   ]
  },
  {
   "cell_type": "code",
   "execution_count": 20,
   "id": "239e0671",
   "metadata": {},
   "outputs": [
    {
     "data": {
      "image/png": "[encoded data removed]",
      "text/plain": [
       "<Figure size 432x288 with 1 Axes>"
      ]
     },
     "metadata": {
      "needs_background": "light"
     },
     "output_type": "display_data"
    }
   ],
   "source": [
    "plt.plot(y_DS4_part[:,0],data_DS4_part[:,0],\"ro\")\n",
    "plt.plot(y_DS4_part[:,1],data_DS4_part[:,1],\"go\")\n",
    "plt.plot(y_DS4_part[:,2],data_DS4_part[:,2],\"bo\")\n",
    "plt.ylabel(\"DS4 data\")\n",
    "plt.xlabel(\"DS4 SBI\")\n",
    "plt.show()"
   ]
  },
  {
   "cell_type": "code",
   "execution_count": 21,
   "id": "ebc08358",
   "metadata": {},
   "outputs": [
    {
     "data": {
      "application/vnd.jupyter.widget-view+json": {
       "model_id": "fd3e12b2f4f94f9f938798e95110cd99",
       "version_major": 2,
       "version_minor": 0
      },
      "text/plain": [
       "Drawing 1000 posterior samples:   0%|          | 0/1000 [00:00<?, ?it/s]"
      ]
     },
     "metadata": {},
     "output_type": "display_data"
    },
    {
     "name": "stdout",
     "output_type": "stream",
     "text": [
      "[ 0.27390746  2.44244752  0.41771188  0.46145461  0.31972698 -0.1298806 ]\n"
     ]
    }
   ],
   "source": [
    "#DS6\n",
    "# just to remove nan\n",
    "# now my real data has nan, you should find a way to handle the nan\n",
    "nonnan_idxs = np.isnan(data_DS6).sum(axis=1)==0\n",
    "data_DS6_part = data_DS6[nonnan_idxs];\n",
    "cur_x_DS6 = data_DS6_part.flatten();\n",
    "cur_x_DS6 = torch.Tensor(cur_x_DS6)\n",
    "post_sps_trans_DS6 = cur_res.posterior.sample((1000, ),  x=cur_x_DS6);\n",
    "#cur_res.post_sps_trans_DS6 = post_sps_trans_DS6\n",
    "post_sps_org_DS6 = _para_trans2org(post_sps_trans_DS6, paras_.bds_full); # 1000 samples forming the posteriors of the parameters in the original space\n",
    "\n",
    "# Query posterior statistics\n",
    "param_post_DS6 = np.array(post_sps_org_DS6) # Convert to numpy array\n",
    "postmean_DS6 = np.mean(param_post_DS6,axis = 0) # Take mean over simulations (or whichever statistic you want, e.g. median, mode)\n",
    "print(postmean_DS6)\n",
    "\n"
   ]
  },
  {
   "cell_type": "code",
   "execution_count": 22,
   "id": "a8a07d54",
   "metadata": {},
   "outputs": [
    {
     "name": "stdout",
     "output_type": "stream",
     "text": [
      "R_all_DS6 = 0.62\n",
      "R_1_DS6 = 0.59\n",
      "R_2_DS6 = 0.57\n",
      "R_3_DS6 = 0.61\n"
     ]
    }
   ],
   "source": [
    "#### Test out overall model fit using the mean of the parameters\n",
    "\n",
    "y_DS6 = nexis_model.simulate_nexis(postmean_DS6) # Run the Nexis model using the best estimate of the parameters\n",
    "y_DS6_part = y_DS6[nonnan_idxs] # remove unsampled regions\n",
    "test = np.shape(y_DS6_part)\n",
    "test = test[0]\n",
    "y_DS6_part_vec = np.reshape(y_DS6_part,(test*3,1)) # Flatten all time points of model simulation into a vector\n",
    "y_DS6_part_vec = np.ndarray.flatten(y_DS6_part_vec)\n",
    "data_DS6_part_vec = np.reshape(data_DS6_part,(test*3,1)) # Flatten all time points of data into a vector\n",
    "data_DS6_part_vec = np.ndarray.flatten(data_DS6_part_vec)\n",
    "\n",
    "R_all_DS6 = np.corrcoef(y_DS6_part_vec,data_DS6_part_vec)# Calculate R\n",
    "R_all_DS6 = R_all_DS6[0,1]\n",
    "R_1_DS6 = np.corrcoef(y_DS6_part[:,0],data_DS6_part[:,0])# Calculate R\n",
    "R_1_DS6 = R_1_DS6[0,1]\n",
    "R_2_DS6 = np.corrcoef(y_DS6_part[:,1],data_DS6_part[:,1])# Calculate R\n",
    "R_2_DS6 = R_2_DS6[0,1]\n",
    "R_3_DS6 = np.corrcoef(y_DS6_part[:,2],data_DS6_part[:,2])# Calculate R\n",
    "R_3_DS6 = R_3_DS6[0,1]\n",
    "\n",
    "print(f'R_all_DS6 = {R_all_DS6:.2f}')\n",
    "print(f'R_1_DS6 = {R_1_DS6:.2f}')\n",
    "print(f'R_2_DS6 = {R_2_DS6:.2f}')\n",
    "print(f'R_3_DS6 = {R_3_DS6:.2f}')"
   ]
  },
  {
   "cell_type": "code",
   "execution_count": 23,
   "id": "418c419e",
   "metadata": {},
   "outputs": [
    {
     "data": {
      "image/png": "[encoded data removed]",
      "text/plain": [
       "<Figure size 432x288 with 1 Axes>"
      ]
     },
     "metadata": {
      "needs_background": "light"
     },
     "output_type": "display_data"
    }
   ],
   "source": [
    "plt.plot(y_DS6_part[:,0],data_DS6_part[:,0],\"ro\")\n",
    "plt.plot(y_DS6_part[:,1],data_DS6_part[:,1],\"go\")\n",
    "plt.plot(y_DS6_part[:,2],data_DS6_part[:,2],\"bo\")\n",
    "plt.ylabel(\"DS6 data\")\n",
    "plt.xlabel(\"DS6 SBI\")\n",
    "plt.show()"
   ]
  },
  {
   "cell_type": "code",
   "execution_count": 24,
   "id": "77cfceda",
   "metadata": {},
   "outputs": [
    {
     "data": {
      "application/vnd.jupyter.widget-view+json": {
       "model_id": "c009212ce4ec4494a1624f61e152372f",
       "version_major": 2,
       "version_minor": 0
      },
      "text/plain": [
       "Drawing 1000 posterior samples:   0%|          | 0/1000 [00:00<?, ?it/s]"
      ]
     },
     "metadata": {},
     "output_type": "display_data"
    },
    {
     "name": "stdout",
     "output_type": "stream",
     "text": [
      "[ 0.25561917  3.04836191  0.37707703  0.57695317  0.36842621 -0.16020767]\n"
     ]
    }
   ],
   "source": [
    "#DS6_110\n",
    "# just to remove nan\n",
    "# now my real data has nan, you should find a way to handle the nan\n",
    "nonnan_idxs = np.isnan(data_DS6_110).sum(axis=1)==0\n",
    "data_DS6_110_part = data_DS6_110[nonnan_idxs];\n",
    "cur_x_DS6_110 = data_DS6_110_part.flatten();\n",
    "cur_x_DS6_110 = torch.Tensor(cur_x_DS6_110)\n",
    "post_sps_trans_DS6_110 = cur_res.posterior.sample((1000, ),  x=cur_x_DS6_110);\n",
    "#cur_res.post_sps_trans_DS6_110 = post_sps_trans_DS6_110\n",
    "post_sps_org_DS6_110 = _para_trans2org(post_sps_trans_DS6_110, paras_.bds_full); # 1000 samples forming the posteriors of the parameters in the original space\n",
    "\n",
    "# Query posterior statistics\n",
    "param_post_DS6_110 = np.array(post_sps_org_DS6_110) # Convert to numpy array\n",
    "postmean_DS6_110 = np.mean(param_post_DS6_110,axis = 0) # Take mean over simulations (or whichever statistic you want, e.g. median, mode)\n",
    "print(postmean_DS6_110)\n",
    "\n"
   ]
  },
  {
   "cell_type": "code",
   "execution_count": 25,
   "id": "9e7a1991",
   "metadata": {},
   "outputs": [
    {
     "name": "stdout",
     "output_type": "stream",
     "text": [
      "R_all_DS6_110 = 0.51\n",
      "R_1_DS6_110 = 0.20\n",
      "R_2_DS6_110 = 0.56\n",
      "R_3_DS6_110 = 0.56\n"
     ]
    }
   ],
   "source": [
    "# Test out overall model fit using the mean of the parameters\n",
    "y_DS6_110 = nexis_model.simulate_nexis(postmean_DS6_110) # Run the Nexis model using the best estimate of the parameters\n",
    "y_DS6_110_part = y_DS6_110[nonnan_idxs] # remove unsampled regions\n",
    "test = np.shape(y_DS6_110_part)\n",
    "test = test[0]\n",
    "y_DS6_110_part_vec = np.reshape(y_DS6_110_part,(test*3,1)) # Flatten all time points of model simulation into a vector\n",
    "y_DS6_110_part_vec = np.ndarray.flatten(y_DS6_110_part_vec)\n",
    "data_DS6_110_part_vec = np.reshape(data_DS6_110_part,(test*3,1)) # Flatten all time points of data into a vector\n",
    "data_DS6_110_part_vec = np.ndarray.flatten(data_DS6_110_part_vec)\n",
    "\n",
    "R_all_DS6_110 = np.corrcoef(y_DS6_110_part_vec,data_DS6_110_part_vec)# Calculate R\n",
    "R_all_DS6_110 = R_all_DS6_110[0,1]\n",
    "R_1_DS6_110 = np.corrcoef(y_DS6_110_part[:,0],data_DS6_110_part[:,0])# Calculate R\n",
    "R_1_DS6_110 = R_1_DS6_110[0,1]\n",
    "R_2_DS6_110 = np.corrcoef(y_DS6_110_part[:,1],data_DS6_110_part[:,1])# Calculate R\n",
    "R_2_DS6_110 = R_2_DS6_110[0,1]\n",
    "R_3_DS6_110 = np.corrcoef(y_DS6_110_part[:,2],data_DS6_110_part[:,2])# Calculate R\n",
    "R_3_DS6_110 = R_3_DS6_110[0,1]\n",
    "\n",
    "print(f'R_all_DS6_110 = {R_all_DS6_110:.2f}')\n",
    "print(f'R_1_DS6_110 = {R_1_DS6_110:.2f}')\n",
    "print(f'R_2_DS6_110 = {R_2_DS6_110:.2f}')\n",
    "print(f'R_3_DS6_110 = {R_3_DS6_110:.2f}')"
   ]
  },
  {
   "cell_type": "code",
   "execution_count": 26,
   "id": "0f1bb50f",
   "metadata": {},
   "outputs": [
    {
     "data": {
      "image/png": "[encoded data removed]",
      "text/plain": [
       "<Figure size 432x288 with 1 Axes>"
      ]
     },
     "metadata": {
      "needs_background": "light"
     },
     "output_type": "display_data"
    }
   ],
   "source": [
    "plt.plot(y_DS6_110_part[:,0],data_DS6_110_part[:,0],\"ro\")\n",
    "plt.plot(y_DS6_110_part[:,1],data_DS6_110_part[:,1],\"go\")\n",
    "plt.plot(y_DS6_110_part[:,2],data_DS6_110_part[:,2],\"bo\")\n",
    "plt.ylabel(\"DS6_110 data\")\n",
    "plt.xlabel(\"DS6_110 SBI\")\n",
    "plt.show()"
   ]
  },
  {
   "cell_type": "code",
   "execution_count": 27,
   "id": "ef9f41a1",
   "metadata": {},
   "outputs": [
    {
     "data": {
      "application/vnd.jupyter.widget-view+json": {
       "model_id": "1941ee6c2af044e3b1768d9dbd4a05e6",
       "version_major": 2,
       "version_minor": 0
      },
      "text/plain": [
       "Drawing 1000 posterior samples:   0%|          | 0/1000 [00:00<?, ?it/s]"
      ]
     },
     "metadata": {},
     "output_type": "display_data"
    },
    {
     "name": "stdout",
     "output_type": "stream",
     "text": [
      "[ 0.27698005  2.40527405  0.35370293  0.41346289  0.43475554 -0.05770504]\n"
     ]
    }
   ],
   "source": [
    "#DS7\n",
    "# just to remove nan\n",
    "# now my real data has nan, you should find a way to handle the nan\n",
    "nonnan_idxs = np.isnan(data_DS7).sum(axis=1)==0\n",
    "data_DS7_part = data_DS7[nonnan_idxs];\n",
    "cur_x_DS7 = data_DS7_part.flatten();\n",
    "cur_x_DS7 = torch.Tensor(cur_x_DS7)\n",
    "post_sps_trans_DS7 = cur_res.posterior.sample((1000, ),  x=cur_x_DS7);\n",
    "#cur_res.post_sps_trans_DS7 = post_sps_trans_DS7\n",
    "post_sps_org_DS7 = _para_trans2org(post_sps_trans_DS7, paras_.bds_full); # 1000 samples forming the posteriors of the parameters in the original space\n",
    "\n",
    "# Query posterior statistics\n",
    "param_post_DS7 = np.array(post_sps_org_DS7) # Convert to numpy array\n",
    "postmean_DS7 = np.mean(param_post_DS7,axis = 0) # Take mean over simulations (or whichever statistic you want, e.g. median, mode)\n",
    "print(postmean_DS7)"
   ]
  },
  {
   "cell_type": "code",
   "execution_count": 28,
   "id": "e186dfc0",
   "metadata": {},
   "outputs": [
    {
     "name": "stdout",
     "output_type": "stream",
     "text": [
      "R_all_DS7 = 0.55\n",
      "R_1_DS7 = 0.63\n",
      "R_2_DS7 = 0.56\n",
      "R_3_DS7 = 0.52\n"
     ]
    }
   ],
   "source": [
    "# Test out overall model fit using the mean of the parameters\n",
    "y_DS7 = nexis_model.simulate_nexis(postmean_DS7) # Run the Nexis model using the best estimate of the parameters\n",
    "y_DS7_part = y_DS7[nonnan_idxs] # remove unsampled regions\n",
    "test = np.shape(y_DS7_part)\n",
    "test = test[0]\n",
    "y_DS7_part_vec = np.reshape(y_DS7_part,(test*3,1)) # Flatten all time points of model simulation into a vector\n",
    "y_DS7_part_vec = np.ndarray.flatten(y_DS7_part_vec)\n",
    "data_DS7_part_vec = np.reshape(data_DS7_part,(test*3,1)) # Flatten all time points of data into a vector\n",
    "data_DS7_part_vec = np.ndarray.flatten(data_DS7_part_vec)\n",
    "\n",
    "R_all_DS7 = np.corrcoef(y_DS7_part_vec,data_DS7_part_vec)# Calculate R\n",
    "R_all_DS7 = R_all_DS7[0,1]\n",
    "R_1_DS7 = np.corrcoef(y_DS7_part[:,0],data_DS7_part[:,0])# Calculate R\n",
    "R_1_DS7 = R_1_DS7[0,1]\n",
    "R_2_DS7 = np.corrcoef(y_DS7_part[:,1],data_DS7_part[:,1])# Calculate R\n",
    "R_2_DS7 = R_2_DS7[0,1]\n",
    "R_3_DS7 = np.corrcoef(y_DS7_part[:,2],data_DS7_part[:,2])# Calculate R\n",
    "R_3_DS7 = R_3_DS7[0,1]\n",
    "\n",
    "print(f'R_all_DS7 = {R_all_DS7:.2f}')\n",
    "print(f'R_1_DS7 = {R_1_DS7:.2f}')\n",
    "print(f'R_2_DS7 = {R_2_DS7:.2f}')\n",
    "print(f'R_3_DS7 = {R_3_DS7:.2f}')"
   ]
  },
  {
   "cell_type": "code",
   "execution_count": 29,
   "id": "c12d447c",
   "metadata": {},
   "outputs": [
    {
     "data": {
      "image/png": "[encoded data removed]",
      "text/plain": [
       "<Figure size 432x288 with 1 Axes>"
      ]
     },
     "metadata": {
      "needs_background": "light"
     },
     "output_type": "display_data"
    }
   ],
   "source": [
    "plt.plot(y_DS7_part[:,0],data_DS7_part[:,0],\"ro\")\n",
    "plt.plot(y_DS7_part[:,1],data_DS7_part[:,1],\"go\")\n",
    "plt.plot(y_DS7_part[:,2],data_DS7_part[:,2],\"bo\")\n",
    "plt.ylabel(\"DS7 data\")\n",
    "plt.xlabel(\"DS7 SBI\")\n",
    "plt.show()"
   ]
  },
  {
   "cell_type": "code",
   "execution_count": 30,
   "id": "21b37121",
   "metadata": {},
   "outputs": [
    {
     "data": {
      "application/vnd.jupyter.widget-view+json": {
       "model_id": "4687da017f5940cba9c8149f49fb6ea2",
       "version_major": 2,
       "version_minor": 0
      },
      "text/plain": [
       "Drawing 1000 posterior samples:   0%|          | 0/1000 [00:00<?, ?it/s]"
      ]
     },
     "metadata": {},
     "output_type": "display_data"
    },
    {
     "name": "stdout",
     "output_type": "stream",
     "text": [
      "[ 0.22031584  4.67350031  0.3536997   0.45564021  0.3118354  -0.07656351]\n"
     ]
    }
   ],
   "source": [
    "#DS9\n",
    "# just to remove nan\n",
    "# now my real data has nan, you should find a way to handle the nan\n",
    "nonnan_idxs = np.isnan(data_DS9).sum(axis=1)==0\n",
    "data_DS9_part = data_DS9[nonnan_idxs];\n",
    "cur_x_DS9 = data_DS9_part.flatten();\n",
    "cur_x_DS9 = torch.Tensor(cur_x_DS9)\n",
    "post_sps_trans_DS9 = cur_res.posterior.sample((1000, ),  x=cur_x_DS9);\n",
    "#cur_res.post_sps_trans_DS9 = post_sps_trans_DS9\n",
    "post_sps_org_DS9 = _para_trans2org(post_sps_trans_DS9, paras_.bds_full); # 1000 samples forming the posteriors of the parameters in the original space\n",
    "\n",
    "# Query posterior statistics\n",
    "param_post_DS9 = np.array(post_sps_org_DS9) # Convert to numpy array\n",
    "postmean_DS9 = np.mean(param_post_DS9,axis = 0) # Take mean over simulations (or whichever statistic you want, e.g. median, mode)\n",
    "print(postmean_DS9)"
   ]
  },
  {
   "cell_type": "code",
   "execution_count": 31,
   "id": "7fd6ad75",
   "metadata": {},
   "outputs": [
    {
     "name": "stdout",
     "output_type": "stream",
     "text": [
      "R_all_DS9 = 0.62\n",
      "R_1_DS9 = 0.41\n",
      "R_2_DS9 = 0.53\n",
      "R_3_DS9 = 0.54\n"
     ]
    }
   ],
   "source": [
    "# Test out overall model fit using the mean of the parameters\n",
    "y_DS9 = nexis_model.simulate_nexis(postmean_DS9) # Run the Nexis model using the best estimate of the parameters\n",
    "y_DS9_part = y_DS9[nonnan_idxs] # remove unsampled regions\n",
    "test = np.shape(y_DS9_part)\n",
    "test = test[0]\n",
    "y_DS9_part_vec = np.reshape(y_DS9_part,(test*3,1)) # Flatten all time points of model simulation into a vector\n",
    "y_DS9_part_vec = np.ndarray.flatten(y_DS9_part_vec)\n",
    "data_DS9_part_vec = np.reshape(data_DS9_part,(test*3,1)) # Flatten all time points of data into a vector\n",
    "data_DS9_part_vec = np.ndarray.flatten(data_DS9_part_vec)\n",
    "\n",
    "R_all_DS9 = np.corrcoef(y_DS9_part_vec,data_DS9_part_vec)# Calculate R\n",
    "R_all_DS9 = R_all_DS9[0,1]\n",
    "R_1_DS9 = np.corrcoef(y_DS9_part[:,0],data_DS9_part[:,0])# Calculate R\n",
    "R_1_DS9 = R_1_DS9[0,1]\n",
    "R_2_DS9 = np.corrcoef(y_DS9_part[:,1],data_DS9_part[:,1])# Calculate R\n",
    "R_2_DS9 = R_2_DS9[0,1]\n",
    "R_3_DS9 = np.corrcoef(y_DS9_part[:,2],data_DS9_part[:,2])# Calculate R\n",
    "R_3_DS9 = R_3_DS9[0,1]\n",
    "\n",
    "print(f'R_all_DS9 = {R_all_DS9:.2f}')\n",
    "print(f'R_1_DS9 = {R_1_DS9:.2f}')\n",
    "print(f'R_2_DS9 = {R_2_DS9:.2f}')\n",
    "print(f'R_3_DS9 = {R_3_DS9:.2f}')"
   ]
  },
  {
   "cell_type": "code",
   "execution_count": 32,
   "id": "3221cd8a",
   "metadata": {},
   "outputs": [
    {
     "data": {
      "image/png": "[encoded data removed]",
      "text/plain": [
       "<Figure size 432x288 with 1 Axes>"
      ]
     },
     "metadata": {
      "needs_background": "light"
     },
     "output_type": "display_data"
    }
   ],
   "source": [
    "plt.plot(y_DS9_part[:,0],data_DS9_part[:,0],\"ro\")\n",
    "plt.plot(y_DS9_part[:,1],data_DS9_part[:,1],\"go\")\n",
    "plt.plot(y_DS9_part[:,2],data_DS9_part[:,2],\"bo\")\n",
    "plt.ylabel(\"DS9 data\")\n",
    "plt.xlabel(\"DS9 SBI\")\n",
    "plt.show()"
   ]
  },
  {
   "cell_type": "code",
   "execution_count": 33,
   "id": "71fb88f8",
   "metadata": {},
   "outputs": [
    {
     "data": {
      "application/vnd.jupyter.widget-view+json": {
       "model_id": "6f8895e7e8f84532b6228d08eb751b68",
       "version_major": 2,
       "version_minor": 0
      },
      "text/plain": [
       "Drawing 1000 posterior samples:   0%|          | 0/1000 [00:00<?, ?it/s]"
      ]
     },
     "metadata": {},
     "output_type": "display_data"
    },
    {
     "name": "stdout",
     "output_type": "stream",
     "text": [
      "[ 0.30370912  2.51697473  0.33794594  0.46529338  0.3257833  -0.20505082]\n"
     ]
    }
   ],
   "source": [
    "#DS9_110\n",
    "# just to remove nan\n",
    "# now my real data has nan, you should find a way to handle the nan\n",
    "nonnan_idxs = np.isnan(data_DS9_110).sum(axis=1)==0\n",
    "data_DS9_110_part = data_DS9_110[nonnan_idxs];\n",
    "cur_x_DS9_110 = data_DS9_110_part.flatten();\n",
    "cur_x_DS9_110 = torch.Tensor(cur_x_DS9_110)\n",
    "post_sps_trans_DS9_110 = cur_res.posterior.sample((1000, ),  x=cur_x_DS9_110);\n",
    "#cur_res.post_sps_trans_DS9_110 = post_sps_trans_DS9_110\n",
    "post_sps_org_DS9_110 = _para_trans2org(post_sps_trans_DS9_110, paras_.bds_full); # 1000 samples forming the posteriors of the parameters in the original space\n",
    "\n",
    "# Query posterior statistics\n",
    "param_post_DS9_110 = np.array(post_sps_org_DS9_110) # Convert to numpy array\n",
    "postmean_DS9_110 = np.mean(param_post_DS9_110,axis = 0) # Take mean over simulations (or whichever statistic you want, e.g. median, mode)\n",
    "print(postmean_DS9_110)"
   ]
  },
  {
   "cell_type": "code",
   "execution_count": 34,
   "id": "c073084f",
   "metadata": {},
   "outputs": [
    {
     "name": "stdout",
     "output_type": "stream",
     "text": [
      "R_all_DS9_110 = 0.62\n",
      "R_1_DS9_110 = 0.63\n",
      "R_2_DS9_110 = 0.35\n",
      "R_3_DS9_110 = 0.55\n"
     ]
    }
   ],
   "source": [
    "# Test out overall model fit using the mean of the parameters\n",
    "y_DS9_110 = nexis_model.simulate_nexis(postmean_DS9_110) # Run the Nexis model using the best estimate of the parameters\n",
    "y_DS9_110_part = y_DS9_110[nonnan_idxs] # remove unsampled regions\n",
    "test = np.shape(y_DS9_110_part)\n",
    "test = test[0]\n",
    "y_DS9_110_part_vec = np.reshape(y_DS9_110_part,(test*3,1)) # Flatten all time points of model simulation into a vector\n",
    "y_DS9_110_part_vec = np.ndarray.flatten(y_DS9_110_part_vec)\n",
    "data_DS9_110_part_vec = np.reshape(data_DS9_110_part,(test*3,1)) # Flatten all time points of data into a vector\n",
    "data_DS9_110_part_vec = np.ndarray.flatten(data_DS9_110_part_vec)\n",
    "\n",
    "R_all_DS9_110 = np.corrcoef(y_DS9_110_part_vec,data_DS9_110_part_vec)# Calculate R\n",
    "R_all_DS9_110 = R_all_DS9_110[0,1]\n",
    "R_1_DS9_110 = np.corrcoef(y_DS9_110_part[:,0],data_DS9_110_part[:,0])# Calculate R\n",
    "R_1_DS9_110 = R_1_DS9_110[0,1]\n",
    "R_2_DS9_110 = np.corrcoef(y_DS9_110_part[:,1],data_DS9_110_part[:,1])# Calculate R\n",
    "R_2_DS9_110 = R_2_DS9_110[0,1]\n",
    "R_3_DS9_110 = np.corrcoef(y_DS9_110_part[:,2],data_DS9_110_part[:,2])# Calculate R\n",
    "R_3_DS9_110 = R_3_DS9_110[0,1]\n",
    "\n",
    "print(f'R_all_DS9_110 = {R_all_DS9_110:.2f}')\n",
    "print(f'R_1_DS9_110 = {R_1_DS9_110:.2f}')\n",
    "print(f'R_2_DS9_110 = {R_2_DS9_110:.2f}')\n",
    "print(f'R_3_DS9_110 = {R_3_DS9_110:.2f}')"
   ]
  },
  {
   "cell_type": "code",
   "execution_count": 35,
   "id": "0219833f",
   "metadata": {},
   "outputs": [
    {
     "data": {
      "image/png": "[encoded data removed]",
      "text/plain": [
       "<Figure size 432x288 with 1 Axes>"
      ]
     },
     "metadata": {
      "needs_background": "light"
     },
     "output_type": "display_data"
    }
   ],
   "source": [
    "plt.plot(y_DS9_110_part[:,0],data_DS9_110_part[:,0],\"ro\")\n",
    "plt.plot(y_DS9_110_part[:,1],data_DS9_110_part[:,1],\"go\")\n",
    "plt.plot(y_DS9_110_part[:,2],data_DS9_110_part[:,2],\"bo\")\n",
    "plt.ylabel(\"DS9_110 data\")\n",
    "plt.xlabel(\"DS9_110 SBI\")\n",
    "plt.show()"
   ]
  },
  {
   "cell_type": "markdown",
   "id": "a760e52d",
   "metadata": {},
   "source": [
    "### Posterior "
   ]
  },
  {
   "cell_type": "code",
   "execution_count": 36,
   "id": "6b548503",
   "metadata": {
    "ExecuteTime": {
     "end_time": "2023-06-16T18:23:55.652420Z",
     "start_time": "2023-06-16T18:23:55.511383Z"
    }
   },
   "outputs": [
    {
     "name": "stdout",
     "output_type": "stream",
     "text": [
      "Load file /data/rajlab1/user_data/lucia/Nexis_SBI/notebooks/../mypkg/../results/nexis_num50000_sd175_betaub10_gammaub2/posterior.pkl\n"
     ]
    }
   ],
   "source": [
    "cur_res = load_pkl_folder2dict(paras.folder_path, [\"x\", \"para*\"]);"
   ]
  },
  {
   "cell_type": "code",
   "execution_count": 37,
   "id": "3f3500ae",
   "metadata": {
    "ExecuteTime": {
     "end_time": "2023-06-16T18:26:28.617102Z",
     "start_time": "2023-06-16T18:26:28.555567Z"
    }
   },
   "outputs": [
    {
     "ename": "NameError",
     "evalue": "name 'data' is not defined",
     "output_type": "error",
     "traceback": [
      "\u001b[0;31m---------------------------------------------------------------------------\u001b[0m",
      "\u001b[0;31mNameError\u001b[0m                                 Traceback (most recent call last)",
      "\u001b[0;32m/tmp/ipykernel_22637/113458710.py\u001b[0m in \u001b[0;36m<module>\u001b[0;34m\u001b[0m\n\u001b[1;32m      1\u001b[0m \u001b[0;31m# just to remove nan\u001b[0m\u001b[0;34m\u001b[0m\u001b[0;34m\u001b[0m\u001b[0m\n\u001b[1;32m      2\u001b[0m \u001b[0;31m# now my real data has nan, you should find a way to handle the nan\u001b[0m\u001b[0;34m\u001b[0m\u001b[0;34m\u001b[0m\u001b[0m\n\u001b[0;32m----> 3\u001b[0;31m \u001b[0mnonnan_idxs\u001b[0m \u001b[0;34m=\u001b[0m \u001b[0mnp\u001b[0m\u001b[0;34m.\u001b[0m\u001b[0misnan\u001b[0m\u001b[0;34m(\u001b[0m\u001b[0mdata\u001b[0m\u001b[0;34m)\u001b[0m\u001b[0;34m.\u001b[0m\u001b[0msum\u001b[0m\u001b[0;34m(\u001b[0m\u001b[0maxis\u001b[0m\u001b[0;34m=\u001b[0m\u001b[0;36m1\u001b[0m\u001b[0;34m)\u001b[0m\u001b[0;34m==\u001b[0m\u001b[0;36m0\u001b[0m\u001b[0;34m\u001b[0m\u001b[0;34m\u001b[0m\u001b[0m\n\u001b[0m\u001b[1;32m      4\u001b[0m \u001b[0mdata_part\u001b[0m \u001b[0;34m=\u001b[0m \u001b[0mdata\u001b[0m\u001b[0;34m[\u001b[0m\u001b[0mnonnan_idxs\u001b[0m\u001b[0;34m]\u001b[0m\u001b[0;34m;\u001b[0m\u001b[0;34m\u001b[0m\u001b[0;34m\u001b[0m\u001b[0m\n\u001b[1;32m      5\u001b[0m \u001b[0mcur_x\u001b[0m \u001b[0;34m=\u001b[0m \u001b[0mdata_part\u001b[0m\u001b[0;34m.\u001b[0m\u001b[0mflatten\u001b[0m\u001b[0;34m(\u001b[0m\u001b[0;34m)\u001b[0m\u001b[0;34m;\u001b[0m\u001b[0;34m\u001b[0m\u001b[0;34m\u001b[0m\u001b[0m\n",
      "\u001b[0;31mNameError\u001b[0m: name 'data' is not defined"
     ]
    }
   ],
   "source": [
    "# just to remove nan\n",
    "# now my real data has nan, you should find a way to handle the nan\n",
    "nonnan_idxs = np.isnan(data).sum(axis=1)==0\n",
    "data_part = data[nonnan_idxs];\n",
    "cur_x = data_part.flatten();\n",
    "cur_x = torch.Tensor(cur_x)\n",
    "post_sps_trans = cur_res.posterior.sample((1000, ),  x=cur_x);"
   ]
  },
  {
   "cell_type": "code",
   "execution_count": 38,
   "id": "40eae794",
   "metadata": {
    "ExecuteTime": {
     "end_time": "2023-06-16T18:26:31.156117Z",
     "start_time": "2023-06-16T18:26:29.581437Z"
    }
   },
   "outputs": [
    {
     "ename": "NameError",
     "evalue": "name 'post_sps_trans' is not defined",
     "output_type": "error",
     "traceback": [
      "\u001b[0;31m---------------------------------------------------------------------------\u001b[0m",
      "\u001b[0;31mNameError\u001b[0m                                 Traceback (most recent call last)",
      "\u001b[0;32m/tmp/ipykernel_15913/277021868.py\u001b[0m in \u001b[0;36m<module>\u001b[0;34m\u001b[0m\n\u001b[0;32m----> 1\u001b[0;31m \u001b[0mcur_res\u001b[0m\u001b[0;34m.\u001b[0m\u001b[0mpost_sps_trans\u001b[0m \u001b[0;34m=\u001b[0m \u001b[0mpost_sps_trans\u001b[0m\u001b[0;34m\u001b[0m\u001b[0;34m\u001b[0m\u001b[0m\n\u001b[0m\u001b[1;32m      2\u001b[0m \u001b[0msave_pkl_dict2folder\u001b[0m\u001b[0;34m(\u001b[0m\u001b[0mparas\u001b[0m\u001b[0;34m.\u001b[0m\u001b[0mfolder_path\u001b[0m\u001b[0;34m,\u001b[0m \u001b[0mcur_res\u001b[0m\u001b[0;34m,\u001b[0m \u001b[0mis_force\u001b[0m\u001b[0;34m=\u001b[0m\u001b[0;32mTrue\u001b[0m\u001b[0;34m,\u001b[0m \u001b[0mverbose\u001b[0m\u001b[0;34m=\u001b[0m\u001b[0;32mTrue\u001b[0m\u001b[0;34m)\u001b[0m\u001b[0;34m;\u001b[0m\u001b[0;34m\u001b[0m\u001b[0;34m\u001b[0m\u001b[0m\n\u001b[1;32m      3\u001b[0m _ = analysis.pairplot(cur_res.post_sps_trans,\n\u001b[1;32m      4\u001b[0m                       \u001b[0mlabels\u001b[0m\u001b[0;34m=\u001b[0m\u001b[0mparas_\u001b[0m\u001b[0;34m.\u001b[0m\u001b[0mnames\u001b[0m\u001b[0;34m,\u001b[0m\u001b[0;34m\u001b[0m\u001b[0;34m\u001b[0m\u001b[0m\n\u001b[1;32m      5\u001b[0m                       figsize=(8,8));\n",
      "\u001b[0;31mNameError\u001b[0m: name 'post_sps_trans' is not defined"
     ]
    }
   ],
   "source": [
    "cur_res.post_sps_trans = post_sps_trans\n",
    "save_pkl_dict2folder(paras.folder_path, cur_res, is_force=True, verbose=True);\n",
    "_ = analysis.pairplot(cur_res.post_sps_trans,\n",
    "                      labels=paras_.names, \n",
    "                      figsize=(8,8));"
   ]
  },
  {
   "cell_type": "code",
   "execution_count": 18,
   "id": "dce02f1f",
   "metadata": {
    "ExecuteTime": {
     "end_time": "2023-06-16T18:26:52.956070Z",
     "start_time": "2023-06-16T18:26:51.856012Z"
    }
   },
   "outputs": [
    {
     "data": {
      "image/png": "[encoded data removed]",
      "text/plain": [
       "<Figure size 576x576 with 36 Axes>"
      ]
     },
     "metadata": {
      "needs_background": "light"
     },
     "output_type": "display_data"
    }
   ],
   "source": [
    "# from trans_data to org data\n",
    "post_sps_org = _para_trans2org(cur_res.post_sps_trans, paras_.bds_full); # 1000 samples forming the posteriors of the parameters in the original space\n",
    "cur_res.post_sps_org = post_sps_org\n",
    "save_pkl_dict2folder(paras.folder_path, cur_res, is_force=True, verbose=False)\n",
    "_ = analysis.pairplot(cur_res.post_sps_org,\n",
    "                      limits=paras_.bds_full,\n",
    "                      labels=paras_.names, \n",
    "                      figsize=(8,8));"
   ]
  },
  {
   "cell_type": "code",
   "execution_count": 19,
   "id": "1e556805",
   "metadata": {},
   "outputs": [],
   "source": [
    "# Create model from modes of distributions and compare (e.g. Pearson's correlation, scatterplot) with the data"
   ]
  },
  {
   "cell_type": "code",
   "execution_count": 20,
   "id": "8b2d22a4",
   "metadata": {},
   "outputs": [],
   "source": [
    "# Tablulate the correspondence between model and data as a function of the parameters that were used\n",
    "# and the hyperparameters/conditions that were passed to SBI to compare/contrast and find an \"optimal\"\n",
    "# way to run"
   ]
  },
  {
   "cell_type": "code",
   "execution_count": 21,
   "id": "bd1406cf",
   "metadata": {},
   "outputs": [
    {
     "name": "stdout",
     "output_type": "stream",
     "text": [
      "[ 0.23314713  1.70992044  0.54805664  0.51609673  0.04397418 -0.03251007]\n"
     ]
    }
   ],
   "source": [
    "# Query posterior statistics\n",
    "param_post = np.array(post_sps_org) # Convert to numpy array\n",
    "postmean = np.mean(param_post,axis = 0) # Take mean over simulations (or whichever statistic you want, e.g. median, mode)\n",
    "print(postmean)"
   ]
  },
  {
   "cell_type": "code",
   "execution_count": 22,
   "id": "fd95aa97",
   "metadata": {},
   "outputs": [
    {
     "name": "stdout",
     "output_type": "stream",
     "text": [
      "[[1.         0.58831934]\n",
      " [0.58831934 1.        ]]\n",
      "[[1.         0.57430078]\n",
      " [0.57430078 1.        ]]\n",
      "[[1.         0.52178114]\n",
      " [0.52178114 1.        ]]\n",
      "[[1.         0.57959871]\n",
      " [0.57959871 1.        ]]\n"
     ]
    }
   ],
   "source": [
    "# Test out overall model fit using the mean of the parameters\n",
    "y = nexis_model.simulate_nexis(postmean) # Run the Nexis model using the best estimate of the parameters\n",
    "y_part = y[nonnan_idxs] # remove unsampled regions\n",
    "test = np.shape(y_part)\n",
    "test = test[0]\n",
    "y_part_vec = np.reshape(y_part,(test*3,1)) # Flatten all time points of model simulation into a vector\n",
    "y_part_vec = np.ndarray.flatten(y_part_vec)\n",
    "data_part_vec = np.reshape(data_part,(test*3,1)) # Flatten all time points of data into a vector\n",
    "data_part_vec = np.ndarray.flatten(data_part_vec)\n",
    "print(np.corrcoef(y_part_vec,data_part_vec)) # Calculate R\n",
    "print(np.corrcoef(y_part[:,0],data_part[:,0]))\n",
    "print(np.corrcoef(y_part[:,1],data_part[:,1]))\n",
    "print(np.corrcoef(y_part[:,2],data_part[:,2]))"
   ]
  },
  {
   "cell_type": "code",
   "execution_count": 23,
   "id": "ca82274f",
   "metadata": {},
   "outputs": [],
   "source": [
    "# Summary of things to test:\n",
    "# Prior noise term (bounded between 0 and 2)\n",
    "# Number of samples to train SBI on (bounded between 1e4 and 2e5)\n",
    "\n",
    "# Desired outputs (tabular)\n",
    "# Posterior statistics (mean, median, standard deviation) on the four relevant model parameters\n",
    "# Fits to data per time point (R or R^2)\n",
    "# Overall fit to data across time point (R or R^2)\n",
    "# Scatterplots of best hyperparameter sets"
   ]
  },
  {
   "cell_type": "code",
   "execution_count": 24,
   "id": "462df590",
   "metadata": {},
   "outputs": [
    {
     "name": "stdout",
     "output_type": "stream",
     "text": [
      "[0.03875041 0.01289454]\n"
     ]
    }
   ],
   "source": [
    "print(np.array([np.mean(y_part_vec,axis=0),np.mean(data_part_vec,axis=0)]))"
   ]
  },
  {
   "cell_type": "code",
   "execution_count": 25,
   "id": "fdc3591d",
   "metadata": {},
   "outputs": [
    {
     "data": {
      "image/png": "[encoded data removed]",
      "text/plain": [
       "<Figure size 432x288 with 1 Axes>"
      ]
     },
     "metadata": {
      "needs_background": "light"
     },
     "output_type": "display_data"
    }
   ],
   "source": [
    "plt.plot(y_part[:,0],data_part[:,0],\"ro\")\n",
    "plt.plot(y_part[:,1],data_part[:,1],\"go\")\n",
    "plt.plot(y_part[:,2],data_part[:,2],\"bo\")\n",
    "plt.ylabel(\"ds6 data\")\n",
    "plt.xlabel(\"ds6 SBI\")\n",
    "plt.show()"
   ]
  },
  {
   "cell_type": "code",
   "execution_count": 26,
   "id": "7546a958",
   "metadata": {},
   "outputs": [
    {
     "data": {
      "text/plain": [
       "(292, 3)"
      ]
     },
     "execution_count": 26,
     "metadata": {},
     "output_type": "execute_result"
    }
   ],
   "source": [
    "np.shape(data_part)"
   ]
  },
  {
   "cell_type": "code",
   "execution_count": 27,
   "id": "1c471d4e",
   "metadata": {},
   "outputs": [
    {
     "data": {
      "text/plain": [
       "(292, 3)"
      ]
     },
     "execution_count": 27,
     "metadata": {},
     "output_type": "execute_result"
    }
   ],
   "source": [
    "np.shape(y_part)"
   ]
  },
  {
   "cell_type": "code",
   "execution_count": null,
   "id": "e1e5b0f1",
   "metadata": {},
   "outputs": [],
   "source": []
  }
 ],
 "metadata": {
  "kernelspec": {
   "display_name": "Python 3 (ipykernel)",
   "language": "python",
   "name": "python3"
  },
  "language_info": {
   "codemirror_mode": {
    "name": "ipython",
    "version": 3
   },
   "file_extension": ".py",
   "mimetype": "text/x-python",
   "name": "python",
   "nbconvert_exporter": "python",
   "pygments_lexer": "ipython3",
   "version": "3.9.7"
  },
  "toc": {
   "base_numbering": 1,
   "nav_menu": {},
   "number_sections": true,
   "sideBar": true,
   "skip_h1_title": false,
   "title_cell": "Table of Contents",
   "title_sidebar": "Contents",
   "toc_cell": false,
   "toc_position": {
    "height": "calc(100% - 180px)",
    "left": "10px",
    "top": "150px",
    "width": "193px"
   },
   "toc_section_display": true,
   "toc_window_display": true
  }
 },
 "nbformat": 4,
 "nbformat_minor": 5
}
