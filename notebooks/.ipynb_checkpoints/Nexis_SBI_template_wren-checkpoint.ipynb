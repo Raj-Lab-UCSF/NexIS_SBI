{
 "cells": [
  {
   "cell_type": "markdown",
   "id": "48ee4fd6",
   "metadata": {},
   "source": [
    "This file is to try Nexis-SBI\n",
    "\n",
    "Note that, the original Nexis params are bounded, so I transform them first (to real line). \n",
    "\n",
    "The simulator fn in our case requires trans-params not the org params. \n",
    "I put a guassian prior on the trans-params. \n",
    "So the SBI gives the posterior sps of the trans-params, I transform them back to the original params.\n",
    "\n"
   ]
  },
  {
   "cell_type": "markdown",
   "id": "269c1f0a",
   "metadata": {},
   "source": [
    "### import and define"
   ]
  },
  {
   "cell_type": "markdown",
   "id": "e5ca9b8a",
   "metadata": {},
   "source": []
  },
  {
   "cell_type": "code",
   "execution_count": 50,
   "id": "c93dcfe1",
   "metadata": {
    "ExecuteTime": {
     "end_time": "2023-06-16T18:06:45.658885Z",
     "start_time": "2023-06-16T18:06:39.727036Z"
    }
   },
   "outputs": [],
   "source": [
    "import sys\n",
    "sys.path.append(\"../mypkg\")\n",
    "import mkl\n",
    "\n",
    "# other pkgs\n",
    "from tqdm import trange, tqdm\n",
    "\n",
    "import torch\n",
    "import torch.nn as nn \n",
    "import torch.nn.functional as F \n",
    "from sbi import analysis as analysis\n",
    "from sbi.inference.base import infer\n",
    "from sbi.inference import SNPE, prepare_for_sbi, simulate_for_sbi\n",
    "from sbi.utils.get_nn_models import posterior_nn\n",
    "from torch.distributions.multivariate_normal import MultivariateNormal\n",
    "\n",
    "import numpy as np\n",
    "from easydict import EasyDict as edict\n",
    "from pathlib import Path\n",
    "import pickle\n",
    "import scipy\n",
    "\n",
    "import seaborn as sns\n",
    "import pandas as pd\n",
    "import numpy as np\n",
    "import matplotlib.pyplot as plt\n",
    "import json\n",
    "from functools import partial\n",
    "\n",
    "import warnings\n",
    "warnings.filterwarnings(\"ignore\")\n",
    "\n",
    "# my own pkgs\n",
    "import importlib\n",
    "\n",
    "from utils.misc import save_pkl_dict2folder, load_pkl_folder2dict\n",
    "from utils.reparam import para_trans2org, logistic_np, logistic_torch\n",
    "from constants import RES_ROOT, FIG_ROOT, DATA_ROOT\n",
    "import from_justin.nexis as nx"
   ]
  },
  {
   "cell_type": "code",
   "execution_count": 51,
   "id": "9a6bdc4e",
   "metadata": {},
   "outputs": [],
   "source": [
    "# ask about this - i think this is just another experiment...KaufmanDiamond_datasets_dat&seed.mat\n",
    "\n",
    "# # load the data and build the nexis model\n",
    "# loadinst = nx.loading_matfiles()\n",
    "# endmstuff = loadinst.load_file('eNDM_mousedata.mat')\n",
    "# # the following are required for build a model\n",
    "# C = endmstuff['Networks'][0,0]['ret']\n",
    "# C = C / np.max(C[:])\n",
    "# endmstuff_kauf = loadinst.load_file('KaufmanDiamond_datasets_dat&seed.mat')\n",
    "# seedvec = endmstuff_kauf['seed426'][0,0]['DS6']\n",
    "# tpts = endmstuff_kauf['tpts'][0,0]['DS6'][0]\n",
    "# U = np.zeros([426,1]);\n",
    "\n",
    "# # the model for generate\n",
    "# nexis_model = nx.run_Nexis(C, U, seedvec, tpts)\n",
    "\n",
    "# # real data, the real data decide the nan positions and decide the simulator function\n",
    "# data = endmstuff_kauf['data426'][0,0]['DS6'];\n",
    "\n",
    "# np.shape(seedvec)"
   ]
  },
  {
   "cell_type": "markdown",
   "id": "4022c78f",
   "metadata": {},
   "source": [
    "### Load data "
   ]
  },
  {
   "cell_type": "code",
   "execution_count": 52,
   "id": "05f76ce8",
   "metadata": {},
   "outputs": [
    {
     "data": {
      "text/plain": [
       "from_justin.nexis.loading_matfiles"
      ]
     },
     "execution_count": 52,
     "metadata": {},
     "output_type": "execute_result"
    }
   ],
   "source": [
    "# in directory from notebook\n",
    "# look at the shape of\n",
    "nx.loading_matfiles"
   ]
  },
  {
   "cell_type": "code",
   "execution_count": 73,
   "id": "182ff6f5",
   "metadata": {
    "ExecuteTime": {
     "end_time": "2023-06-16T18:08:41.223394Z",
     "start_time": "2023-06-16T18:08:40.806375Z"
    },
    "scrolled": false
   },
   "outputs": [
    {
     "name": "stdout",
     "output_type": "stream",
     "text": [
      "look at loadinst\n",
      "<from_justin.nexis.loading_matfiles object at 0x7fc700481bb0> \n",
      "\n",
      "look at C keys\n",
      "dict_keys(['__header__', '__version__', '__globals__', 'Connectomes']) \n",
      "\n",
      "look at the first couple values from C, which is now just the connectomes\n",
      "default is a subdictionary in connectomes\n",
      "[[0.00000000e+00 0.00000000e+00 0.00000000e+00 ... 1.57683307e-02\n",
      "  0.00000000e+00 0.00000000e+00]\n",
      " [3.92937934e+02 5.69364987e+01 0.00000000e+00 ... 0.00000000e+00\n",
      "  0.00000000e+00 0.00000000e+00]\n",
      " [1.29765243e+02 1.82136629e+01 0.00000000e+00 ... 0.00000000e+00\n",
      "  0.00000000e+00 0.00000000e+00]\n",
      " [0.00000000e+00 0.00000000e+00 0.00000000e+00 ... 0.00000000e+00\n",
      "  0.00000000e+00 0.00000000e+00]\n",
      " [4.77430181e+02 1.33837573e+03 4.61036080e+02 ... 0.00000000e+00\n",
      "  0.00000000e+00 0.00000000e+00]] \n",
      "\n",
      "look at the shape of the new C - connectome\n",
      "regions of the connectome\n",
      "(426, 426) \n",
      "\n",
      "not sure what this means for the connectome\n",
      "[[0.00000000e+00 0.00000000e+00 0.00000000e+00 ... 2.77309504e-07\n",
      "  0.00000000e+00 0.00000000e+00]\n",
      " [6.91039689e-03 1.00131285e-03 0.00000000e+00 ... 0.00000000e+00\n",
      "  0.00000000e+00 0.00000000e+00]\n",
      " [2.28211443e-03 3.20314301e-04 0.00000000e+00 ... 0.00000000e+00\n",
      "  0.00000000e+00 0.00000000e+00]\n",
      " [0.00000000e+00 0.00000000e+00 0.00000000e+00 ... 0.00000000e+00\n",
      "  0.00000000e+00 0.00000000e+00]\n",
      " [8.39631849e-03 2.35373240e-02 8.10800387e-03 ... 0.00000000e+00\n",
      "  0.00000000e+00 0.00000000e+00]] \n",
      "\n",
      "i think this is loading the data into the instance\n",
      "dict_keys(['__header__', '__version__', '__globals__', 'mousedata_struct_ccf']) \n",
      "\n",
      "[[0.125 0.625 0.375]\n",
      " [0.125 0.625 0.375]\n",
      " [0.125 0.625 0.375]\n",
      " ...\n",
      " [0.    0.    0.25 ]\n",
      " [0.    0.    0.25 ]\n",
      " [0.    0.    0.25 ]] \n",
      "\n",
      "nested dictionaries\n",
      "shape 426 is the regions of the connectome 3 might be the time points (weeks)\n",
      "DS4 is human tau\n",
      "DS6 is mouse tau\n",
      "DS7 is synthetic tau\n",
      "DS9 is synthetic tau\n",
      "same species DS6 injection one tenth - spread pattern looks different\n",
      "same species DS9 injection one tenth - spread pattern looks different\n",
      "the 3 4,8,12 time points\n",
      "[[0.00546448 0.0273224  0.01639344]\n",
      " [0.00546448 0.0273224  0.01639344]\n",
      " [0.00546448 0.0273224  0.01639344]\n",
      " [0.00546448 0.0273224  0.01639344]\n",
      " [0.00546448 0.0273224  0.01639344]] \n",
      "\n",
      "mean the injection location \n",
      "\n",
      "ccf common coordinate framework version 2\n",
      "the timepoints in weeks\n",
      "[ 4  8 12] \n",
      "\n",
      "cell type or gene expression vector/matrix\n",
      "i think this is what i fill with a particular gene\n",
      "gene expression data is from data - raw mouse data - regional gene data - regvgenemean\n",
      "use the genes not in the selective vulnrability paper\n",
      "[[0.]\n",
      " [0.]\n",
      " [0.]\n",
      " [0.]\n",
      " [0.]] \n",
      "\n",
      "the nexis model\n",
      "<from_justin.nexis.run_Nexis object at 0x7fc70a723eb0>\n"
     ]
    }
   ],
   "source": [
    "# load the data and build the nexis model\n",
    "# does this also build the model? how does it work? it loads the files into the model?\n",
    "loadinst = nx.loading_matfiles()\n",
    "print('look at loadinst')\n",
    "print(loadinst,'\\n')\n",
    "\n",
    "# load the connectome and normalize\n",
    "C = loadinst.load_file('Connectomes.mat')\n",
    "print('look at C keys')\n",
    "print(C.keys(),'\\n')\n",
    "\n",
    "C = C['Connectomes'][0,0]['default']\n",
    "print('look at the first couple values from C, which is now just the connectomes')\n",
    "print('default is a subdictionary in connectomes')\n",
    "print(C[0:5],'\\n')\n",
    "\n",
    "print('look at the shape of the new C - connectome')\n",
    "print('regions of the connectome')\n",
    "print(C.shape,'\\n')\n",
    "\n",
    "C = C / np.max(C[:])\n",
    "print('not sure what this means for the connectome')\n",
    "print(C[0:5],'\\n')\n",
    "\n",
    "# load the data\n",
    "endmstuff = loadinst.load_file('Mouse_Tauopathy_Data_HigherQ_CCF.mat')\n",
    "print('i think this is loading the data into the instance')\n",
    "print(endmstuff.keys(),'\\n')\n",
    "print(endmstuff['mousedata_struct_ccf'][0,0]['DS4'][0]['data'][0],'\\n')\n",
    "print('nested dictionaries')\n",
    "print('shape 426 is the regions of the connectome 3 might be the time points (weeks)')\n",
    "\n",
    "def load_data(endmstuff,label):\n",
    "    data = endmstuff['mousedata_struct_ccf'][0,0][label][0]['data'][0]\n",
    "    data = data/np.nansum(data[:,0])\n",
    "    return data\n",
    " \n",
    "print('DS4 is human tau')\n",
    "data_DS4 = load_data(endmstuff,'DS4')\n",
    "print('DS6 is mouse tau')\n",
    "data_DS6 = load_data(endmstuff,'DS6')\n",
    "print('DS7 is synthetic tau')\n",
    "data_DS7 = load_data(endmstuff,'DS7')\n",
    "print('DS9 is synthetic tau')\n",
    "data_DS9 = load_data(endmstuff,'DS9')\n",
    "print('same species DS6 injection one tenth - spread pattern looks different')\n",
    "data_DS6_110 = load_data(endmstuff,'DS6_110')\n",
    "print('same species DS9 injection one tenth - spread pattern looks different')\n",
    "data_DS9_110 = load_data(endmstuff,'DS9_110')\n",
    "\n",
    "data = data_DS4\n",
    "\n",
    "print('the 3 4,8,12 time points')\n",
    "print(data_DS4[0:5],'\\n')\n",
    "\n",
    "seedvec = endmstuff['mousedata_struct_ccf'][0,0]['DS4'][0]['seed'][0]\n",
    "print('mean the injection location','\\n')\n",
    "print('ccf common coordinate framework version 2')\n",
    "\n",
    "tpts = endmstuff['mousedata_struct_ccf'][0,0]['DS4'][0]['time_stamps'][0]\n",
    "tpts = np.ndarray.flatten(tpts)\n",
    "print('the timepoints in weeks')\n",
    "print(tpts,'\\n')\n",
    "\n",
    "U = np.zeros([426,1]); \n",
    "print('cell type or gene expression vector/matrix')\n",
    "print('i think this is what i fill with a particular gene')\n",
    "print('gene expression data is from data - raw mouse data - regional gene data - regvgenemean')\n",
    "print('use the genes not in the selective vulnrability paper')\n",
    "print(U[0:5],'\\n')\n",
    "\n",
    "# the model for generate\n",
    "# w_dir_ is with directionality, volocorrect is necessary correction factor for keeping mass in system\n",
    "# volcorrect mass relationship between mass and concentration flow\n",
    "nexis_model = nx.run_Nexis(C, U, seedvec, tpts, w_dir_ = 1, volcorrect_ = 1) # Keep same\n",
    "print('the nexis model')\n",
    "print(nexis_model)"
   ]
  },
  {
   "cell_type": "markdown",
   "id": "b6960bf4",
   "metadata": {},
   "source": [
    "#### Set up Parameters"
   ]
  },
  {
   "cell_type": "code",
   "execution_count": 74,
   "id": "d9326efc",
   "metadata": {
    "ExecuteTime": {
     "end_time": "2023-06-16T18:22:38.008144Z",
     "start_time": "2023-06-16T18:22:37.994608Z"
    }
   },
   "outputs": [
    {
     "name": "stdout",
     "output_type": "stream",
     "text": [
      "the lows and highs\n",
      "[[ 0  1]\n",
      " [ 0 10]\n",
      " [ 0  2]\n",
      " [ 0  1]\n",
      " [-5  5]\n",
      " [-5  5]] \n",
      "\n",
      "alpha is gene independent accumulation\n",
      "beta is gene independent spread\n",
      "gamma is scaling between seed and data\n",
      "s is directionality\n",
      "b is gene dependent modulation of transition\n",
      "p is gene dependent modulation of accumulation \n",
      "\n"
     ]
    }
   ],
   "source": [
    "# some constant parameters for this file\n",
    "# typically not change\n",
    "paras_ = edict()\n",
    "paras_.n_types = U.shape[1]\n",
    "\n",
    "# same order to the function\n",
    "paras_.par_low = np.array([0, 0, 0, 0, -5, -5]) # Keep same\n",
    "\n",
    "# maybe play around with this one, lower paras_.par_high[1] to 3 and lower paras_.par_high[2] to 5(?)\n",
    "# what would be the benefit of changing these params? is this something I should do, or just an option?\n",
    "\n",
    "paras_.par_high = np.array([1, 10, 2, 1, 5, 5]) \n",
    "paras_.bds = np.array([paras_.par_low, paras_.par_high]).T\n",
    "print('the lows and highs')\n",
    "print(paras_.bds,'\\n')\n",
    "\n",
    "print('alpha is gene independent accumulation')\n",
    "print('beta is gene independent spread')\n",
    "print('gamma is scaling between seed and data')\n",
    "print('s is directionality')\n",
    "print('b is gene dependent modulation of transition')\n",
    "print('p is gene dependent modulation of accumulation','\\n')\n",
    "paras_.names = [\"alpha\", \"beta\", \"gamma\", \"s\", \"b\", \"p\"]\n",
    "# the parameter for var transfomration\n",
    "# take the length of b and p into account\n",
    "\n",
    "paras_.bds_full = np.concatenate([paras_.bds[:-2], \n",
    "    np.repeat(paras_.bds[-2].reshape(1, -1), paras_.n_types, axis=0),\n",
    "    np.repeat(paras_.bds[-1].reshape(1, -1), paras_.n_types, axis=0),\n",
    "    ])\n",
    "\n",
    "# tied to _para_trans2org, \n",
    "paras_.k = 0.1 # Keep same \n",
    "\n",
    "# convert the trans-param back to the org params\n",
    "# what is this\n",
    "# sbi to work needs continuous distribution\n",
    "# transforms uniform bounded to unbounded continuous\n",
    "_para_trans2org = partial(para_trans2org,map_fn=partial(logistic_np, k=paras_.k))\n",
    "\n",
    "# print(paras)\n",
    "# Some hyperparams, tuning them for better results\n",
    "paras = edict()\n",
    "\n",
    "# the std of noise added to the simulated data, now my formula is simu_data * (1+noise)\n",
    "# You may want to tune it. Larger one, smoother of the posterior.\n",
    "# adding noise to the model outputs that is training on\n",
    "paras.noise_sd = 1.75 # for Lucia: CHANGE THIS ONE: range [0,2] (maybe linear from 0 to 2, 0.2 step size)\n",
    "# The num of simulated sps used for training the model, 1e3 is too small, make it larger. \n",
    "\n",
    "\n",
    "# The larger, the better, but you also have to consider the computational burden.\n",
    "paras.num_prior_sps = int(1) # CHANGE THIS ONE: range [1e4,2e5] (pick a few: 10000,50000,100000,200000)\n",
    "\n",
    "\n",
    "\n",
    "# The density estimator. \n",
    "# Without solid reason, do not change it \n",
    "paras.den_est = \"nsf\" # Keep same\n",
    "# The std of prior of the parameters\n",
    "# Without solid reason, do not change it \n",
    "# If you change it, you have to also adjust paras_.k\n",
    "paras.prior_sd = 10 # Keep same"
   ]
  },
  {
   "cell_type": "code",
   "execution_count": 75,
   "id": "221b3b6d",
   "metadata": {
    "ExecuteTime": {
     "end_time": "2023-06-16T18:22:38.760402Z",
     "start_time": "2023-06-16T18:22:38.740674Z"
    }
   },
   "outputs": [
    {
     "name": "stdout",
     "output_type": "stream",
     "text": [
      "folder is /home/wren/Nexis_SBI/notebooks/../mypkg/../results/nexis_num1_sd175_betaub10_gammaub2\n"
     ]
    }
   ],
   "source": [
    "# save the results\n",
    "# may need to add a time signature in order not to overwrite previously saved results\n",
    "_folder_path = f\"./nexis_num{paras.num_prior_sps:.0f}\" +\\\n",
    "               f\"_sd{paras.noise_sd*100:.0f}\" +\\\n",
    "               f\"_betaub{paras_.par_high[1]}\" +\\\n",
    "               f\"_gammaub{paras_.par_high[2]}\"\n",
    "paras.folder_path = RES_ROOT/_folder_path\n",
    "print(f\"folder is {paras.folder_path}\")\n",
    "if not paras.folder_path.exists():\n",
    "    paras.folder_path.mkdir()"
   ]
  },
  {
   "cell_type": "markdown",
   "id": "86923703",
   "metadata": {},
   "source": [
    "### Prepare for SBI"
   ]
  },
  {
   "cell_type": "code",
   "execution_count": 76,
   "id": "b4ee7118",
   "metadata": {
    "ExecuteTime": {
     "end_time": "2023-06-16T18:22:39.736632Z",
     "start_time": "2023-06-16T18:22:39.730143Z"
    }
   },
   "outputs": [],
   "source": [
    "# The main fn in SBI, simulate the data\n",
    "# work on data\n",
    "\n",
    "### super importanattttt!\n",
    "# data = data_DS4\n",
    "\n",
    "def simulator(para_trans, noise_sd):\n",
    "    \"\"\"I add noise by multiplying\"\"\"\n",
    "    para_org = _para_trans2org(para_trans, paras_.bds_full)\n",
    "    # make model based on model params\n",
    "    res = nexis_model.simulate_nexis(para_org);\n",
    "    # remove the part of simu-data corresponding to the nan in the real data\n",
    "    nonnan_idxs = ~np.isnan(data.sum(axis=1));\n",
    "    res = res[nonnan_idxs]\n",
    "    # res is prediction, plus noise noisea_sd is controlling noise distribution width\n",
    "    noise = np.random.randn(*res.shape)*noise_sd + 1\n",
    "    return res * noise"
   ]
  },
  {
   "cell_type": "code",
   "execution_count": 77,
   "id": "23dff474",
   "metadata": {
    "ExecuteTime": {
     "end_time": "2023-06-16T18:22:40.642306Z",
     "start_time": "2023-06-16T18:22:40.619212Z"
    }
   },
   "outputs": [
    {
     "name": "stdout",
     "output_type": "stream",
     "text": [
      "look up what this function does and what is going into it\n",
      "probablity distributions and sampling\n",
      "tensor([0., 0., 0., 0., 0., 0.]) \n",
      "\n",
      "tensor([[100.,   0.,   0.,   0.,   0.,   0.],\n",
      "        [  0., 100.,   0.,   0.,   0.,   0.],\n",
      "        [  0.,   0., 100.,   0.,   0.,   0.],\n",
      "        [  0.,   0.,   0., 100.,   0.,   0.],\n",
      "        [  0.,   0.,   0.,   0., 100.,   0.],\n",
      "        [  0.,   0.,   0.,   0.,   0., 100.]]) \n",
      "\n",
      "MultivariateNormal(loc: torch.Size([6]), covariance_matrix: torch.Size([6, 6]))\n"
     ]
    }
   ],
   "source": [
    "# The prior dist to generate the simulated data\n",
    "# create the distribution for the transform params multivariable normal distribution\n",
    "prior = MultivariateNormal(loc=torch.zeros(paras_.bds_full.shape[0]), \n",
    "                           covariance_matrix=torch.eye(paras_.bds_full.shape[0])*(paras.prior_sd**2))\n",
    "print('look up what this function does and what is going into it')\n",
    "print('probablity distributions and sampling')\n",
    "print(torch.zeros(paras_.bds_full.shape[0]),'\\n')\n",
    "print(torch.eye(paras_.bds_full.shape[0])*(paras.prior_sd**2),'\\n')\n",
    "print(prior)"
   ]
  },
  {
   "cell_type": "markdown",
   "id": "5a694c3b",
   "metadata": {},
   "source": [
    "### SBI"
   ]
  },
  {
   "cell_type": "code",
   "execution_count": 78,
   "id": "c82b5b02",
   "metadata": {
    "ExecuteTime": {
     "end_time": "2023-06-16T18:18:22.715307Z",
     "start_time": "2023-06-16T18:18:22.477139Z"
    }
   },
   "outputs": [],
   "source": [
    "simulator_sp = partial(simulator,  noise_sd=paras.noise_sd)\n",
    "# make a SBI-wrapper on the simulator object for compatibility\n",
    "simulator_wrapper, prior = prepare_for_sbi(simulator_sp, prior)\n"
   ]
  },
  {
   "cell_type": "markdown",
   "id": "aa59351b",
   "metadata": {},
   "source": [
    "#### RUN"
   ]
  },
  {
   "cell_type": "code",
   "execution_count": 79,
   "id": "78809473",
   "metadata": {
    "ExecuteTime": {
     "end_time": "2023-06-16T18:18:55.374810Z",
     "start_time": "2023-06-16T18:18:26.014944Z"
    },
    "scrolled": true
   },
   "outputs": [
    {
     "name": "stdout",
     "output_type": "stream",
     "text": [
      "tensor([[  4.4640,   7.5833, -16.1603,   4.5279,   8.6892,  -2.3460]])\n",
      "tensor([ 0.1121, -0.2675, -0.0367,  0.1582, -0.0516])\n"
     ]
    }
   ],
   "source": [
    "# generate the simulated sps\n",
    "params, x = simulate_for_sbi(simulator_wrapper, prior, \n",
    "                            num_simulations=int(paras.num_prior_sps), \n",
    "                            num_workers=10); # Don't change\n",
    "print(params)\n",
    "print(x[0][0:5])"
   ]
  },
  {
   "cell_type": "code",
   "execution_count": 80,
   "id": "52fc3184",
   "metadata": {},
   "outputs": [],
   "source": [
    "# what does it mean that im making dummys here\n",
    "# params is params used for the simultions\n",
    "# draw from multivariate distribtion\n",
    "params_dummy = torch.cat([params,params,params])\n",
    "# x is the results\n",
    "x_dummy = torch.cat([x,x,x])"
   ]
  },
  {
   "cell_type": "code",
   "execution_count": 81,
   "id": "3783abdd",
   "metadata": {
    "ExecuteTime": {
     "end_time": "2023-06-16T18:23:45.497628Z",
     "start_time": "2023-06-16T18:22:48.743572Z"
    },
    "scrolled": false
   },
   "outputs": [
    {
     "name": "stdout",
     "output_type": "stream",
     "text": [
      " Neural network successfully converged after 1302 epochs.\n",
      " the dummys go here, what does it mean that they do\n",
      "Flow(\n",
      "  (_transform): CompositeTransform(\n",
      "    (_transforms): ModuleList(\n",
      "      (0): AffineTransform()\n",
      "      (1): PiecewiseRationalQuadraticCouplingTransform(\n",
      "        (transform_net): ResidualNet(\n",
      "          (initial_layer): Linear(in_features=879, out_features=50, bias=True)\n",
      "          (blocks): ModuleList(\n",
      "            (0): ResidualBlock(\n",
      "              (context_layer): Linear(in_features=876, out_features=50, bias=True)\n",
      "              (linear_layers): ModuleList(\n",
      "                (0): Linear(in_features=50, out_features=50, bias=True)\n",
      "                (1): Linear(in_features=50, out_features=50, bias=True)\n",
      "              )\n",
      "              (dropout): Dropout(p=0.0, inplace=False)\n",
      "            )\n",
      "            (1): ResidualBlock(\n",
      "              (context_layer): Linear(in_features=876, out_features=50, bias=True)\n",
      "              (linear_layers): ModuleList(\n",
      "                (0): Linear(in_features=50, out_features=50, bias=True)\n",
      "                (1): Linear(in_features=50, out_features=50, bias=True)\n",
      "              )\n",
      "              (dropout): Dropout(p=0.0, inplace=False)\n",
      "            )\n",
      "          )\n",
      "          (final_layer): Linear(in_features=50, out_features=87, bias=True)\n",
      "        )\n",
      "      )\n",
      "      (2): LULinear()\n",
      "      (3): PiecewiseRationalQuadraticCouplingTransform(\n",
      "        (transform_net): ResidualNet(\n",
      "          (initial_layer): Linear(in_features=879, out_features=50, bias=True)\n",
      "          (blocks): ModuleList(\n",
      "            (0): ResidualBlock(\n",
      "              (context_layer): Linear(in_features=876, out_features=50, bias=True)\n",
      "              (linear_layers): ModuleList(\n",
      "                (0): Linear(in_features=50, out_features=50, bias=True)\n",
      "                (1): Linear(in_features=50, out_features=50, bias=True)\n",
      "              )\n",
      "              (dropout): Dropout(p=0.0, inplace=False)\n",
      "            )\n",
      "            (1): ResidualBlock(\n",
      "              (context_layer): Linear(in_features=876, out_features=50, bias=True)\n",
      "              (linear_layers): ModuleList(\n",
      "                (0): Linear(in_features=50, out_features=50, bias=True)\n",
      "                (1): Linear(in_features=50, out_features=50, bias=True)\n",
      "              )\n",
      "              (dropout): Dropout(p=0.0, inplace=False)\n",
      "            )\n",
      "          )\n",
      "          (final_layer): Linear(in_features=50, out_features=87, bias=True)\n",
      "        )\n",
      "      )\n",
      "      (4): LULinear()\n",
      "      (5): PiecewiseRationalQuadraticCouplingTransform(\n",
      "        (transform_net): ResidualNet(\n",
      "          (initial_layer): Linear(in_features=879, out_features=50, bias=True)\n",
      "          (blocks): ModuleList(\n",
      "            (0): ResidualBlock(\n",
      "              (context_layer): Linear(in_features=876, out_features=50, bias=True)\n",
      "              (linear_layers): ModuleList(\n",
      "                (0): Linear(in_features=50, out_features=50, bias=True)\n",
      "                (1): Linear(in_features=50, out_features=50, bias=True)\n",
      "              )\n",
      "              (dropout): Dropout(p=0.0, inplace=False)\n",
      "            )\n",
      "            (1): ResidualBlock(\n",
      "              (context_layer): Linear(in_features=876, out_features=50, bias=True)\n",
      "              (linear_layers): ModuleList(\n",
      "                (0): Linear(in_features=50, out_features=50, bias=True)\n",
      "                (1): Linear(in_features=50, out_features=50, bias=True)\n",
      "              )\n",
      "              (dropout): Dropout(p=0.0, inplace=False)\n",
      "            )\n",
      "          )\n",
      "          (final_layer): Linear(in_features=50, out_features=87, bias=True)\n",
      "        )\n",
      "      )\n",
      "      (6): LULinear()\n",
      "      (7): PiecewiseRationalQuadraticCouplingTransform(\n",
      "        (transform_net): ResidualNet(\n",
      "          (initial_layer): Linear(in_features=879, out_features=50, bias=True)\n",
      "          (blocks): ModuleList(\n",
      "            (0): ResidualBlock(\n",
      "              (context_layer): Linear(in_features=876, out_features=50, bias=True)\n",
      "              (linear_layers): ModuleList(\n",
      "                (0): Linear(in_features=50, out_features=50, bias=True)\n",
      "                (1): Linear(in_features=50, out_features=50, bias=True)\n",
      "              )\n",
      "              (dropout): Dropout(p=0.0, inplace=False)\n",
      "            )\n",
      "            (1): ResidualBlock(\n",
      "              (context_layer): Linear(in_features=876, out_features=50, bias=True)\n",
      "              (linear_layers): ModuleList(\n",
      "                (0): Linear(in_features=50, out_features=50, bias=True)\n",
      "                (1): Linear(in_features=50, out_features=50, bias=True)\n",
      "              )\n",
      "              (dropout): Dropout(p=0.0, inplace=False)\n",
      "            )\n",
      "          )\n",
      "          (final_layer): Linear(in_features=50, out_features=87, bias=True)\n",
      "        )\n",
      "      )\n",
      "      (8): LULinear()\n",
      "      (9): PiecewiseRationalQuadraticCouplingTransform(\n",
      "        (transform_net): ResidualNet(\n",
      "          (initial_layer): Linear(in_features=879, out_features=50, bias=True)\n",
      "          (blocks): ModuleList(\n",
      "            (0): ResidualBlock(\n",
      "              (context_layer): Linear(in_features=876, out_features=50, bias=True)\n",
      "              (linear_layers): ModuleList(\n",
      "                (0): Linear(in_features=50, out_features=50, bias=True)\n",
      "                (1): Linear(in_features=50, out_features=50, bias=True)\n",
      "              )\n",
      "              (dropout): Dropout(p=0.0, inplace=False)\n",
      "            )\n",
      "            (1): ResidualBlock(\n",
      "              (context_layer): Linear(in_features=876, out_features=50, bias=True)\n",
      "              (linear_layers): ModuleList(\n",
      "                (0): Linear(in_features=50, out_features=50, bias=True)\n",
      "                (1): Linear(in_features=50, out_features=50, bias=True)\n",
      "              )\n",
      "              (dropout): Dropout(p=0.0, inplace=False)\n",
      "            )\n",
      "          )\n",
      "          (final_layer): Linear(in_features=50, out_features=87, bias=True)\n",
      "        )\n",
      "      )\n",
      "      (10): LULinear()\n",
      "    )\n",
      "  )\n",
      "  (_distribution): StandardNormal()\n",
      "  (_embedding_net): Sequential(\n",
      "    (0): Standardize()\n",
      "    (1): Identity()\n",
      "  )\n",
      ") \n",
      "\n",
      "Posterior conditional density p(θ|x) of type DirectPosterior. It samples the posterior network and rejects samples that\n",
      "            lie outside of the prior bounds.\n"
     ]
    }
   ],
   "source": [
    "# training and get the posterior\n",
    "# go through this\n",
    "\n",
    "inference = SNPE(prior=prior, density_estimator=paras.den_est)\n",
    "density_estimator = inference.append_simulations(params_dummy, x_dummy).train()\n",
    "print('\\n','the dummys go here, what does it mean that they do')\n",
    "posterior = inference.build_posterior(density_estimator)\n",
    "print(density_estimator,'\\n')\n",
    "print(posterior)"
   ]
  },
  {
   "cell_type": "code",
   "execution_count": 82,
   "id": "7e2bb5bb",
   "metadata": {
    "ExecuteTime": {
     "end_time": "2023-06-16T18:23:52.282606Z",
     "start_time": "2023-06-16T18:23:52.063690Z"
    }
   },
   "outputs": [
    {
     "name": "stdout",
     "output_type": "stream",
     "text": [
      "Save to /home/wren/Nexis_SBI/notebooks/../mypkg/../results/nexis_num1_sd175_betaub10_gammaub2/params_trans.pkl\n",
      "Save to /home/wren/Nexis_SBI/notebooks/../mypkg/../results/nexis_num1_sd175_betaub10_gammaub2/x.pkl\n",
      "Save to /home/wren/Nexis_SBI/notebooks/../mypkg/../results/nexis_num1_sd175_betaub10_gammaub2/posterior.pkl\n",
      "i think i can load the previous results here-ish\n"
     ]
    }
   ],
   "source": [
    "# save it \n",
    "cur_res = edict()\n",
    "cur_res.params_trans = params\n",
    "cur_res.x = x\n",
    "cur_res.posterior = posterior\n",
    "save_pkl_dict2folder(paras.folder_path, cur_res, is_force=True)\n",
    "print('i think i can load the previous results here-ish')\n"
   ]
  },
  {
   "cell_type": "markdown",
   "id": "304320dd",
   "metadata": {},
   "source": [
    "### Posterior and scatterplots"
   ]
  },
  {
   "cell_type": "code",
   "execution_count": 83,
   "id": "5b8c4743",
   "metadata": {},
   "outputs": [
    {
     "name": "stdout",
     "output_type": "stream",
     "text": [
      "Load file /home/wren/Nexis_SBI/notebooks/../mypkg/../results/nexis_num1_sd175_betaub10_gammaub2/post_sps_org.pkl\n",
      "Load file /home/wren/Nexis_SBI/notebooks/../mypkg/../results/nexis_num1_sd175_betaub10_gammaub2/post_sps_trans.pkl\n",
      "Load file /home/wren/Nexis_SBI/notebooks/../mypkg/../results/nexis_num1_sd175_betaub10_gammaub2/posterior.pkl\n"
     ]
    }
   ],
   "source": [
    "#load\n",
    "cur_res = load_pkl_folder2dict(paras.folder_path, [\"x\", \"para*\"]);"
   ]
  },
  {
   "cell_type": "code",
   "execution_count": 84,
   "id": "90e096e9",
   "metadata": {},
   "outputs": [
    {
     "name": "stdout",
     "output_type": "stream",
     "text": [
      "get the nan locations\n",
      "[ True  True  True  True  True] \n",
      "\n",
      "get only the non nan locations\n",
      "[[0.00546448 0.0273224  0.01639344]\n",
      " [0.00546448 0.0273224  0.01639344]\n",
      " [0.00546448 0.0273224  0.01639344]\n",
      " [0.00546448 0.0273224  0.01639344]\n",
      " [0.00546448 0.0273224  0.01639344]] \n",
      "\n",
      "flatten into a simple list\n",
      "[0.00546448 0.0273224  0.01639344 0.00546448 0.0273224 ] \n",
      "\n",
      "convert into a tensor\n",
      "tensor([0.0055, 0.0273, 0.0164, 0.0055, 0.0273]) \n",
      "\n"
     ]
    },
    {
     "data": {
      "application/vnd.jupyter.widget-view+json": {
       "model_id": "6bacab2ea0c44acf9c6168a533f18cf9",
       "version_major": 2,
       "version_minor": 0
      },
      "text/plain": [
       "Drawing 1000 posterior samples:   0%|          | 0/1000 [00:00<?, ?it/s]"
      ]
     },
     "metadata": {},
     "output_type": "display_data"
    },
    {
     "name": "stdout",
     "output_type": "stream",
     "text": [
      "look at the processes happening internally\n",
      "ask about this\n",
      "tensor([[  4.4640,   7.5833, -16.1603,   4.5279,   8.6892,  -2.3460],\n",
      "        [  4.4640,   7.5833, -16.1603,   4.5279,   8.6892,  -2.3460],\n",
      "        [  4.4640,   7.5833, -16.1603,   4.5279,   8.6892,  -2.3460],\n",
      "        [  4.4640,   7.5833, -16.1603,   4.5279,   8.6892,  -2.3460],\n",
      "        [  4.4640,   7.5833, -16.1603,   4.5279,   8.6892,  -2.3460]]) \n",
      "\n",
      "not sure what is happening here, 1k samples of what?\n",
      "torch.Size([1000, 6])\n",
      "tensor([[ 0.6098,  6.8099,  0.3315,  0.6113,  2.0452, -0.5838],\n",
      "        [ 0.6098,  6.8099,  0.3315,  0.6113,  2.0452, -0.5838],\n",
      "        [ 0.6098,  6.8099,  0.3315,  0.6113,  2.0452, -0.5838],\n",
      "        [ 0.6098,  6.8099,  0.3315,  0.6113,  2.0452, -0.5838],\n",
      "        [ 0.6098,  6.8099,  0.3315,  0.6113,  2.0452, -0.5838]],\n",
      "       dtype=torch.float64) \n",
      "\n",
      "should be the parameters alpha,beta,gamma,s,b,p, i think\n",
      "[ 0.60917333  6.80990338  0.3315056   0.6113022   2.04520941 -0.58381259]\n"
     ]
    }
   ],
   "source": [
    "# taking a look at the steps performed in the later function query_posterior_statistics_from_sbi\n",
    "\n",
    "nonnan_idxs = np.isnan(data_DS4).sum(axis=1)==0\n",
    "print('get the nan locations')\n",
    "print(nonnan_idxs[0:5],'\\n')\n",
    "\n",
    "data_part = data[nonnan_idxs]\n",
    "print('get only the non nan locations')\n",
    "print(data_part[0:5],'\\n')\n",
    "\n",
    "cur_x_data = data_part.flatten()\n",
    "print('flatten into a simple list')\n",
    "print(cur_x_data[0:5],'\\n')\n",
    "\n",
    "cur_x_data = torch.Tensor(cur_x_data)\n",
    "print('convert into a tensor')\n",
    "print(cur_x_data[0:5],'\\n')\n",
    "\n",
    "post_sps_trans_data = cur_res.posterior.sample((1000, ),  x=cur_x_data)\n",
    "print('look at the processes happening internally')\n",
    "print('ask about this')\n",
    "print(post_sps_trans_data[0:5],'\\n')\n",
    "\n",
    "#cur_res.post_sps_trans_data = post_sps_trans_data\n",
    "post_sps_org_data = _para_trans2org(post_sps_trans_data, paras_.bds_full); # 1000 samples forming the posteriors of the parameters in the original space\n",
    "print('not sure what is happening here, 1k samples of what?')\n",
    "print(post_sps_org_data.shape)\n",
    "print(post_sps_org_data[0:5],'\\n')\n",
    "\n",
    "# Query posterior statistics\n",
    "# the distributions from sbi of the parameters\n",
    "param_post_data = np.array(post_sps_org_data) # Convert to numpy array\n",
    "postmean_data = np.mean(param_post_data,axis = 0) # Take mean over simulations (or whichever statistic you want, e.g. median, mode)\n",
    "print('should be the parameters alpha,beta,gamma,s,b,p, i think')\n",
    "print(postmean_data)\n"
   ]
  },
  {
   "cell_type": "code",
   "execution_count": 102,
   "id": "757a69ff",
   "metadata": {},
   "outputs": [
    {
     "name": "stdout",
     "output_type": "stream",
     "text": [
      "with the means of each parameter run the Nexis model\n",
      "[[0.03077253 0.46046286 5.24663814]\n",
      " [0.04244764 0.58046092 6.6439909 ]\n",
      " [0.04166221 0.52981677 5.69266326]\n",
      " [0.0244003  0.3790775  4.47190251]\n",
      " [0.05160549 0.71227866 7.89335954]] \n",
      "\n",
      "the nans removes\n",
      "[[0.03077253 0.46046286 5.24663814]\n",
      " [0.04244764 0.58046092 6.6439909 ]\n",
      " [0.04166221 0.52981677 5.69266326]\n",
      " [0.0244003  0.3790775  4.47190251]\n",
      " [0.05160549 0.71227866 7.89335954]] \n",
      "\n",
      "(292, 3) \n",
      "\n",
      "292 \n",
      "\n"
     ]
    }
   ],
   "source": [
    "# go through this step by step, when the nn converges, having a bit of trouble right now\n",
    "\n",
    "y_data = nexis_model.simulate_nexis(postmean_data) # Run the Nexis model using the best estimate of the parameters\n",
    "print('with the means of each parameter run the Nexis model')\n",
    "print(y_data[0:5],'\\n')\n",
    "\n",
    "y_data_part = y_data[nonnan_idxs] # remove unsampled regions\n",
    "print('the nans removes')\n",
    "print(y_data_part[0:5],'\\n')\n",
    "\n",
    "test = np.shape(y_data_part)\n",
    "print(test,'\\n')\n",
    "\n",
    "test = test[0]\n",
    "print('get just the ')\n",
    "print(test,'\\n')\n",
    "\n",
    "y_data_part_vec = np.reshape(y_data_part,(test*3,1)) # Flatten all time points of model simulation into a vector\n",
    "y_data_part_vec = np.ndarray.flatten(y_data_part_vec)\n",
    "data_part_vec = np.reshape(data_part,(test*3,1)) # Flatten all time points of data into a vector\n",
    "data_part_vec = np.ndarray.flatten(data_part_vec)\n",
    "\n",
    "# output summary statistics\n",
    "# all is stacked vectors from above, correlation to best fit line\n",
    "# model gets worse as time goes on for ds4\n",
    "# model is consistent for ds6\n",
    "R_all_data = np.corrcoef(y_data_part_vec,data_part_vec)# Calculate R\n",
    "R_all_data = R_all_data[0,1]\n",
    "R_1_data = np.corrcoef(y_data_part[:,0],data_part[:,0])# Calculate R\n",
    "R_1_data = R_1_data[0,1]\n",
    "R_2_data = np.corrcoef(y_data_part[:,1],data_part[:,1])# Calculate R\n",
    "R_2_data = R_2_data[0,1]\n",
    "R_3_data = np.corrcoef(y_data_part[:,2],data_part[:,2])# Calculate R\n",
    "R_3_data = R_3_data[0,1]\n"
   ]
  },
  {
   "cell_type": "code",
   "execution_count": 86,
   "id": "0ac05fb2",
   "metadata": {},
   "outputs": [],
   "source": [
    "def query_posterior_statistics_from_sbi(data):\n",
    "    '''\n",
    "    takes in the data from DS4-DS9_110\n",
    "    transforms to remove the nans\n",
    "    queries and returns the posterior statistics\n",
    "    '''\n",
    "    # pre processing to remove nan\n",
    "    nonnan_idxs = np.isnan(data).sum(axis=1)==0\n",
    "    data_part = data[nonnan_idxs];\n",
    "    cur_x_data = data_part.flatten();\n",
    "    cur_x_data = torch.Tensor(cur_x_data)\n",
    "    post_sps_trans_data = cur_res.posterior.sample((1000, ),  x=cur_x_data);\n",
    "    #cur_res.post_sps_trans_data = post_sps_trans_data\n",
    "    post_sps_org_data = _para_trans2org(post_sps_trans_data, paras_.bds_full); # 1000 samples forming the posteriors of the parameters in the original space\n",
    "\n",
    "    # Query posterior statistics\n",
    "    # the distributions from sbi of the parameters\n",
    "    param_post_data = np.array(post_sps_org_data) # Convert to numpy array\n",
    "    postmean_data = np.mean(param_post_data,axis = 0) # Take mean over simulations (or whichever statistic you want, e.g. median, mode)\n",
    "    return postmean_data\n",
    "\n",
    "def test_model_fit_using_mean_params(data):\n",
    "    '''\n",
    "    takes in the data from DS4-DS9_110\n",
    "    tests the model fit using the mean of the parameters\n",
    "    predicts based on the params\n",
    "    returns ...\n",
    "    '''\n",
    "    # Test out overall model fit using the mean of the parameters\n",
    "    # prediction based on parameteres\n",
    "    y_data = nexis_model.simulate_nexis(data) # Run the Nexis model using the best estimate of the parameters\n",
    "    y_data_part = y_data[nonnan_idxs] # remove unsampled regions\n",
    "    test = np.shape(y_data_part)\n",
    "    test = test[0]\n",
    "    y_data_part_vec = np.reshape(y_data_part,(test*3,1)) # Flatten all time points of model simulation into a vector\n",
    "    y_data_part_vec = np.ndarray.flatten(y_data_part_vec)\n",
    "    data_part_vec = np.reshape(data_part,(test*3,1)) # Flatten all time points of data into a vector\n",
    "    data_part_vec = np.ndarray.flatten(data_part_vec)\n",
    "\n",
    "    R_all_data = np.corrcoef(y_data_part_vec,data_part_vec)# Calculate R\n",
    "    R_all_data = R_all_data[0,1]\n",
    "    R_1_data = np.corrcoef(y_data_part[:,0],data_part[:,0])# Calculate R\n",
    "    R_1_data = R_1_data[0,1]\n",
    "    R_2_data = np.corrcoef(y_data_part[:,1],data_part[:,1])# Calculate R\n",
    "    R_2_data = R_2_data[0,1]\n",
    "    R_3_data = np.corrcoef(y_data_part[:,2],data_part[:,2])# Calculate R\n",
    "    R_3_data = R_3_data[0,1]\n",
    "    return [R_all_data, R_1_data, R_2_data, R_3_data, y_data_part,data_part]\n",
    "\n",
    "def plot_results_from_model_fit(model_fit_results,label):\n",
    "    '''\n",
    "    plots the model fit results and uses the label provided\n",
    "    '''\n",
    "    plt.plot(model_fit_results[4][:,0],model_fit_results[5][:,0],\"ro\")\n",
    "    plt.plot(model_fit_results[4][:,1],model_fit_results[5][:,1],\"go\")\n",
    "    plt.plot(model_fit_results[4][:,2],model_fit_results[5][:,2],\"bo\")\n",
    "    plt.ylabel(\"{0} data\".format(label))\n",
    "    plt.xlabel(\"{0} SBI\".format(label))\n",
    "    plt.show()"
   ]
  },
  {
   "cell_type": "code",
   "execution_count": 58,
   "id": "a9497564",
   "metadata": {},
   "outputs": [],
   "source": [
    "# thought i might need this but instead made dummies of params and x\n",
    "\n",
    "# default values for postmean_DS4 - bypass sbi\n",
    "# 1x6 array (.2,3,.1,.5,0,0) (alpha, beta, gamma, s, b, p) - different for different datasets\n",
    "# postmean_data_dummy = np.array([.2,3,.1,.5,0,0])\n",
    "# original ranges to reference\n",
    "# paras_.par_low = np.array([0, 0, 0, 0, -5, -5]) # Keep same\n",
    "# paras_.par_high = np.array([1, 10, 2, 1, 5, 5]) \n"
   ]
  },
  {
   "cell_type": "code",
   "execution_count": 87,
   "id": "11a1d4ba",
   "metadata": {
    "scrolled": false
   },
   "outputs": [
    {
     "data": {
      "application/vnd.jupyter.widget-view+json": {
       "model_id": "c52c6a661bb64773b2f2ebddc472c085",
       "version_major": 2,
       "version_minor": 0
      },
      "text/plain": [
       "Drawing 1000 posterior samples:   0%|          | 0/1000 [00:00<?, ?it/s]"
      ]
     },
     "metadata": {},
     "output_type": "display_data"
    },
    {
     "name": "stdout",
     "output_type": "stream",
     "text": [
      "[ 0.60978311  6.80990338  0.3315056   0.6113022   2.04520941 -0.58381259]\n",
      "R_all_0 = 0.42\n",
      "R_1_0 = 0.58\n",
      "R_2_0 = 0.40\n",
      "R_3_0 = 0.07\n"
     ]
    },
    {
     "data": {
      "image/png": "[encoded data removed]",
      "text/plain": [
       "<Figure size 432x288 with 1 Axes>"
      ]
     },
     "metadata": {
      "needs_background": "light"
     },
     "output_type": "display_data"
    },
    {
     "data": {
      "application/vnd.jupyter.widget-view+json": {
       "model_id": "f8090197cfbe46b582d4a07303e876e8",
       "version_major": 2,
       "version_minor": 0
      },
      "text/plain": [
       "Drawing 1000 posterior samples:   0%|          | 0/1000 [00:00<?, ?it/s]"
      ]
     },
     "metadata": {},
     "output_type": "display_data"
    },
    {
     "name": "stdout",
     "output_type": "stream",
     "text": [
      "[ 0.60978311  6.80990338  0.3315056   0.6113022   2.04520941 -0.58381259]\n",
      "R_all_0 = 0.42\n",
      "R_1_0 = 0.58\n",
      "R_2_0 = 0.40\n",
      "R_3_0 = 0.07\n"
     ]
    },
    {
     "data": {
      "image/png": "[encoded data removed]",
      "text/plain": [
       "<Figure size 432x288 with 1 Axes>"
      ]
     },
     "metadata": {
      "needs_background": "light"
     },
     "output_type": "display_data"
    },
    {
     "data": {
      "application/vnd.jupyter.widget-view+json": {
       "model_id": "98725b1da3f641ebb34dbcd727da61bf",
       "version_major": 2,
       "version_minor": 0
      },
      "text/plain": [
       "Drawing 1000 posterior samples:   0%|          | 0/1000 [00:00<?, ?it/s]"
      ]
     },
     "metadata": {},
     "output_type": "display_data"
    },
    {
     "name": "stdout",
     "output_type": "stream",
     "text": [
      "[ 0.60978311  6.80990338  0.3315056   0.6113022   2.04520941 -0.58381259]\n",
      "R_all_0 = 0.42\n",
      "R_1_0 = 0.58\n",
      "R_2_0 = 0.40\n",
      "R_3_0 = 0.07\n"
     ]
    },
    {
     "data": {
      "image/png": "[encoded data removed]",
      "text/plain": [
       "<Figure size 432x288 with 1 Axes>"
      ]
     },
     "metadata": {
      "needs_background": "light"
     },
     "output_type": "display_data"
    },
    {
     "data": {
      "application/vnd.jupyter.widget-view+json": {
       "model_id": "5cdbc62ff62a4554824adb9f546e0c6a",
       "version_major": 2,
       "version_minor": 0
      },
      "text/plain": [
       "Drawing 1000 posterior samples:   0%|          | 0/1000 [00:00<?, ?it/s]"
      ]
     },
     "metadata": {},
     "output_type": "display_data"
    },
    {
     "name": "stdout",
     "output_type": "stream",
     "text": [
      "[ 0.60978311  6.80990338  0.3315056   0.6113022   2.04520941 -0.58381259]\n",
      "R_all_0 = 0.42\n",
      "R_1_0 = 0.58\n",
      "R_2_0 = 0.40\n",
      "R_3_0 = 0.07\n"
     ]
    },
    {
     "data": {
      "image/png": "[encoded data removed]",
      "text/plain": [
       "<Figure size 432x288 with 1 Axes>"
      ]
     },
     "metadata": {
      "needs_background": "light"
     },
     "output_type": "display_data"
    },
    {
     "data": {
      "application/vnd.jupyter.widget-view+json": {
       "model_id": "b6ae902bfd6f4a798269d1b64d85d999",
       "version_major": 2,
       "version_minor": 0
      },
      "text/plain": [
       "Drawing 1000 posterior samples:   0%|          | 0/1000 [00:00<?, ?it/s]"
      ]
     },
     "metadata": {},
     "output_type": "display_data"
    },
    {
     "name": "stdout",
     "output_type": "stream",
     "text": [
      "[ 0.60978311  6.80990338  0.3315056   0.6113022   2.04520941 -0.58381259]\n",
      "R_all_0 = 0.42\n",
      "R_1_0 = 0.58\n",
      "R_2_0 = 0.40\n",
      "R_3_0 = 0.07\n"
     ]
    },
    {
     "data": {
      "image/png": "[encoded data removed]",
      "text/plain": [
       "<Figure size 432x288 with 1 Axes>"
      ]
     },
     "metadata": {
      "needs_background": "light"
     },
     "output_type": "display_data"
    },
    {
     "data": {
      "application/vnd.jupyter.widget-view+json": {
       "model_id": "9044f7a1a8d94abebc9f532c0c881f2e",
       "version_major": 2,
       "version_minor": 0
      },
      "text/plain": [
       "Drawing 1000 posterior samples:   0%|          | 0/1000 [00:00<?, ?it/s]"
      ]
     },
     "metadata": {},
     "output_type": "display_data"
    },
    {
     "name": "stdout",
     "output_type": "stream",
     "text": [
      "[ 0.60978311  6.80990338  0.3315056   0.6113022   2.04520941 -0.58381259]\n",
      "R_all_0 = 0.42\n",
      "R_1_0 = 0.58\n",
      "R_2_0 = 0.40\n",
      "R_3_0 = 0.07\n"
     ]
    },
    {
     "data": {
      "image/png": "[encoded data removed]",
      "text/plain": [
       "<Figure size 432x288 with 1 Axes>"
      ]
     },
     "metadata": {
      "needs_background": "light"
     },
     "output_type": "display_data"
    }
   ],
   "source": [
    "datasets = [data_DS4,data_DS6,data_DS7,data_DS9,data_DS6_110,data_DS9_110]\n",
    "labels = ['DS4','DS6','DS7','DS9','DS6_110','DS9_110']\n",
    "\n",
    "for dataset,label in zip(datasets,labels):\n",
    "    postmean_data = query_posterior_statistics_from_sbi(dataset)\n",
    "    unsure_what_these_are = test_model_fit_using_mean_params(postmean_data)\n",
    "\n",
    "    print(postmean_data)\n",
    "\n",
    "    print(f'R_all_{0} = {unsure_what_these_are[0]:.2f}'.format(label))\n",
    "    print(f'R_1_{0} = {unsure_what_these_are[1]:.2f}'.format(label))\n",
    "    print(f'R_2_{0} = {unsure_what_these_are[2]:.2f}'.format(label))\n",
    "    print(f'R_3_{0} = {unsure_what_these_are[3]:.2f}'.format(label))\n",
    "\n",
    "    plot_results_from_model_fit(unsure_what_these_are,label)"
   ]
  },
  {
   "cell_type": "markdown",
   "id": "a760e52d",
   "metadata": {},
   "source": [
    "### Posterior "
   ]
  },
  {
   "cell_type": "code",
   "execution_count": 88,
   "id": "6b548503",
   "metadata": {
    "ExecuteTime": {
     "end_time": "2023-06-16T18:23:55.652420Z",
     "start_time": "2023-06-16T18:23:55.511383Z"
    }
   },
   "outputs": [
    {
     "name": "stdout",
     "output_type": "stream",
     "text": [
      "Load file /home/wren/Nexis_SBI/notebooks/../mypkg/../results/nexis_num1_sd175_betaub10_gammaub2/post_sps_org.pkl\n",
      "Load file /home/wren/Nexis_SBI/notebooks/../mypkg/../results/nexis_num1_sd175_betaub10_gammaub2/post_sps_trans.pkl\n",
      "Load file /home/wren/Nexis_SBI/notebooks/../mypkg/../results/nexis_num1_sd175_betaub10_gammaub2/posterior.pkl\n"
     ]
    }
   ],
   "source": [
    "cur_res = load_pkl_folder2dict(paras.folder_path, [\"x\", \"para*\"]);"
   ]
  },
  {
   "cell_type": "code",
   "execution_count": 89,
   "id": "3f3500ae",
   "metadata": {
    "ExecuteTime": {
     "end_time": "2023-06-16T18:26:28.617102Z",
     "start_time": "2023-06-16T18:26:28.555567Z"
    }
   },
   "outputs": [
    {
     "data": {
      "application/vnd.jupyter.widget-view+json": {
       "model_id": "3a3a4e30fc3944208523b98618bda25c",
       "version_major": 2,
       "version_minor": 0
      },
      "text/plain": [
       "Drawing 1000 posterior samples:   0%|          | 0/1000 [00:00<?, ?it/s]"
      ]
     },
     "metadata": {},
     "output_type": "display_data"
    }
   ],
   "source": [
    "# just to remove nan\n",
    "# now my real data has nan, you should find a way to handle the nan\n",
    "nonnan_idxs = np.isnan(data_DS4).sum(axis=1)==0\n",
    "data_part = data_DS4[nonnan_idxs];\n",
    "cur_x = data_part.flatten();\n",
    "cur_x = torch.Tensor(cur_x)\n",
    "post_sps_trans = cur_res.posterior.sample((1000, ),  x=cur_x);"
   ]
  },
  {
   "cell_type": "code",
   "execution_count": 90,
   "id": "40eae794",
   "metadata": {
    "ExecuteTime": {
     "end_time": "2023-06-16T18:26:31.156117Z",
     "start_time": "2023-06-16T18:26:29.581437Z"
    }
   },
   "outputs": [
    {
     "name": "stdout",
     "output_type": "stream",
     "text": [
      "Save to /home/wren/Nexis_SBI/notebooks/../mypkg/../results/nexis_num1_sd175_betaub10_gammaub2/post_sps_org.pkl\n",
      "Save to /home/wren/Nexis_SBI/notebooks/../mypkg/../results/nexis_num1_sd175_betaub10_gammaub2/post_sps_trans.pkl\n",
      "Save to /home/wren/Nexis_SBI/notebooks/../mypkg/../results/nexis_num1_sd175_betaub10_gammaub2/posterior.pkl\n"
     ]
    },
    {
     "data": {
      "image/png": "[encoded data removed]",
      "text/plain": [
       "<Figure size 576x576 with 36 Axes>"
      ]
     },
     "metadata": {
      "needs_background": "light"
     },
     "output_type": "display_data"
    }
   ],
   "source": [
    "cur_res.post_sps_trans = post_sps_trans\n",
    "save_pkl_dict2folder(paras.folder_path, cur_res, is_force=True, verbose=True);\n",
    "_ = analysis.pairplot(cur_res.post_sps_trans,\n",
    "                      labels=paras_.names, \n",
    "                      figsize=(8,8));"
   ]
  },
  {
   "cell_type": "code",
   "execution_count": 91,
   "id": "dce02f1f",
   "metadata": {
    "ExecuteTime": {
     "end_time": "2023-06-16T18:26:52.956070Z",
     "start_time": "2023-06-16T18:26:51.856012Z"
    }
   },
   "outputs": [
    {
     "data": {
      "image/png": "[encoded data removed]",
      "text/plain": [
       "<Figure size 576x576 with 36 Axes>"
      ]
     },
     "metadata": {
      "needs_background": "light"
     },
     "output_type": "display_data"
    }
   ],
   "source": [
    "# from trans_data to org data\n",
    "post_sps_org = _para_trans2org(cur_res.post_sps_trans, paras_.bds_full); # 1000 samples forming the posteriors of the parameters in the original space\n",
    "cur_res.post_sps_org = post_sps_org\n",
    "save_pkl_dict2folder(paras.folder_path, cur_res, is_force=True, verbose=False)\n",
    "_ = analysis.pairplot(cur_res.post_sps_org,\n",
    "                      limits=paras_.bds_full,\n",
    "                      labels=paras_.names, \n",
    "                      figsize=(8,8));"
   ]
  },
  {
   "cell_type": "code",
   "execution_count": 92,
   "id": "1e556805",
   "metadata": {},
   "outputs": [],
   "source": [
    "# Create model from modes of distributions and compare (e.g. Pearson's correlation, scatterplot) with the data"
   ]
  },
  {
   "cell_type": "code",
   "execution_count": 93,
   "id": "8b2d22a4",
   "metadata": {},
   "outputs": [],
   "source": [
    "# Tablulate the correspondence between model and data as a function of the parameters that were used\n",
    "# and the hyperparameters/conditions that were passed to SBI to compare/contrast and find an \"optimal\"\n",
    "# way to run"
   ]
  },
  {
   "cell_type": "code",
   "execution_count": 94,
   "id": "bd1406cf",
   "metadata": {},
   "outputs": [
    {
     "name": "stdout",
     "output_type": "stream",
     "text": [
      "[ 0.60978311  6.80990338  0.3315056   0.6113022   2.04520941 -0.58381259]\n"
     ]
    }
   ],
   "source": [
    "# Query posterior statistics\n",
    "param_post = np.array(post_sps_org) # Convert to numpy array\n",
    "postmean = np.mean(param_post,axis = 0) # Take mean over simulations (or whichever statistic you want, e.g. median, mode)\n",
    "print(postmean)"
   ]
  },
  {
   "cell_type": "code",
   "execution_count": 95,
   "id": "fd95aa97",
   "metadata": {},
   "outputs": [
    {
     "name": "stdout",
     "output_type": "stream",
     "text": [
      "[[1.         0.42077226]\n",
      " [0.42077226 1.        ]]\n",
      "[[1.        0.5777423]\n",
      " [0.5777423 1.       ]]\n",
      "[[1.         0.40292229]\n",
      " [0.40292229 1.        ]]\n",
      "[[1.         0.07429408]\n",
      " [0.07429408 1.        ]]\n"
     ]
    }
   ],
   "source": [
    "# Test out overall model fit using the mean of the parameters\n",
    "y = nexis_model.simulate_nexis(postmean) # Run the Nexis model using the best estimate of the parameters\n",
    "y_part = y[nonnan_idxs] # remove unsampled regions\n",
    "test = np.shape(y_part)\n",
    "test = test[0]\n",
    "y_part_vec = np.reshape(y_part,(test*3,1)) # Flatten all time points of model simulation into a vector\n",
    "y_part_vec = np.ndarray.flatten(y_part_vec)\n",
    "data_part_vec = np.reshape(data_part,(test*3,1)) # Flatten all time points of data into a vector\n",
    "data_part_vec = np.ndarray.flatten(data_part_vec)\n",
    "print(np.corrcoef(y_part_vec,data_part_vec)) # Calculate R\n",
    "print(np.corrcoef(y_part[:,0],data_part[:,0]))\n",
    "print(np.corrcoef(y_part[:,1],data_part[:,1]))\n",
    "print(np.corrcoef(y_part[:,2],data_part[:,2]))"
   ]
  },
  {
   "cell_type": "code",
   "execution_count": null,
   "id": "ca82274f",
   "metadata": {},
   "outputs": [],
   "source": [
    "# Summary of things to test:\n",
    "# Prior noise term (bounded between 0 and 2)\n",
    "# Number of samples to train SBI on (bounded between 1e4 and 2e5)\n",
    "\n",
    "# Desired outputs (tabular)\n",
    "# Posterior statistics (mean, median, standard deviation) on the four relevant model parameters\n",
    "# Fits to data per time point (R or R^2)\n",
    "# Overall fit to data across time point (R or R^2)\n",
    "# Scatterplots of best hyperparameter sets"
   ]
  },
  {
   "cell_type": "code",
   "execution_count": null,
   "id": "e1e5b0f1",
   "metadata": {},
   "outputs": [],
   "source": []
  },
  {
   "cell_type": "code",
   "execution_count": null,
   "id": "91e808ac",
   "metadata": {},
   "outputs": [],
   "source": []
  },
  {
   "cell_type": "code",
   "execution_count": null,
   "id": "8ff37706",
   "metadata": {},
   "outputs": [],
   "source": []
  },
  {
   "cell_type": "code",
   "execution_count": null,
   "id": "580a6c6c",
   "metadata": {},
   "outputs": [],
   "source": []
  },
  {
   "cell_type": "code",
   "execution_count": null,
   "id": "8825bb32",
   "metadata": {},
   "outputs": [],
   "source": []
  },
  {
   "cell_type": "code",
   "execution_count": null,
   "id": "0e0a99c9",
   "metadata": {},
   "outputs": [],
   "source": []
  },
  {
   "cell_type": "code",
   "execution_count": null,
   "id": "00ff809f",
   "metadata": {},
   "outputs": [],
   "source": []
  }
 ],
 "metadata": {
  "kernelspec": {
   "display_name": "Python 3 (ipykernel)",
   "language": "python",
   "name": "python3"
  },
  "language_info": {
   "codemirror_mode": {
    "name": "ipython",
    "version": 3
   },
   "file_extension": ".py",
   "mimetype": "text/x-python",
   "name": "python",
   "nbconvert_exporter": "python",
   "pygments_lexer": "ipython3",
   "version": "3.9.7"
  },
  "toc": {
   "base_numbering": 1,
   "nav_menu": {},
   "number_sections": true,
   "sideBar": true,
   "skip_h1_title": false,
   "title_cell": "Table of Contents",
   "title_sidebar": "Contents",
   "toc_cell": false,
   "toc_position": {
    "height": "calc(100% - 180px)",
    "left": "10px",
    "top": "150px",
    "width": "193px"
   },
   "toc_section_display": true,
   "toc_window_display": true
  }
 },
 "nbformat": 4,
 "nbformat_minor": 5
}
