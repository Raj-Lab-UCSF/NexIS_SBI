{
 "cells": [
  {
   "cell_type": "markdown",
   "id": "48ee4fd6",
   "metadata": {},
   "source": [
    "This file is to try Nexis-SBI\n",
    "\n",
    "Note that, the original Nexis params are bounded, so I transform them first (to real line). \n",
    "\n",
    "The simulator fn in our case requires trans-params not the org params. \n",
    "I put a guassian prior on the trans-params. \n",
    "So the SBI gives the posterior sps of the trans-params, I transform them back to the original params.\n",
    "\n"
   ]
  },
  {
   "cell_type": "markdown",
   "id": "269c1f0a",
   "metadata": {},
   "source": [
    "### import and define"
   ]
  },
  {
   "cell_type": "code",
   "execution_count": 1,
   "id": "4e45686c",
   "metadata": {
    "ExecuteTime": {
     "end_time": "2023-06-16T18:06:37.190434Z",
     "start_time": "2023-06-16T18:06:36.103743Z"
    }
   },
   "outputs": [],
   "source": [
    "import sys\n",
    "sys.path.append(\"../mypkg\")\n",
    "import mkl"
   ]
  },
  {
   "cell_type": "markdown",
   "id": "e5ca9b8a",
   "metadata": {},
   "source": [
    "#### Other pkgs"
   ]
  },
  {
   "cell_type": "code",
   "execution_count": 2,
   "id": "c93dcfe1",
   "metadata": {
    "ExecuteTime": {
     "end_time": "2023-06-16T18:06:45.658885Z",
     "start_time": "2023-06-16T18:06:39.727036Z"
    }
   },
   "outputs": [],
   "source": [
    "from tqdm import trange, tqdm\n",
    "\n",
    "import torch\n",
    "import torch.nn as nn \n",
    "import torch.nn.functional as F \n",
    "from sbi import analysis as analysis\n",
    "from sbi.inference.base import infer\n",
    "from sbi.inference import SNPE, prepare_for_sbi, simulate_for_sbi\n",
    "from sbi.utils.get_nn_models import posterior_nn\n",
    "from torch.distributions.multivariate_normal import MultivariateNormal\n",
    "\n",
    "import numpy as np\n",
    "from easydict import EasyDict as edict\n",
    "from pathlib import Path\n",
    "import pickle\n",
    "import scipy\n",
    "\n",
    "import seaborn as sns\n",
    "import pandas as pd\n",
    "import numpy as np\n",
    "import matplotlib.pyplot as plt\n",
    "import json\n",
    "from functools import partial\n",
    "\n",
    "import warnings\n",
    "warnings.filterwarnings(\"ignore\")"
   ]
  },
  {
   "cell_type": "code",
   "execution_count": null,
   "id": "aac0886a",
   "metadata": {},
   "outputs": [],
   "source": []
  },
  {
   "cell_type": "markdown",
   "id": "7452265b",
   "metadata": {},
   "source": [
    "#### My own pkgs"
   ]
  },
  {
   "cell_type": "code",
   "execution_count": 3,
   "id": "da2f4f7a",
   "metadata": {
    "ExecuteTime": {
     "end_time": "2023-06-16T18:07:05.434394Z",
     "start_time": "2023-06-16T18:07:05.429599Z"
    }
   },
   "outputs": [],
   "source": [
    "import importlib\n",
    "\n",
    "from utils.misc import save_pkl_dict2folder, load_pkl_folder2dict\n",
    "from utils.reparam import para_trans2org, logistic_np, logistic_torch\n",
    "from constants import RES_ROOT, FIG_ROOT, DATA_ROOT\n",
    "import from_justin.nexis as nx"
   ]
  },
  {
   "cell_type": "code",
   "execution_count": 4,
   "id": "9a6bdc4e",
   "metadata": {},
   "outputs": [],
   "source": [
    "# # load the data and build the nexis model\n",
    "# loadinst = nx.loading_matfiles()\n",
    "# endmstuff = loadinst.load_file('eNDM_mousedata.mat')\n",
    "# # the following are required for build a model\n",
    "# C = endmstuff['Networks'][0,0]['ret']\n",
    "# C = C / np.max(C[:])\n",
    "# endmstuff_kauf = loadinst.load_file('KaufmanDiamond_datasets_dat&seed.mat')\n",
    "# seedvec = endmstuff_kauf['seed426'][0,0]['DS6']\n",
    "# tpts = endmstuff_kauf['tpts'][0,0]['DS6'][0]\n",
    "# U = np.zeros([426,1]);\n",
    "\n",
    "# # the model for generate\n",
    "# nexis_model = nx.run_Nexis(C, U, seedvec, tpts)\n",
    "\n",
    "# # real data, the real data decide the nan positions and decide the simulator function\n",
    "# data = endmstuff_kauf['data426'][0,0]['DS6'];"
   ]
  },
  {
   "cell_type": "code",
   "execution_count": 5,
   "id": "619fca02",
   "metadata": {},
   "outputs": [],
   "source": [
    "# np.shape(seedvec)"
   ]
  },
  {
   "cell_type": "markdown",
   "id": "4022c78f",
   "metadata": {},
   "source": [
    "### Load data "
   ]
  },
  {
   "cell_type": "code",
   "execution_count": 6,
   "id": "182ff6f5",
   "metadata": {
    "ExecuteTime": {
     "end_time": "2023-06-16T18:08:41.223394Z",
     "start_time": "2023-06-16T18:08:40.806375Z"
    }
   },
   "outputs": [],
   "source": [
    "# load the data and build the nexis model\n",
    "loadinst = nx.loading_matfiles()\n",
    "studyname = 'DS6'\n",
    "# load the connectome and normalize\n",
    "C = loadinst.load_file('Connectomes.mat')\n",
    "C = C['Connectomes'][0,0]['default']\n",
    "C = C / np.max(C[:])\n",
    "# load the data\n",
    "endmstuff = loadinst.load_file('Mouse_Tauopathy_Data_HigherQ_CCF.mat')\n",
    "data = endmstuff['mousedata_struct_ccf'][0,0][studyname][0]['data'][0]\n",
    "seedvec = endmstuff['mousedata_struct_ccf'][0,0][studyname][0]['seed'][0]\n",
    "tpts = endmstuff['mousedata_struct_ccf'][0,0][studyname][0]['time_stamps'][0]\n",
    "tpts = np.ndarray.flatten(tpts)\n",
    "U = np.zeros([426,1]); # cell type or gene expression vector/matrix\n",
    "\n",
    "# the model for generate\n",
    "nexis_model = nx.run_Nexis(C, U, seedvec, tpts, w_dir_ = 1, volcorrect_ = 1) # Keep same"
   ]
  },
  {
   "cell_type": "markdown",
   "id": "b6960bf4",
   "metadata": {},
   "source": [
    "#### Set up Parameters"
   ]
  },
  {
   "cell_type": "code",
   "execution_count": 7,
   "id": "d9326efc",
   "metadata": {
    "ExecuteTime": {
     "end_time": "2023-06-16T18:22:38.008144Z",
     "start_time": "2023-06-16T18:22:37.994608Z"
    }
   },
   "outputs": [],
   "source": [
    "# some constant parameters for this file\n",
    "# typically not change\n",
    "paras_ = edict()\n",
    "paras_.n_types = U.shape[1]\n",
    "# same order to the function\n",
    "paras_.par_low = np.array([0, 0, 0, 0, -5, -5]) # Keep same\n",
    "# maybe play around with this one, lower paras_.par_high[1] to 3 and lower paras_.par_high[2] to 5(?)\n",
    "paras_.par_high = np.array([1, 5, 10, 1, 5, 5]) \n",
    "paras_.bds = np.array([paras_.par_low, paras_.par_high]).T\n",
    "paras_.names = [\"alpha\", \"beta\", \"gamma\", \"s\", \"b\", \"p\"]\n",
    "# the parameter for var transfomration\n",
    "# take the length of b and p into account\n",
    "paras_.bds_full = np.concatenate([paras_.bds[:-2], \n",
    "    np.repeat(paras_.bds[-2].reshape(1, -1), paras_.n_types, axis=0),\n",
    "    np.repeat(paras_.bds[-1].reshape(1, -1), paras_.n_types, axis=0),\n",
    "    ])\n",
    "paras_.k = 0.1 # Keep same\n",
    "\n",
    "# convert the trans-param back to the org params\n",
    "_para_trans2org = partial(para_trans2org, \n",
    "                          map_fn=partial(logistic_np, k=paras_.k))\n",
    "\n",
    "# Some hyperparams, tuning them for better results\n",
    "paras = edict()\n",
    "# the std of noise added to the simulated data, now my formula is simu_data * (1+noise)\n",
    "# You may want to tune it. Larger one, smoother of the posterior.\n",
    "paras.noise_sd = 0.5 # CHANGE THIS ONE: range [0,2] (maybe linear from 0 to 2, 0.2 step size)\n",
    "# The num of simulated sps used for training the model, 1e3 is too small, make it larger. \n",
    "# The larger, the better, but you also have to consider the computational burden.\n",
    "paras.num_prior_sps = int(1000) # CHANGE THIS ONE: range [1e4,2e5] (pick a few: 10000,50000,100000,200000)\n",
    "# The density estimator. \n",
    "# Without solid reason, do not change it \n",
    "paras.den_est = \"nsf\" # Keep same\n",
    "# The std of prior of the parameters\n",
    "# Without solid reason, do not change it \n",
    "# If you change it, you have to also adjust paras_.k\n",
    "paras.prior_sd = 10 # Keep same"
   ]
  },
  {
   "cell_type": "code",
   "execution_count": 8,
   "id": "221b3b6d",
   "metadata": {
    "ExecuteTime": {
     "end_time": "2023-06-16T18:22:38.760402Z",
     "start_time": "2023-06-16T18:22:38.740674Z"
    }
   },
   "outputs": [
    {
     "name": "stdout",
     "output_type": "stream",
     "text": [
      "folder is /data/rajlab1/user_data/lucia/Nexis_SBI/notebooks/../mypkg/../results/nexis_num1000_sd50_denestnsf\n"
     ]
    }
   ],
   "source": [
    "# save the results\n",
    "_folder_path = f\"./nexis_num{paras.num_prior_sps:.0f}\" +\\\n",
    "               f\"_sd{paras.noise_sd*100:.0f}\" +\\\n",
    "               f\"_denest{paras.den_est}\"\n",
    "paras.folder_path = RES_ROOT/_folder_path\n",
    "print(f\"folder is {paras.folder_path}\")\n",
    "if not paras.folder_path.exists():\n",
    "    paras.folder_path.mkdir()"
   ]
  },
  {
   "cell_type": "markdown",
   "id": "86923703",
   "metadata": {},
   "source": [
    "### Prepare for SBI"
   ]
  },
  {
   "cell_type": "code",
   "execution_count": 9,
   "id": "b4ee7118",
   "metadata": {
    "ExecuteTime": {
     "end_time": "2023-06-16T18:22:39.736632Z",
     "start_time": "2023-06-16T18:22:39.730143Z"
    }
   },
   "outputs": [],
   "source": [
    "# The main fn in SBI, simulate the data\n",
    "def simulator(para_trans, noise_sd, data):\n",
    "    \"\"\"I add noise by multiplying\"\"\"\n",
    "    para_org = _para_trans2org(para_trans, paras_.bds_full)\n",
    "    res = nexis_model.simulate_nexis(para_org);\n",
    "    # remove the part of simu-data corresponding to the nan in the real data\n",
    "    nonnan_idxs = ~np.isnan(data.sum(axis=1));\n",
    "    res = res[nonnan_idxs]\n",
    "    noise = np.random.randn(*res.shape)*noise_sd + 1\n",
    "    return res * noise "
   ]
  },
  {
   "cell_type": "code",
   "execution_count": 10,
   "id": "23dff474",
   "metadata": {
    "ExecuteTime": {
     "end_time": "2023-06-16T18:22:40.642306Z",
     "start_time": "2023-06-16T18:22:40.619212Z"
    }
   },
   "outputs": [],
   "source": [
    "# The prior dist to generate the simulated data\n",
    "prior = MultivariateNormal(loc=torch.zeros(paras_.bds_full.shape[0]), \n",
    "                           covariance_matrix=torch.eye(paras_.bds_full.shape[0])*(paras.prior_sd**2))"
   ]
  },
  {
   "cell_type": "code",
   "execution_count": null,
   "id": "54329d44",
   "metadata": {},
   "outputs": [],
   "source": []
  },
  {
   "cell_type": "markdown",
   "id": "5a694c3b",
   "metadata": {},
   "source": [
    "### SBI"
   ]
  },
  {
   "cell_type": "code",
   "execution_count": 11,
   "id": "c82b5b02",
   "metadata": {
    "ExecuteTime": {
     "end_time": "2023-06-16T18:18:22.715307Z",
     "start_time": "2023-06-16T18:18:22.477139Z"
    }
   },
   "outputs": [],
   "source": [
    "simulator_sp = partial(simulator,  noise_sd=paras.noise_sd, data=data)\n",
    "# make a SBI-wrapper on the simulator object for compatibility\n",
    "simulator_wrapper, prior = prepare_for_sbi(simulator_sp, prior)"
   ]
  },
  {
   "cell_type": "code",
   "execution_count": null,
   "id": "013eacb0",
   "metadata": {},
   "outputs": [],
   "source": []
  },
  {
   "cell_type": "markdown",
   "id": "aa59351b",
   "metadata": {},
   "source": [
    "#### RUN"
   ]
  },
  {
   "cell_type": "code",
   "execution_count": 12,
   "id": "78809473",
   "metadata": {
    "ExecuteTime": {
     "end_time": "2023-06-16T18:18:55.374810Z",
     "start_time": "2023-06-16T18:18:26.014944Z"
    },
    "scrolled": true
   },
   "outputs": [
    {
     "data": {
      "application/vnd.jupyter.widget-view+json": {
       "model_id": "8cbc0152cf2c4fc1b8e0bcde4c2a2433",
       "version_major": 2,
       "version_minor": 0
      },
      "text/plain": [
       "Running 1000 simulations in 1000 batches.:   0%|          | 0/1000 [00:26<?, ?it/s]"
      ]
     },
     "metadata": {},
     "output_type": "display_data"
    },
    {
     "name": "stderr",
     "output_type": "stream",
     "text": [
      "/data/rajlab1/user_data/lucia/Nexis_SBI/notebooks/../mypkg/utils/reparam.py:32: UserWarning: masked_fill_ received a mask with dtype torch.uint8, this behavior is now deprecated,please use a mask with dtype torch.bool instead. (Triggered internally at  ../aten/src/ATen/native/TensorAdvancedIndexing.cpp:1582.)\n",
      "  res[np.isinf(num)] = 1\n",
      "/data/rajlab1/user_data/lucia/Nexis_SBI/notebooks/../mypkg/utils/reparam.py:32: UserWarning: masked_fill_ received a mask with dtype torch.uint8, this behavior is now deprecated,please use a mask with dtype torch.bool instead. (Triggered internally at  ../aten/src/ATen/native/TensorAdvancedIndexing.cpp:1582.)\n",
      "  res[np.isinf(num)] = 1\n",
      "/data/rajlab1/user_data/lucia/Nexis_SBI/notebooks/../mypkg/utils/reparam.py:32: UserWarning: masked_fill_ received a mask with dtype torch.uint8, this behavior is now deprecated,please use a mask with dtype torch.bool instead. (Triggered internally at  ../aten/src/ATen/native/TensorAdvancedIndexing.cpp:1582.)\n",
      "  res[np.isinf(num)] = 1\n",
      "/data/rajlab1/user_data/lucia/Nexis_SBI/notebooks/../mypkg/utils/reparam.py:32: UserWarning: masked_fill_ received a mask with dtype torch.uint8, this behavior is now deprecated,please use a mask with dtype torch.bool instead. (Triggered internally at  ../aten/src/ATen/native/TensorAdvancedIndexing.cpp:1582.)\n",
      "  res[np.isinf(num)] = 1\n",
      "/data/rajlab1/user_data/lucia/Nexis_SBI/notebooks/../mypkg/utils/reparam.py:32: UserWarning: masked_fill_ received a mask with dtype torch.uint8, this behavior is now deprecated,please use a mask with dtype torch.bool instead. (Triggered internally at  ../aten/src/ATen/native/TensorAdvancedIndexing.cpp:1582.)\n",
      "  res[np.isinf(num)] = 1\n",
      "/data/rajlab1/user_data/lucia/Nexis_SBI/notebooks/../mypkg/utils/reparam.py:32: UserWarning: masked_fill_ received a mask with dtype torch.uint8, this behavior is now deprecated,please use a mask with dtype torch.bool instead. (Triggered internally at  ../aten/src/ATen/native/TensorAdvancedIndexing.cpp:1582.)\n",
      "  res[np.isinf(num)] = 1\n",
      "/data/rajlab1/user_data/lucia/Nexis_SBI/notebooks/../mypkg/utils/reparam.py:32: UserWarning: masked_fill_ received a mask with dtype torch.uint8, this behavior is now deprecated,please use a mask with dtype torch.bool instead. (Triggered internally at  ../aten/src/ATen/native/TensorAdvancedIndexing.cpp:1582.)\n",
      "  res[np.isinf(num)] = 1\n",
      "/data/rajlab1/user_data/lucia/Nexis_SBI/notebooks/../mypkg/utils/reparam.py:32: UserWarning: masked_fill_ received a mask with dtype torch.uint8, this behavior is now deprecated,please use a mask with dtype torch.bool instead. (Triggered internally at  ../aten/src/ATen/native/TensorAdvancedIndexing.cpp:1582.)\n",
      "  res[np.isinf(num)] = 1\n",
      "/data/rajlab1/user_data/lucia/Nexis_SBI/notebooks/../mypkg/utils/reparam.py:32: UserWarning: masked_fill_ received a mask with dtype torch.uint8, this behavior is now deprecated,please use a mask with dtype torch.bool instead. (Triggered internally at  ../aten/src/ATen/native/TensorAdvancedIndexing.cpp:1582.)\n",
      "  res[np.isinf(num)] = 1\n",
      "/data/rajlab1/user_data/lucia/Nexis_SBI/notebooks/../mypkg/utils/reparam.py:32: UserWarning: masked_fill_ received a mask with dtype torch.uint8, this behavior is now deprecated,please use a mask with dtype torch.bool instead. (Triggered internally at  ../aten/src/ATen/native/TensorAdvancedIndexing.cpp:1582.)\n",
      "  res[np.isinf(num)] = 1\n"
     ]
    }
   ],
   "source": [
    "# generate the simulated sps\n",
    "params, x = simulate_for_sbi(simulator_wrapper, prior, \n",
    "                            num_simulations=int(paras.num_prior_sps), \n",
    "                            num_workers=10); # Don't change"
   ]
  },
  {
   "cell_type": "code",
   "execution_count": 14,
   "id": "3783abdd",
   "metadata": {
    "ExecuteTime": {
     "end_time": "2023-06-16T18:23:45.497628Z",
     "start_time": "2023-06-16T18:22:48.743572Z"
    },
    "scrolled": true
   },
   "outputs": [
    {
     "name": "stdout",
     "output_type": "stream",
     "text": [
      " Neural network successfully converged after 74 epochs."
     ]
    }
   ],
   "source": [
    "# training and get the posterior\n",
    "inference = SNPE(prior=prior, density_estimator=paras.den_est)\n",
    "density_estimator = inference.append_simulations(params, x).train()\n",
    "posterior = inference.build_posterior(density_estimator)"
   ]
  },
  {
   "cell_type": "code",
   "execution_count": 15,
   "id": "7e2bb5bb",
   "metadata": {
    "ExecuteTime": {
     "end_time": "2023-06-16T18:23:52.282606Z",
     "start_time": "2023-06-16T18:23:52.063690Z"
    }
   },
   "outputs": [
    {
     "name": "stdout",
     "output_type": "stream",
     "text": [
      "Save to /data/rajlab1/user_data/lucia/Nexis_SBI/notebooks/../mypkg/../results/nexis_num1000_sd50_denestnsf/params_trans.pkl\n",
      "Save to /data/rajlab1/user_data/lucia/Nexis_SBI/notebooks/../mypkg/../results/nexis_num1000_sd50_denestnsf/x.pkl\n",
      "Save to /data/rajlab1/user_data/lucia/Nexis_SBI/notebooks/../mypkg/../results/nexis_num1000_sd50_denestnsf/posterior.pkl\n"
     ]
    }
   ],
   "source": [
    "# save it \n",
    "cur_res = edict()\n",
    "cur_res.params_trans = params\n",
    "cur_res.x = x\n",
    "cur_res.posterior = posterior\n",
    "save_pkl_dict2folder(paras.folder_path, cur_res, is_force=True)"
   ]
  },
  {
   "cell_type": "code",
   "execution_count": null,
   "id": "b6ac9780",
   "metadata": {},
   "outputs": [],
   "source": []
  },
  {
   "cell_type": "markdown",
   "id": "a760e52d",
   "metadata": {},
   "source": [
    "### Posterior "
   ]
  },
  {
   "cell_type": "code",
   "execution_count": 16,
   "id": "6b548503",
   "metadata": {
    "ExecuteTime": {
     "end_time": "2023-06-16T18:23:55.652420Z",
     "start_time": "2023-06-16T18:23:55.511383Z"
    }
   },
   "outputs": [
    {
     "name": "stdout",
     "output_type": "stream",
     "text": [
      "Load file /data/rajlab1/user_data/lucia/Nexis_SBI/notebooks/../mypkg/../results/nexis_num1000_sd50_denestnsf/post_sps_org.pkl\n",
      "Load file /data/rajlab1/user_data/lucia/Nexis_SBI/notebooks/../mypkg/../results/nexis_num1000_sd50_denestnsf/post_sps_trans.pkl\n",
      "Load file /data/rajlab1/user_data/lucia/Nexis_SBI/notebooks/../mypkg/../results/nexis_num1000_sd50_denestnsf/posterior.pkl\n"
     ]
    }
   ],
   "source": [
    "cur_res = load_pkl_folder2dict(paras.folder_path, [\"x\", \"para*\"]);"
   ]
  },
  {
   "cell_type": "code",
   "execution_count": 17,
   "id": "3f3500ae",
   "metadata": {
    "ExecuteTime": {
     "end_time": "2023-06-16T18:26:28.617102Z",
     "start_time": "2023-06-16T18:26:28.555567Z"
    }
   },
   "outputs": [
    {
     "data": {
      "application/vnd.jupyter.widget-view+json": {
       "model_id": "c5e732b19d3f40c1bbd1d56fd3e20f39",
       "version_major": 2,
       "version_minor": 0
      },
      "text/plain": [
       "Drawing 1000 posterior samples:   0%|          | 0/1000 [00:00<?, ?it/s]"
      ]
     },
     "metadata": {},
     "output_type": "display_data"
    }
   ],
   "source": [
    "# just to remove nan\n",
    "# now my real data has nan, you should find a way to handle the nan\n",
    "nonnan_idxs = np.isnan(data).sum(axis=1)==0\n",
    "data_part = data[nonnan_idxs];\n",
    "cur_x = data_part.flatten();\n",
    "cur_x = torch.Tensor(cur_x)\n",
    "post_sps_trans = cur_res.posterior.sample((1000, ),  x=cur_x);"
   ]
  },
  {
   "cell_type": "code",
   "execution_count": 18,
   "id": "40eae794",
   "metadata": {
    "ExecuteTime": {
     "end_time": "2023-06-16T18:26:31.156117Z",
     "start_time": "2023-06-16T18:26:29.581437Z"
    }
   },
   "outputs": [
    {
     "name": "stdout",
     "output_type": "stream",
     "text": [
      "Save to /data/rajlab1/user_data/lucia/Nexis_SBI/notebooks/../mypkg/../results/nexis_num1000_sd50_denestnsf/post_sps_org.pkl\n",
      "Save to /data/rajlab1/user_data/lucia/Nexis_SBI/notebooks/../mypkg/../results/nexis_num1000_sd50_denestnsf/post_sps_trans.pkl\n",
      "Save to /data/rajlab1/user_data/lucia/Nexis_SBI/notebooks/../mypkg/../results/nexis_num1000_sd50_denestnsf/posterior.pkl\n"
     ]
    },
    {
     "data": {
      "image/png": "[encoded data removed]",
      "text/plain": [
       "<Figure size 576x576 with 36 Axes>"
      ]
     },
     "metadata": {
      "needs_background": "light"
     },
     "output_type": "display_data"
    }
   ],
   "source": [
    "cur_res.post_sps_trans = post_sps_trans\n",
    "save_pkl_dict2folder(paras.folder_path, cur_res, is_force=True, verbose=True);\n",
    "_ = analysis.pairplot(cur_res.post_sps_trans,\n",
    "                      labels=paras_.names, \n",
    "                      figsize=(8,8));"
   ]
  },
  {
   "cell_type": "code",
   "execution_count": 19,
   "id": "dce02f1f",
   "metadata": {
    "ExecuteTime": {
     "end_time": "2023-06-16T18:26:52.956070Z",
     "start_time": "2023-06-16T18:26:51.856012Z"
    }
   },
   "outputs": [
    {
     "data": {
      "image/png": "[encoded data removed]",
      "text/plain": [
       "<Figure size 576x576 with 36 Axes>"
      ]
     },
     "metadata": {
      "needs_background": "light"
     },
     "output_type": "display_data"
    }
   ],
   "source": [
    "# from trans_data to org data\n",
    "post_sps_org = _para_trans2org(cur_res.post_sps_trans, paras_.bds_full); # 1000 samples forming the posteriors of the parameters in the original space\n",
    "cur_res.post_sps_org = post_sps_org\n",
    "save_pkl_dict2folder(paras.folder_path, cur_res, is_force=True, verbose=False)\n",
    "_ = analysis.pairplot(cur_res.post_sps_org,\n",
    "                      limits=paras_.bds_full,\n",
    "                      labels=paras_.names, \n",
    "                      figsize=(8,8));"
   ]
  },
  {
   "cell_type": "code",
   "execution_count": 20,
   "id": "1e556805",
   "metadata": {},
   "outputs": [],
   "source": [
    "# Create model from modes of distributions and compare (e.g. Pearson's correlation, scatterplot) with the data"
   ]
  },
  {
   "cell_type": "code",
   "execution_count": 21,
   "id": "8b2d22a4",
   "metadata": {},
   "outputs": [],
   "source": [
    "# Tablulate the correspondence between model and data as a function of the parameters that were used\n",
    "# and the hyperparameters/conditions that were passed to SBI to compare/contrast and find an \"optimal\"\n",
    "# way to run"
   ]
  },
  {
   "cell_type": "code",
   "execution_count": 22,
   "id": "bd1406cf",
   "metadata": {},
   "outputs": [],
   "source": [
    "# Query posterior statistics\n",
    "param_post = np.array(post_sps_org) # Convert to numpy array\n",
    "postmean = np.mean(param_post,axis = 0) # Take mean over simulations (or whichever statistic you want, e.g. median, mode)"
   ]
  },
  {
   "cell_type": "code",
   "execution_count": 23,
   "id": "fd95aa97",
   "metadata": {},
   "outputs": [
    {
     "data": {
      "text/plain": [
       "array([[1.       , 0.5800954],\n",
       "       [0.5800954, 1.       ]])"
      ]
     },
     "execution_count": 23,
     "metadata": {},
     "output_type": "execute_result"
    }
   ],
   "source": [
    "# Test out overall model fit using the mean of the parameters\n",
    "y = nexis_model.simulate_nexis(postmean) # Run the Nexis model using the best estimate of the parameters\n",
    "y_part = y[nonnan_idxs] # remove unsampled regions\n",
    "test = np.shape(y_part)\n",
    "test = test[0]\n",
    "y_part_vec = np.reshape(y_part,(test*3,1)) # Flatten all time points of model simulation into a vector\n",
    "y_part_vec = np.ndarray.flatten(y_part_vec)\n",
    "data_part_vec = np.reshape(data_part,(test*3,1)) # Flatten all time points of data into a vector\n",
    "data_part_vec = np.ndarray.flatten(data_part_vec)\n",
    "np.corrcoef(y_part_vec,data_part_vec) # Calculate R"
   ]
  },
  {
   "cell_type": "code",
   "execution_count": 24,
   "id": "ca82274f",
   "metadata": {},
   "outputs": [],
   "source": [
    "# Summary of things to test:\n",
    "# Prior noise term (bounded between 0 and 2)\n",
    "# Number of samples to train SBI on (bounded between 1e4 and 2e5)\n",
    "\n",
    "# Desired outputs (tabular)\n",
    "# Posterior statistics (mean, median, standard deviation) on the four relevant model parameters\n",
    "# Fits to data per time point (R or R^2)\n",
    "# Overall fit to data across time point (R or R^2)\n",
    "# Scatterplots of best hyperparameter sets"
   ]
  },
  {
   "cell_type": "code",
   "execution_count": 25,
   "id": "462df590",
   "metadata": {},
   "outputs": [
    {
     "name": "stdout",
     "output_type": "stream",
     "text": [
      "[2.87217158 0.44163813]\n"
     ]
    }
   ],
   "source": [
    "print(np.array([np.mean(y_part_vec,axis=0),np.mean(data_part_vec,axis=0)]))"
   ]
  },
  {
   "cell_type": "code",
   "execution_count": null,
   "id": "fdc3591d",
   "metadata": {},
   "outputs": [],
   "source": []
  }
 ],
 "metadata": {
  "kernelspec": {
   "display_name": "Python 3 (ipykernel)",
   "language": "python",
   "name": "python3"
  },
  "language_info": {
   "codemirror_mode": {
    "name": "ipython",
    "version": 3
   },
   "file_extension": ".py",
   "mimetype": "text/x-python",
   "name": "python",
   "nbconvert_exporter": "python",
   "pygments_lexer": "ipython3",
   "version": "3.9.7"
  },
  "toc": {
   "base_numbering": 1,
   "nav_menu": {},
   "number_sections": true,
   "sideBar": true,
   "skip_h1_title": false,
   "title_cell": "Table of Contents",
   "title_sidebar": "Contents",
   "toc_cell": false,
   "toc_position": {
    "height": "calc(100% - 180px)",
    "left": "10px",
    "top": "150px",
    "width": "193px"
   },
   "toc_section_display": true,
   "toc_window_display": true
  }
 },
 "nbformat": 4,
 "nbformat_minor": 5
}
