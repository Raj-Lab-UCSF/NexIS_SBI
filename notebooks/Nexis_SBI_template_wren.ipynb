{
 "cells": [
  {
   "cell_type": "markdown",
   "id": "48ee4fd6",
   "metadata": {},
   "source": [
    "This file is to try Nexis-SBI\n",
    "\n",
    "Note that, the original Nexis params are bounded, so I transform them first (to real line). \n",
    "\n",
    "The simulator fn in our case requires trans-params not the org params. \n",
    "I put a guassian prior on the trans-params. \n",
    "So the SBI gives the posterior sps of the trans-params, I transform them back to the original params.\n",
    "\n"
   ]
  },
  {
   "cell_type": "markdown",
   "id": "269c1f0a",
   "metadata": {},
   "source": [
    "### import and define"
   ]
  },
  {
   "cell_type": "markdown",
   "id": "e5ca9b8a",
   "metadata": {},
   "source": []
  },
  {
   "cell_type": "code",
   "execution_count": 1,
   "id": "fe2ef296",
   "metadata": {},
   "outputs": [],
   "source": [
    "# code for getting things to run on wynton \n",
    "# on the terminal to access wyton so that I can run jupyter notebook\n",
    "# ssh -J wren@log1.wynton.ucsf.edu -L 8888:localhost:8888 wren@dev1\n",
    "# this is for sachin, which doesn't have enough computation power to run the model\n",
    "# ssh -L 9999:localhost:8888 wren@sachin.radiology.ucsf.edu\n",
    "\n",
    "# the singularity file from justin\n",
    "# singularity shell sgm_mnec_fc.sif\n",
    "\n",
    "# once singularity is running\n",
    "# jupyter notebook\n",
    "\n",
    "# paste into browser\n",
    "# change this to what ever the terminal gives you to put in the browser\n",
    "# http://localhost:9999/?token=a240d5531ae3a931281ff6db2a87a3d8e791f3f08400b8bf"
   ]
  },
  {
   "cell_type": "code",
   "execution_count": 2,
   "id": "c93dcfe1",
   "metadata": {
    "ExecuteTime": {
     "end_time": "2023-06-16T18:06:45.658885Z",
     "start_time": "2023-06-16T18:06:39.727036Z"
    }
   },
   "outputs": [],
   "source": [
    "import sys\n",
    "sys.path.append(\"../mypkg\")\n",
    "import mkl\n",
    "\n",
    "# other pkgs\n",
    "from tqdm import trange, tqdm\n",
    "\n",
    "import torch\n",
    "import torch.nn as nn \n",
    "import torch.nn.functional as F \n",
    "from sbi import analysis as analysis\n",
    "from sbi.inference.base import infer\n",
    "from sbi.inference import SNPE, prepare_for_sbi, simulate_for_sbi\n",
    "from sbi.utils.get_nn_models import posterior_nn\n",
    "from torch.distributions.multivariate_normal import MultivariateNormal\n",
    "\n",
    "import numpy as np\n",
    "from easydict import EasyDict as edict\n",
    "from pathlib import Path\n",
    "import pickle\n",
    "import scipy\n",
    "\n",
    "import seaborn as sns\n",
    "import pandas as pd\n",
    "import numpy as np\n",
    "import matplotlib.pyplot as plt\n",
    "import matplotlib.font_manager as fm\n",
    "import json\n",
    "from functools import partial\n",
    "\n",
    "import warnings\n",
    "warnings.filterwarnings(\"ignore\")\n",
    "\n",
    "# my own pkgs\n",
    "import importlib\n",
    "\n",
    "from utils.misc import save_pkl_dict2folder, load_pkl_folder2dict\n",
    "from utils.reparam import para_trans2org, logistic_np, logistic_torch\n",
    "from constants import RES_ROOT, FIG_ROOT, DATA_ROOT\n",
    "from glob import glob\n",
    "\n",
    "import from_justin.nexis as nx"
   ]
  },
  {
   "cell_type": "code",
   "execution_count": 3,
   "id": "9a6bdc4e",
   "metadata": {},
   "outputs": [],
   "source": [
    "# ask about this - i think this is just another experiment...KaufmanDiamond_datasets_dat&seed.mat\n",
    "\n",
    "# # load the data and build the nexis model\n",
    "# loadinst = nx.loading_matfiles()\n",
    "# endm = loadinst.load_file('eNDM_mousedata.mat')\n",
    "# # the following are required for build a model\n",
    "# C = endm['Networks'][0,0]['ret']\n",
    "# C = C / np.max(C[:])\n",
    "# endm_kauf = loadinst.load_file('KaufmanDiamond_datasets_dat&seed.mat')\n",
    "# seedvec = endm_kauf['seed426'][0,0]['DS6']\n",
    "# tpts = endm_kauf['tpts'][0,0]['DS6'][0]\n",
    "# U = np.zeros([426,1]);\n",
    "\n",
    "# # the model for generate\n",
    "# nexis_model = nx.run_Nexis(C, U, seedvec, tpts)\n",
    "\n",
    "# # real data, the real data decide the nan positions and decide the simulator function\n",
    "# data = endm_kauf['data426'][0,0]['DS6'];\n",
    "\n",
    "# np.shape(seedvec)"
   ]
  },
  {
   "cell_type": "markdown",
   "id": "4022c78f",
   "metadata": {},
   "source": [
    "### Load data "
   ]
  },
  {
   "cell_type": "code",
   "execution_count": 4,
   "id": "05f76ce8",
   "metadata": {},
   "outputs": [
    {
     "data": {
      "text/plain": [
       "from_justin.nexis.loading_matfiles"
      ]
     },
     "execution_count": 4,
     "metadata": {},
     "output_type": "execute_result"
    }
   ],
   "source": [
    "# in directory from notebook\n",
    "nx.loading_matfiles"
   ]
  },
  {
   "cell_type": "code",
   "execution_count": 5,
   "id": "182ff6f5",
   "metadata": {
    "ExecuteTime": {
     "end_time": "2023-06-16T18:08:41.223394Z",
     "start_time": "2023-06-16T18:08:40.806375Z"
    }
   },
   "outputs": [],
   "source": [
    "# load the data and build the nexis model\n",
    "pathname = '/home/jtorok/NexIS_SBI/data/raw_data_mouse'\n",
    "loadpathname = Path('/home/jtorok/results/nexis_num100000_sd175_betaub10_gammaub2')\n",
    "figurepathname = '/home/jtorok/figures'\n",
    "loadinst = nx.loading_matfiles(pathname)\n",
    "\n",
    "# load the connectome from the mat file \n",
    "# dict_keys(['__header__', '__version__', '__globals__', 'Connectomes']) \n",
    "load_connectome = loadinst.load_file('Connectomes.mat')\n",
    "\n",
    "# load the connectome and access it from the mat format\n",
    "# default is a subdictionary in connectomes\n",
    "# shape is (426, 426) for the different regions of the brain connectome\n",
    "connectome = load_connectome['Connectomes'][0,0]['default']\n",
    "\n",
    "# normalize by dividing the connectome by the max value of the connectome\n",
    "connectome = connectome / np.max(connectome[:])\n",
    "\n",
    "# load the tau data\n",
    "# dict_keys(['__header__', '__version__', '__globals__', 'mousedata_struct_ccf']) \n",
    "# nested dictionaries\n",
    "# shape is the 426 brain regions and the time points 4,8,12 by weeks\n",
    "endm = loadinst.load_file('Mouse_Tauopathy_Data_HigherQ_CCF.mat')\n",
    "\n",
    "# select out the seperate experiments from the tau mat file\n",
    "# may need some restructing for other experiments - they have different seed vectors\n",
    "def load_data(endm,label):\n",
    "    '''\n",
    "    function for selecting out the data values from the mat file\n",
    "    '''\n",
    "    endm_data = endm['mousedata_struct_ccf'][0,0][label][0]['data'][0]\n",
    "    endm_data = endm_data/np.nansum(endm_data[:,0])\n",
    "    return endm_data\n",
    " \n",
    "# the different data sets seperated\n",
    "data_DS4 = load_data(endm,'DS4') # DS4 is human tau\n",
    "data_DS6 = load_data(endm,'DS6') # DS6 is mouse tau\n",
    "data_DS7 = load_data(endm,'DS7') # DS7 is synthetic tau\n",
    "data_DS9 = load_data(endm,'DS9') # DS9 is synthetic tau\n",
    "data_DS6_110 = load_data(endm,'DS6_110') # same species DS6 injection one tenth - spread pattern looks different\n",
    "data_DS9_110 = load_data(endm,'DS9_110') # same species DS9 injection one tenth - spread pattern looks different\n",
    "\n",
    "# just for testing that everything works\n",
    "data = data_DS4\n",
    "\n",
    "# the location of mean seeding injection site using ccf common coordinate framework\n",
    "# this may need to be changed depending on which experiment you are using\n",
    "seedvec = endm['mousedata_struct_ccf'][0,0]['DS4'][0]['seed'][0]\n",
    "\n",
    "# time points from the mat file\n",
    "# 4,8,12 weeks\n",
    "tpts = endm['mousedata_struct_ccf'][0,0]['DS4'][0]['time_stamps'][0]\n",
    "tpts = np.ndarray.flatten(tpts)\n",
    "\n",
    "# empty vector that will be filled with genes, but could be filled with other things like cell type\n",
    "U = np.zeros([426,1]); \n"
   ]
  },
  {
   "cell_type": "code",
   "execution_count": 6,
   "id": "86880d1a",
   "metadata": {},
   "outputs": [],
   "source": [
    "# need to read in file AGEA_coronal_atlas_regiononly.mat from Justin\n",
    "# path to the file, mine is on wynton\n",
    "# dict_keys(['__header__', '__version__', '__globals__', 'AGEA_coronal_atlas_regiononly']) \n",
    "gene_file = loadinst.load_file('AGEA_coronal_atlas_regiononly.mat')\n",
    "\n",
    "# get out the data from the mat file\n",
    "# [0][0][0][0] is the array of gene names, shape 1 vector of gene name, for specific instance 0 for last 0\n",
    "# [0][0][1][0] is the array of gene values, shape 4083, vector of the gene values, for specific instance 0 for last 0\n",
    "# [0][0][2][0] is the array of brain regions, shape 4, annotating 4 different aspects of brain region, for specific instance 0 for last 0\n",
    "gene_values = gene_file['AGEA_coronal_atlas_regiononly']\n"
   ]
  },
  {
   "cell_type": "code",
   "execution_count": 7,
   "id": "893be585",
   "metadata": {},
   "outputs": [
    {
     "name": "stdout",
     "output_type": "stream",
     "text": [
      "True\n"
     ]
    }
   ],
   "source": [
    "# get the list of gene names\n",
    "# 4083 genes in the list x 426 brain regions\n",
    "gene_name_list = gene_values[0][0][0].ravel()\n",
    "\n",
    "# the name of the gene i want to look at\n",
    "# may want to look at the top 10 correlated and top 10 anti-correlated\n",
    "# from below\n",
    "gene_string_name = 'Trem2'\n",
    "\n",
    "# flatten out the array of arrays into just a list for easier regex\n",
    "# going to use this to search for the gene index to get the appropriate gene values\n",
    "gene_name_list_stripped = []\n",
    "for i in  gene_name_list:\n",
    "    for j in i:\n",
    "        gene_name_list_stripped.append(j)\n",
    "\n",
    "# search for the gene without worrying about whether or not its upper or lower case\n",
    "# prints true if the gene name is present\n",
    "print(gene_string_name.upper() in (name.upper() for name in gene_name_list_stripped))\n",
    "\n",
    "# get the index of the gene in the list of gene names\n",
    "# need to use the proper capitalization for this one so once you see that the above \n",
    "# code runs as true, try out a couple different types of capitilzation\n",
    "# for the gene names the first letter is capitalized and then they are lower case\n",
    "gene_index_location = gene_name_list_stripped.index(gene_string_name)"
   ]
  },
  {
   "cell_type": "code",
   "execution_count": 8,
   "id": "8f5c80a4",
   "metadata": {},
   "outputs": [],
   "source": [
    "# index with which to select the gene i want to look at \n",
    "gene_index = gene_index_location # string match for trem2\n",
    "\n",
    "# select the gene name by index\n",
    "gene_name = gene_name_list[gene_index]\n",
    "\n",
    "# get the values for the brain regions for the gene selected\n",
    "gene_index_values = gene_values[0][0][1][:,gene_index]\n",
    "\n",
    "# min/max normalization\n",
    "# (Uraw- min(Uraw))/(max(Uraw)-min(Uraw))\n",
    "# may need to remove the nan regions before doing the min value\n",
    "# gene_index_values_normalized = (gene_index_values- min(gene_index_values))/(max(gene_index_values)-min(gene_index_values))\n",
    "# the above runs into some sort of problem down the line in the code, but is the exact same vector\n",
    "# as the one below...which also runs into the same problem\n",
    "gene_index_values_normalized = gene_index_values/max(gene_index_values)\n",
    "\n",
    "# format the gene vector into a way that the model will accept \n",
    "# should instead be gene_index_values_normalized, but the normalization ends up making an error\n",
    "# when drawing the 1k posterior samples\n",
    "# currently working on this\n",
    "formated_gene_values = [[item] for item in gene_index_values] # should be gene_index_values_normalized instead\n"
   ]
  },
  {
   "cell_type": "code",
   "execution_count": null,
   "id": "f6bfb6fd",
   "metadata": {},
   "outputs": [],
   "source": [
    "# working on the statistic that Justin wants for tau and gene expression correlation coeff \n",
    "# in order to get the top and bottom correlated and anticorrelated genes\n",
    "def tau_vs_expression_statistic(dataset,label):\n",
    "    '''\n",
    "    get the correlation coeff for each dataset against all the gene expressions\n",
    "    '''\n",
    "    # get the non nan third column - last time point of the original data\n",
    "    nonnan_idxs = np.isnan(dataset).sum(axis=1)==0\n",
    "    original_data = dataset[nonnan_idxs]\n",
    "    timepoint_three_data = original_data[:,2]\n",
    "\n",
    "    # correlation for trem2 or which ever gene you use for the gene vector\n",
    "    print('correlation coef for {0} {1}'.format(gene_name,label),np.corrcoef(timepoint_three_data,gene_index_values_normalized[nonnan_idxs])[0,1])\n",
    "    \n",
    "    # reshape the gene values for easier access\n",
    "    extract_gene_values = gene_values[0][0][1].T\n",
    "    \n",
    "    # collect the results \n",
    "    collect_correlation_coeff = []\n",
    "    # for each gene \n",
    "    # np.corrcoef( should be able to handle a matrix....fix?\n",
    "    for g in extract_gene_values:\n",
    "        # get the non nan for the gene expression\n",
    "        original_formated_gene_values = g[nonnan_idxs]\n",
    "        # then for each gene (you can even do this in a for loop although it’s not as efficient) \n",
    "        # just do corr of each column of gene expression (i.e. each gene) and DS4 tau\n",
    "        # np.corrcoef() of these two things\n",
    "        # R value here is a similarity measure between two vectors\n",
    "        # here, pathology and gene expression across regions    \n",
    "        corrcoef_tau_expression = np.corrcoef(timepoint_three_data,original_formated_gene_values)\n",
    "        collect_correlation_coeff.append(corrcoef_tau_expression[0,1])\n",
    "    return collect_correlation_coeff\n",
    "\n",
    "# get the correltion coeff for each of the datasets\n",
    "collect_correlation_coef_ds4 = tau_vs_expression_statistic(data_DS4,'DS4')\n",
    "collect_correlation_coef_ds6 = tau_vs_expression_statistic(data_DS6,'DS6')\n",
    "collect_correlation_coef_ds7 = tau_vs_expression_statistic(data_DS7,'DS7')\n",
    "collect_correlation_coef_ds9 = tau_vs_expression_statistic(data_DS9,'DS9')\n",
    "collect_correlation_coef_ds6_110 = tau_vs_expression_statistic(data_DS6_110,'DS6_110')\n",
    "collect_correlation_coef_ds9_110 = tau_vs_expression_statistic(data_DS9_110,'DS9_110')\n",
    "\n",
    "# average the experiements coeff together over experiements\n",
    "correltion_coeffs = [collect_correlation_coef_ds4,collect_correlation_coef_ds6,collect_correlation_coef_ds7,\n",
    "                    collect_correlation_coef_ds9,collect_correlation_coef_ds6_110,collect_correlation_coef_ds9_110]\n",
    "correltion_coeffs_average = np.average(correltion_coeffs, axis=0)\n"
   ]
  },
  {
   "cell_type": "code",
   "execution_count": null,
   "id": "10e882b8",
   "metadata": {},
   "outputs": [],
   "source": [
    "\n",
    "# get the top 10 most correlated and the top 10 most anti-correlated\n",
    "sorted_index_array = np.argsort(correltion_coeffs_average) \n",
    "top_ten = sorted_index_array[0:10]\n",
    "bottom_ten = sorted_index_array[-10:]\n",
    "\n",
    "# get the gene names for the top and bottom ten\n",
    "collect_top_genes = [str(gene_name_list[i]) for i in top_ten]\n",
    "collect_bottom_genes = [str(gene_name_list[i]) for i in bottom_ten]\n",
    "\n",
    "# get the correlation coef for the top and bottom ten\n",
    "collect_top_correlated_coef = [correltion_coeffs_average[i] for i in top_ten]\n",
    "collect_bottom_correlated_coef = [correltion_coeffs_average[i] for i in bottom_ten]\n",
    "\n",
    "# plot as bar plots in subplots\n",
    "fig, axs = plt.subplots(2, figsize=(10,7))\n",
    "fig.tight_layout(pad=3.0)\n",
    "fig.suptitle('Top and Bottom Ten Correlation Coeff for tau vs gene expression')\n",
    "axs[0].bar(collect_top_genes,collect_bottom_correlated_coef)\n",
    "axs[1].bar(collect_bottom_genes,collect_top_correlated_coef)\n",
    "axs[0].tick_params(labelrotation=45)\n",
    "axs[1].tick_params(labelrotation=45)\n",
    "axs[0].set_ylabel('Coeff')\n",
    "axs[1].set_ylabel('Coeff')\n",
    "\n",
    "plt.show()\n",
    "\n",
    "# what are these genes responsible for?"
   ]
  },
  {
   "cell_type": "code",
   "execution_count": 8,
   "id": "01e0a009",
   "metadata": {},
   "outputs": [],
   "source": [
    "# the model for generate\n",
    "# w_dir_ is with directionality, volocorrect is necessary correction factor for keeping mass in system\n",
    "# volcorrect mass relationship between mass and concentration flow\n",
    "# formated_gene_values is for the vector with the gene expression\n",
    "# can also be U for the zero vector\n",
    "nexis_model = nx.run_Nexis(connectome, U, seedvec, tpts, w_dir_ = 1, volcorrect_ = 1, datadir_ = pathname) # Keep same"
   ]
  },
  {
   "cell_type": "markdown",
   "id": "b6960bf4",
   "metadata": {},
   "source": [
    "#### Set up Parameters"
   ]
  },
  {
   "cell_type": "code",
   "execution_count": 9,
   "id": "d9326efc",
   "metadata": {
    "ExecuteTime": {
     "end_time": "2023-06-16T18:22:38.008144Z",
     "start_time": "2023-06-16T18:22:37.994608Z"
    }
   },
   "outputs": [],
   "source": [
    "# some constant parameters for this file\n",
    "# typically not change\n",
    "paras_ = edict()\n",
    "paras_.n_types = U.shape[1]\n",
    "\n",
    "# same order to the function\n",
    "# the lower bounds for the parameters\n",
    "paras_.par_low = np.array([0, 0, 0, 0, -5, -5]) # Keep same\n",
    "\n",
    "# the higher bounds for the parameters\n",
    "# maybe play around with this one, lower paras_.par_high[1] to 3 and lower paras_.par_high[2] to 5(?)\n",
    "# what would be the benefit of changing these params? is this something I should do, or just an option?\n",
    "paras_.par_high = np.array([1, 10, 2, 1, 5, 5]) \n",
    "paras_.bds = np.array([paras_.par_low, paras_.par_high]).T\n",
    "\n",
    "# alpha is gene independent accumulation\n",
    "# beta is gene independent spread\n",
    "# gamma is scaling between seed and data\n",
    "# s is directionality\n",
    "# b is gene dependent modulation of transition\n",
    "# p is gene dependent modulation of accumulation\n",
    "# the parameter for var transfomration\n",
    "# take the length of b and p into account\n",
    "paras_.names = [\"alpha\", \"beta\", \"gamma\", \"s\", \"b\", \"p\"]\n",
    "\n",
    "paras_.bds_full = np.concatenate([paras_.bds[:-2], \n",
    "    np.repeat(paras_.bds[-2].reshape(1, -1), paras_.n_types, axis=0),\n",
    "    np.repeat(paras_.bds[-1].reshape(1, -1), paras_.n_types, axis=0),\n",
    "    ])\n",
    "\n",
    "# tied to _para_trans2org, \n",
    "paras_.k = 0.1 # Keep same \n",
    "\n",
    "# convert the trans-param back to the org params\n",
    "# what is this\n",
    "# sbi to work needs continuous distribution\n",
    "# transforms uniform bounded to unbounded continuous\n",
    "_para_trans2org = partial(para_trans2org,map_fn=partial(logistic_np, k=paras_.k))\n",
    "\n",
    "# print(paras)\n",
    "# Some hyperparams, tuning them for better results\n",
    "paras = edict()\n",
    "\n",
    "# the std of noise added to the simulated data, now my formula is simu_data * (1+noise)\n",
    "# You may want to tune it. Larger one, smoother of the posterior.\n",
    "# adding noise to the model outputs that is training on\n",
    "paras.noise_sd = 1.75 # for Lucia: CHANGE THIS ONE: range [0,2] (maybe linear from 0 to 2, 0.2 step size)\n",
    "# The num of simulated sps used for training the model, 1e3 is too small, make it larger. \n",
    "\n",
    "# The larger, the better, but you also have to consider the computational burden.\n",
    "paras.num_prior_sps = int(100000) # CHANGE THIS ONE: range [1e4,2e5] (pick a few: 10000,50000,100000,200000)\n",
    "\n",
    "# The density estimator. \n",
    "# Without solid reason, do not change it \n",
    "paras.den_est = \"nsf\" # Keep same\n",
    "\n",
    "# The std of prior of the parameters\n",
    "# Without solid reason, do not change it \n",
    "# If you change it, you have to also adjust paras_.k\n",
    "paras.prior_sd = 10 # Keep same"
   ]
  },
  {
   "cell_type": "code",
   "execution_count": 10,
   "id": "221b3b6d",
   "metadata": {
    "ExecuteTime": {
     "end_time": "2023-06-16T18:22:38.760402Z",
     "start_time": "2023-06-16T18:22:38.740674Z"
    }
   },
   "outputs": [
    {
     "name": "stdout",
     "output_type": "stream",
     "text": [
      "folder is /home/jtorok/NexIS_SBI/notebooks/../mypkg/../results/nexis_num100000_sd175_betaub10_gammaub2\n"
     ]
    }
   ],
   "source": [
    "# save the results\n",
    "# may need to add a time signature in order not to overwrite previously saved results\n",
    "_folder_path = f\"./nexis_num{paras.num_prior_sps:.0f}\" +\\\n",
    "               f\"_sd{paras.noise_sd*100:.0f}\" +\\\n",
    "               f\"_betaub{paras_.par_high[1]}\" +\\\n",
    "               f\"_gammaub{paras_.par_high[2]}\"\n",
    "paras.folder_path = RES_ROOT/_folder_path\n",
    "print(f\"folder is {paras.folder_path}\")\n",
    "if not paras.folder_path.exists():\n",
    "    paras.folder_path.mkdir()"
   ]
  },
  {
   "cell_type": "markdown",
   "id": "86923703",
   "metadata": {},
   "source": [
    "### Prepare for SBI"
   ]
  },
  {
   "cell_type": "code",
   "execution_count": null,
   "id": "b4ee7118",
   "metadata": {
    "ExecuteTime": {
     "end_time": "2023-06-16T18:22:39.736632Z",
     "start_time": "2023-06-16T18:22:39.730143Z"
    }
   },
   "outputs": [],
   "source": [
    "# The main fn in SBI, simulate the data\n",
    "\n",
    "### super importanattttt!\n",
    "# data is set to data_DS4\n",
    "\n",
    "def simulator(para_trans, noise_sd):\n",
    "    \"\"\"I add noise by multiplying\"\"\"\n",
    "    para_org = _para_trans2org(para_trans, paras_.bds_full)\n",
    "    \n",
    "    # make model based on model params\n",
    "    res = nexis_model.simulate_nexis(para_org)\n",
    "    \n",
    "    # remove the part of simu-data corresponding to the nan in the real data\n",
    "    nonnan_idxs = ~np.isnan(data.sum(axis=1))\n",
    "    res = res[nonnan_idxs]\n",
    "    \n",
    "    # res is prediction, plus noise noisea_sd is controlling noise distribution width\n",
    "    noise = np.random.randn(*res.shape)*noise_sd + 1\n",
    "    return res * noise"
   ]
  },
  {
   "cell_type": "code",
   "execution_count": null,
   "id": "23dff474",
   "metadata": {
    "ExecuteTime": {
     "end_time": "2023-06-16T18:22:40.642306Z",
     "start_time": "2023-06-16T18:22:40.619212Z"
    }
   },
   "outputs": [],
   "source": [
    "# The prior dist to generate the simulated data\n",
    "# create the distribution for the transform params multivariable normal distribution\n",
    "prior = MultivariateNormal(loc=torch.zeros(paras_.bds_full.shape[0]), \n",
    "                           covariance_matrix=torch.eye(paras_.bds_full.shape[0])*(paras.prior_sd**2))"
   ]
  },
  {
   "cell_type": "markdown",
   "id": "5a694c3b",
   "metadata": {},
   "source": [
    "### SBI"
   ]
  },
  {
   "cell_type": "code",
   "execution_count": null,
   "id": "c82b5b02",
   "metadata": {
    "ExecuteTime": {
     "end_time": "2023-06-16T18:18:22.715307Z",
     "start_time": "2023-06-16T18:18:22.477139Z"
    }
   },
   "outputs": [],
   "source": [
    "simulator_sp = partial(simulator,  noise_sd=paras.noise_sd)\n",
    "# make a SBI-wrapper on the simulator object for compatibility\n",
    "simulator_wrapper, prior = prepare_for_sbi(simulator_sp, prior)\n"
   ]
  },
  {
   "cell_type": "markdown",
   "id": "aa59351b",
   "metadata": {},
   "source": [
    "#### RUN"
   ]
  },
  {
   "cell_type": "code",
   "execution_count": null,
   "id": "78809473",
   "metadata": {
    "ExecuteTime": {
     "end_time": "2023-06-16T18:18:55.374810Z",
     "start_time": "2023-06-16T18:18:26.014944Z"
    },
    "scrolled": true
   },
   "outputs": [],
   "source": [
    "# generate the simulated sps\n",
    "params, x = simulate_for_sbi(simulator_wrapper, prior, \n",
    "                            num_simulations=int(paras.num_prior_sps), \n",
    "                            num_workers=10); # Don't change\n"
   ]
  },
  {
   "cell_type": "code",
   "execution_count": null,
   "id": "52fc3184",
   "metadata": {},
   "outputs": [],
   "source": [
    "# dummy results for working on sachin\n",
    "# params_dummy = torch.cat([params,params,params])\n",
    "# x is the results\n",
    "# x_dummy = torch.cat([x,x,x])"
   ]
  },
  {
   "cell_type": "code",
   "execution_count": null,
   "id": "3783abdd",
   "metadata": {
    "ExecuteTime": {
     "end_time": "2023-06-16T18:23:45.497628Z",
     "start_time": "2023-06-16T18:22:48.743572Z"
    }
   },
   "outputs": [],
   "source": [
    "# training and get the posterior\n",
    "# go through this\n",
    "inference = SNPE(prior=prior, density_estimator=paras.den_est)\n",
    "density_estimator = inference.append_simulations(params, x).train() # here is where i put the dummys before\n",
    "posterior = inference.build_posterior(density_estimator)"
   ]
  },
  {
   "cell_type": "code",
   "execution_count": null,
   "id": "7e2bb5bb",
   "metadata": {
    "ExecuteTime": {
     "end_time": "2023-06-16T18:23:52.282606Z",
     "start_time": "2023-06-16T18:23:52.063690Z"
    }
   },
   "outputs": [],
   "source": [
    "# save it \n",
    "# make sure the saved files are not being over writen\n",
    "cur_res = edict()\n",
    "cur_res.params_trans = params\n",
    "cur_res.x = x\n",
    "cur_res.posterior = posterior\n",
    "save_pkl_dict2folder(paras.folder_path, cur_res, is_force=True)\n"
   ]
  },
  {
   "cell_type": "markdown",
   "id": "304320dd",
   "metadata": {},
   "source": [
    "### Posterior and scatterplots"
   ]
  },
  {
   "cell_type": "code",
   "execution_count": 11,
   "id": "5b8c4743",
   "metadata": {},
   "outputs": [
    {
     "name": "stdout",
     "output_type": "stream",
     "text": [
      "Load file /home/jtorok/results/nexis_num100000_sd175_betaub10_gammaub2/post_sps_org.pkl\n",
      "Load file /home/jtorok/results/nexis_num100000_sd175_betaub10_gammaub2/post_sps_trans.pkl\n",
      "Load file /home/jtorok/results/nexis_num100000_sd175_betaub10_gammaub2/posterior.pkl\n"
     ]
    }
   ],
   "source": [
    "#load from saved files\n",
    "# so i don't have to run everything over again\n",
    "# cur_res = load_pkl_folder2dict(paras.folder_path, [\"x\", \"para*\"]); # default\n",
    "cur_res = load_pkl_folder2dict(Path(loadpathname), [\"x\", \"para*\"]);"
   ]
  },
  {
   "cell_type": "code",
   "execution_count": 13,
   "id": "0ac05fb2",
   "metadata": {},
   "outputs": [],
   "source": [
    "def query_posterior_statistics_from_sbi(dataset):\n",
    "    '''\n",
    "    takes in the data from DS4-DS9_110\n",
    "    transforms to remove the nans\n",
    "    queries and returns the posterior statistics\n",
    "    '''\n",
    "    # pre processing to remove nan\n",
    "    nonnan_idxs = np.isnan(dataset).sum(axis=1)==0\n",
    "    data_part = dataset[nonnan_idxs];\n",
    "    cur_x_data = data_part.flatten();\n",
    "    cur_x_data = torch.Tensor(cur_x_data)\n",
    "    post_sps_trans_data = cur_res.posterior.sample((1000, ),  x=cur_x_data);\n",
    "    #cur_res.post_sps_trans_data = post_sps_trans_data\n",
    "    post_sps_org_data = _para_trans2org(post_sps_trans_data, paras_.bds_full); # 1000 samples forming the posteriors of the parameters in the original space\n",
    "\n",
    "    # Query posterior statistics\n",
    "    # the distributions from sbi of the parameters\n",
    "    param_post_data = np.array(post_sps_org_data) # Convert to numpy array\n",
    "    postmean_data = np.mean(param_post_data,axis = 0) # Take mean over simulations (or whichever statistic you want, e.g. median, mode)\n",
    "    return postmean_data\n",
    "\n",
    "def test_model_fit_using_mean_params(dataset):\n",
    "    '''\n",
    "    takes in the data from DS4-DS9_110\n",
    "    tests the model fit using the mean of the parameters\n",
    "    predicts based on the params\n",
    "    returns ...\n",
    "    '''\n",
    "    # Test out overall model fit using the mean of the parameters\n",
    "    # prediction based on parameteres\n",
    "    y_predictions = nexis_model.simulate_nexis(dataset) # Run the Nexis model using the best estimate of the parameters\n",
    "    \n",
    "    # for some reason only works for data rather than the in def dataset\n",
    "    # so i have to set data to dataset in the for loop\n",
    "    nonnan_idxs = np.isnan(data).sum(axis=1)==0\n",
    "    # remove the unsampled regions from both the predictions comeing out of the model and \n",
    "    # the original dataset\n",
    "    y_predictions_part = y_predictions[nonnan_idxs]\n",
    "    data_part = data[nonnan_idxs]\n",
    "    \n",
    "    test = np.shape(y_predictions_part)\n",
    "    test = test[0]\n",
    "    y_predictions_part_vec = np.reshape(y_predictions_part,(test*3,1)) # Flatten all time points of model simulation into a vector\n",
    "    y_predictions_part_vec = np.ndarray.flatten(y_predictions_part_vec)\n",
    "    data_part_vec = np.reshape(data_part,(test*3,1)) # Flatten all time points of data into a vector\n",
    "    data_part_vec = np.ndarray.flatten(data_part_vec)\n",
    "\n",
    "    # get the correlation coef for each time point\n",
    "    R_all_data = np.corrcoef(y_predictions_part_vec,data_part_vec)# Calculate R\n",
    "    R_all_data = R_all_data[0,1]\n",
    "    R_1_data = np.corrcoef(y_predictions_part[:,0],data_part[:,0])# Calculate R\n",
    "    R_1_data = R_1_data[0,1]\n",
    "    R_2_data = np.corrcoef(y_predictions_part[:,1],data_part[:,1])# Calculate R\n",
    "    R_2_data = R_2_data[0,1]\n",
    "    R_3_data = np.corrcoef(y_predictions_part[:,2],data_part[:,2])# Calculate R\n",
    "    R_3_data = R_3_data[0,1]\n",
    "    \n",
    "    return [R_all_data, R_1_data, R_2_data, R_3_data, y_predictions_part,data_part]\n",
    "\n",
    "def plot_results_from_model_fit(model_fit_results,label,outpath):\n",
    "    '''\n",
    "    plots the model fit results and uses the label provided\n",
    "    '''\n",
    "    # add labels for data time points\n",
    "    cols = [\"r\",\"g\",\"b\"]\n",
    "    nts = np.shape(model_fit_results[4])[1]\n",
    "    lbls = ['4 weeks','8 weeks','12 weeks']\n",
    "    outlabel = outpath + '/' + label + '_subplots'\n",
    "    \n",
    "    fig1 = plt.figure()\n",
    "    for i in list(range(nts)):\n",
    "        plt.plot(model_fit_results[4][:,i],model_fit_results[5][:,i],cols[i]+\"o\",label=lbls[i])\n",
    "    plt.legend()\n",
    "    plt.ylabel(\"{0} data\".format(label))\n",
    "    plt.xlabel(\"{0} SBI\".format(label))\n",
    "    plt.show()\n",
    "    \n",
    "    fig2, axs = plt.subplots(nrows=1, ncols=nts,figsize=(14,4))\n",
    "    for i in list(range(nts)):\n",
    "        ax_i = axs[i]\n",
    "        lbl = \"R = {0:.2f}\".format(summary_statistics[i+1])\n",
    "        y = model_fit_results[4][:,i]\n",
    "        x = model_fit_results[5][:,i]\n",
    "        ax_i.plot(x,y,cols[i]+\"o\",label=lbl)\n",
    "        ax_i.plot(np.unique(x), np.poly1d(np.polyfit(x, y, 1))(np.unique(x)),color=\"black\")\n",
    "        if i == 0:\n",
    "            ax_i.set_ylabel(\"{0} SBI\".format(label),fontweight='bold',fontsize=14)\n",
    "        if i == 1:\n",
    "            ax_i.set_xlabel(\"{0} Data\".format(label),fontweight='bold',fontsize=14)\n",
    "        ax_i.legend(fontsize=14)\n",
    "        ax_i.set_title(\"{0}\".format(lbls[i]),fontweight='bold',fontsize=16)\n",
    "    fig2.show()\n",
    "    fig2.savefig(outlabel+'.png',dpi=150)\n",
    "    "
   ]
  },
  {
   "cell_type": "code",
   "execution_count": 14,
   "id": "c2d43e85",
   "metadata": {},
   "outputs": [
    {
     "data": {
      "application/vnd.jupyter.widget-view+json": {
       "model_id": "7a6696f4e52a4069999d3dfcc462667b",
       "version_major": 2,
       "version_minor": 0
      },
      "text/plain": [
       "Drawing 1000 posterior samples:   0%|          | 0/1000 [00:00<?, ?it/s]"
      ]
     },
     "metadata": {},
     "output_type": "display_data"
    },
    {
     "name": "stdout",
     "output_type": "stream",
     "text": [
      "alpha=0.211, beta=2.26, gamma=0.44, s=0.472, b=-0.073, p=0.027\n",
      "R_all_0 = 0.62\n",
      "R_1_0 = 0.58\n",
      "R_2_0 = 0.56\n",
      "R_3_0 = 0.61\n"
     ]
    },
    {
     "data": {
      "image/png": "[encoded data removed]",
      "text/plain": [
       "<Figure size 432x288 with 1 Axes>"
      ]
     },
     "metadata": {
      "needs_background": "light"
     },
     "output_type": "display_data"
    },
    {
     "data": {
      "image/png": "[encoded data removed]",
      "text/plain": [
       "<Figure size 1008x288 with 3 Axes>"
      ]
     },
     "metadata": {
      "needs_background": "light"
     },
     "output_type": "display_data"
    }
   ],
   "source": [
    "# pair teh data sets with their labels\n",
    "# datasets = [data_DS4,data_DS6,data_DS7,data_DS9,data_DS6_110,data_DS9_110]\n",
    "# labels = ['DS4','DS6','DS7','DS9','DS6_110','DS9_110']\n",
    "datasets = [data_DS6]\n",
    "labels = ['DS6']\n",
    "\n",
    "for dataset,label in zip(datasets,labels):\n",
    "    # set data to dataset because there is a really annoying error if i dont\n",
    "    data = dataset\n",
    "    postmean_data = query_posterior_statistics_from_sbi(dataset)\n",
    "    summary_statistics = test_model_fit_using_mean_params(postmean_data)\n",
    "\n",
    "    # paras_.names = [\"alpha\", \"beta\", \"gamma\", \"s\", \"b\", \"p\"]\n",
    "    print('{0}={1}, {2}={3}, {4}={5}, {6}={7}, {8}={9}, {10}={11}'.format(\n",
    "        paras_.names[0],postmean_data[0].round(3),\n",
    "        paras_.names[1],postmean_data[1].round(3),\n",
    "        paras_.names[2],postmean_data[2].round(3),\n",
    "        paras_.names[3],postmean_data[3].round(3),\n",
    "        paras_.names[4],postmean_data[4].round(3),\n",
    "        paras_.names[5],postmean_data[5].round(3),'\\n'))\n",
    "    print(f'R_all_{0} = {summary_statistics[0]:.2f}'.format(label))\n",
    "    print(f'R_1_{0} = {summary_statistics[1]:.2f}'.format(label))\n",
    "    print(f'R_2_{0} = {summary_statistics[2]:.2f}'.format(label))\n",
    "    print(f'R_3_{0} = {summary_statistics[3]:.2f}'.format(label))\n",
    "\n",
    "    plot_results_from_model_fit(summary_statistics,label,figurepathname)"
   ]
  },
  {
   "cell_type": "code",
   "execution_count": 28,
   "id": "92d9564c",
   "metadata": {},
   "outputs": [
    {
     "data": {
      "application/vnd.jupyter.widget-view+json": {
       "model_id": "8e45182e63054a10a302378710e07231",
       "version_major": 2,
       "version_minor": 0
      },
      "text/plain": [
       "Drawing 1000 posterior samples:   0%|          | 0/1000 [00:00<?, ?it/s]"
      ]
     },
     "metadata": {},
     "output_type": "display_data"
    },
    {
     "ename": "NameError",
     "evalue": "name 'gene_values' is not defined",
     "output_type": "error",
     "traceback": [
      "\u001b[0;31m---------------------------------------------------------------------------\u001b[0m",
      "\u001b[0;31mNameError\u001b[0m                                 Traceback (most recent call last)",
      "\u001b[0;32m/tmp/ipykernel_29761/1172717567.py\u001b[0m in \u001b[0;36m<module>\u001b[0;34m\u001b[0m\n\u001b[1;32m     36\u001b[0m \u001b[0;34m\u001b[0m\u001b[0m\n\u001b[1;32m     37\u001b[0m \u001b[0;31m# get the correlation coef for each dataset\u001b[0m\u001b[0;34m\u001b[0m\u001b[0;34m\u001b[0m\u001b[0m\n\u001b[0;32m---> 38\u001b[0;31m \u001b[0mcollect_residual_correlation_coeff_ds4\u001b[0m \u001b[0;34m=\u001b[0m \u001b[0mtau_prediction_vs_expression_statistic\u001b[0m\u001b[0;34m(\u001b[0m\u001b[0mdata_DS4\u001b[0m\u001b[0;34m)\u001b[0m\u001b[0;34m\u001b[0m\u001b[0;34m\u001b[0m\u001b[0m\n\u001b[0m\u001b[1;32m     39\u001b[0m \u001b[0mcollect_residual_correlation_coeff_ds6\u001b[0m \u001b[0;34m=\u001b[0m \u001b[0mtau_prediction_vs_expression_statistic\u001b[0m\u001b[0;34m(\u001b[0m\u001b[0mdata_DS6\u001b[0m\u001b[0;34m)\u001b[0m\u001b[0;34m\u001b[0m\u001b[0;34m\u001b[0m\u001b[0m\n\u001b[1;32m     40\u001b[0m \u001b[0mcollect_residual_correlation_coeff_ds7\u001b[0m \u001b[0;34m=\u001b[0m \u001b[0mtau_prediction_vs_expression_statistic\u001b[0m\u001b[0;34m(\u001b[0m\u001b[0mdata_DS7\u001b[0m\u001b[0;34m)\u001b[0m\u001b[0;34m\u001b[0m\u001b[0;34m\u001b[0m\u001b[0m\n",
      "\u001b[0;32m/tmp/ipykernel_29761/1172717567.py\u001b[0m in \u001b[0;36mtau_prediction_vs_expression_statistic\u001b[0;34m(dataset)\u001b[0m\n\u001b[1;32m     20\u001b[0m     \u001b[0mresidual_timepoint_three\u001b[0m \u001b[0;34m=\u001b[0m \u001b[0mtimepoint_three_data\u001b[0m \u001b[0;34m-\u001b[0m \u001b[0mtimepoint_three_predictions\u001b[0m\u001b[0;34m\u001b[0m\u001b[0;34m\u001b[0m\u001b[0m\n\u001b[1;32m     21\u001b[0m \u001b[0;34m\u001b[0m\u001b[0m\n\u001b[0;32m---> 22\u001b[0;31m     \u001b[0mextract_gene_values\u001b[0m \u001b[0;34m=\u001b[0m \u001b[0mgene_values\u001b[0m\u001b[0;34m[\u001b[0m\u001b[0;36m0\u001b[0m\u001b[0;34m]\u001b[0m\u001b[0;34m[\u001b[0m\u001b[0;36m0\u001b[0m\u001b[0;34m]\u001b[0m\u001b[0;34m[\u001b[0m\u001b[0;36m1\u001b[0m\u001b[0;34m]\u001b[0m\u001b[0;34m.\u001b[0m\u001b[0mT\u001b[0m\u001b[0;34m\u001b[0m\u001b[0;34m\u001b[0m\u001b[0m\n\u001b[0m\u001b[1;32m     23\u001b[0m     \u001b[0mcollect_correlation_coeff\u001b[0m \u001b[0;34m=\u001b[0m \u001b[0;34m[\u001b[0m\u001b[0;34m]\u001b[0m\u001b[0;34m\u001b[0m\u001b[0;34m\u001b[0m\u001b[0m\n\u001b[1;32m     24\u001b[0m     \u001b[0;32mfor\u001b[0m \u001b[0mg\u001b[0m \u001b[0;32min\u001b[0m \u001b[0mextract_gene_values\u001b[0m\u001b[0;34m:\u001b[0m\u001b[0;34m\u001b[0m\u001b[0;34m\u001b[0m\u001b[0m\n",
      "\u001b[0;31mNameError\u001b[0m: name 'gene_values' is not defined"
     ]
    }
   ],
   "source": [
    "# second statistic that Justin wants\n",
    "# average correlation to the dataset\n",
    "\n",
    "# datasets = [data_DS4,data_DS6,data_DS7,data_DS9,data_DS6_110,data_DS9_110]\n",
    "# labels = ['DS4','DS6','DS7','DS9','DS6_110','DS9_110']\n",
    "\n",
    "def tau_prediction_vs_expression_statistic(dataset):\n",
    "\n",
    "    # get the non nan values for the final time point for the predictions\n",
    "    postmean_data = query_posterior_statistics_from_sbi(dataset)\n",
    "    y_predictions = nexis_model.simulate_nexis(postmean_data) # Run the Nexis model using the best estimate of the parameters\n",
    "    nonnan_idxs = np.isnan(dataset).sum(axis=1)==0\n",
    "    original_predictions = y_predictions[nonnan_idxs]\n",
    "    timepoint_three_predictions = original_predictions[:,2]\n",
    "\n",
    "    # get the non nan values for the final time point for the data\n",
    "    original_data = dataset[nonnan_idxs]\n",
    "    timepoint_three_data = original_data[:,2]\n",
    "\n",
    "    residual_timepoint_three = timepoint_three_data - timepoint_three_predictions\n",
    "    \n",
    "    extract_gene_values = gene_values[0][0][1].T\n",
    "    collect_correlation_coeff = []\n",
    "    for g in extract_gene_values:\n",
    "        # get the non nan for the gene expression\n",
    "        original_formated_gene_values = g[nonnan_idxs]\n",
    "        # then for each gene (you can even do this in a for loop although it’s not as efficient) \n",
    "        # just do corr of each column of gene expression (i.e. each gene) and tau predictions\n",
    "        # np.corrcoef() of these two things\n",
    "        # R value here is a similarity measure between two vectors\n",
    "        # here, pathology and gene expression across regions    \n",
    "        corrcoef_tau_residual_expression = np.corrcoef(residual_timepoint_three,\n",
    "                                                          original_formated_gene_values)\n",
    "        collect_correlation_coeff.append(corrcoef_tau_residual_expression[0,1])\n",
    "    return collect_correlation_coeff \n",
    "\n",
    "# get the correlation coef for each dataset\n",
    "collect_residual_correlation_coeff_ds4 = tau_prediction_vs_expression_statistic(data_DS4)    \n",
    "collect_residual_correlation_coeff_ds6 = tau_prediction_vs_expression_statistic(data_DS6)    \n",
    "collect_residual_correlation_coeff_ds7 = tau_prediction_vs_expression_statistic(data_DS7)    \n",
    "collect_residual_correlation_coeff_ds9 = tau_prediction_vs_expression_statistic(data_DS9)    \n",
    "collect_residual_correlation_coeff_ds6_110 = tau_prediction_vs_expression_statistic(data_DS6_110)    \n",
    "collect_residual_correlation_coeff_ds9_110 = tau_prediction_vs_expression_statistic(data_DS9_110)    \n",
    "\n",
    "# average the experiements coeff together over experiements\n",
    "residual_correltion_coeffs = [collect_residual_correlation_coeff_ds4,\n",
    "                     collect_residual_correlation_coeff_ds6,\n",
    "                     collect_residual_correlation_coeff_ds7,\n",
    "                     collect_residual_correlation_coeff_ds9,\n",
    "                     collect_residual_correlation_coeff_ds6_110,\n",
    "                     collect_residual_correlation_coeff_ds9_110]\n",
    "residual_correltion_coeffs_average = np.average(residual_correltion_coeffs, axis=0)   \n",
    "\n",
    "# get the top 10 most correlated and the top 10 most anti-correlated\n",
    "# add to the names 'residual'\n",
    "sorted_index_array = np.argsort(residual_correltion_coeffs_average) \n",
    "top_ten = sorted_index_array[0:10]\n",
    "bottom_ten = sorted_index_array[-10:]\n",
    "\n",
    "# get the gene names for the top and bottom ten\n",
    "collect_top_genes = [str(gene_name_list[i]) for i in top_ten]\n",
    "collect_bottom_genes = [str(gene_name_list[i]) for i in bottom_ten]\n",
    "\n",
    "# get the correlation coef for the top and bottom ten\n",
    "collect_top_correlated_coef = [residual_correltion_coeffs_average[i] for i in top_ten]\n",
    "collect_bottom_correlated_coef = [residual_correltion_coeffs_average[i] for i in bottom_ten]\n",
    "\n",
    "# plot as bar plots in subplots\n",
    "fig, axs = plt.subplots(2, figsize=(10,7))\n",
    "fig.tight_layout(pad=3.0)\n",
    "fig.suptitle('Top and Bottom Ten Correlation Coeff tau Predictions vs gene expression')\n",
    "axs[0].bar(collect_top_genes,collect_bottom_correlated_coef)\n",
    "axs[1].bar(collect_bottom_genes,collect_top_correlated_coef)\n",
    "axs[0].tick_params(labelrotation=45)\n",
    "axs[1].tick_params(labelrotation=45)\n",
    "axs[0].set_ylabel('Coeff')\n",
    "axs[1].set_ylabel('Coeff')\n",
    "\n",
    "plt.show()\n"
   ]
  },
  {
   "cell_type": "markdown",
   "id": "a760e52d",
   "metadata": {},
   "source": [
    "### Posterior "
   ]
  },
  {
   "cell_type": "code",
   "execution_count": 30,
   "id": "6b548503",
   "metadata": {
    "ExecuteTime": {
     "end_time": "2023-06-16T18:23:55.652420Z",
     "start_time": "2023-06-16T18:23:55.511383Z"
    }
   },
   "outputs": [
    {
     "name": "stdout",
     "output_type": "stream",
     "text": [
      "Load file /home/jtorok/results/nexis_num100000_sd175_betaub10_gammaub2/post_sps_org.pkl\n",
      "Load file /home/jtorok/results/nexis_num100000_sd175_betaub10_gammaub2/post_sps_trans.pkl\n",
      "Load file /home/jtorok/results/nexis_num100000_sd175_betaub10_gammaub2/posterior.pkl\n"
     ]
    }
   ],
   "source": [
    "# load from pickle\n",
    "cur_res = load_pkl_folder2dict(Path(loadpathname), [\"x\", \"para*\"]);"
   ]
  },
  {
   "cell_type": "code",
   "execution_count": 18,
   "id": "3f3500ae",
   "metadata": {
    "ExecuteTime": {
     "end_time": "2023-06-16T18:26:28.617102Z",
     "start_time": "2023-06-16T18:26:28.555567Z"
    }
   },
   "outputs": [
    {
     "data": {
      "application/vnd.jupyter.widget-view+json": {
       "model_id": "1f9ffba1f7204eae85bf5ca759f8aaf3",
       "version_major": 2,
       "version_minor": 0
      },
      "text/plain": [
       "Drawing 1000 posterior samples:   0%|          | 0/1000 [00:00<?, ?it/s]"
      ]
     },
     "metadata": {},
     "output_type": "display_data"
    }
   ],
   "source": [
    "# just to remove nan\n",
    "# now my real data has nan, you should find a way to handle the nan\n",
    "nonnan_idxs = np.isnan(data_DS6).sum(axis=1)==0\n",
    "data_part = data_DS9[nonnan_idxs];\n",
    "cur_x = data_part.flatten();\n",
    "cur_x = torch.Tensor(cur_x)\n",
    "post_sps_trans = cur_res.posterior.sample((1000, ),  x=cur_x);"
   ]
  },
  {
   "cell_type": "code",
   "execution_count": 19,
   "id": "40eae794",
   "metadata": {
    "ExecuteTime": {
     "end_time": "2023-06-16T18:26:31.156117Z",
     "start_time": "2023-06-16T18:26:29.581437Z"
    }
   },
   "outputs": [],
   "source": [
    "# cur_res.post_sps_trans = post_sps_trans\n",
    "# # save_pkl_dict2folder(paras.folder_path, cur_res, is_force=True, verbose=True);\n",
    "# _ = analysis.pairplot(cur_res.post_sps_trans,\n",
    "#                       labels=paras_.names, \n",
    "#                       figsize=(8,8));"
   ]
  },
  {
   "cell_type": "code",
   "execution_count": 20,
   "id": "dce02f1f",
   "metadata": {
    "ExecuteTime": {
     "end_time": "2023-06-16T18:26:52.956070Z",
     "start_time": "2023-06-16T18:26:51.856012Z"
    }
   },
   "outputs": [
    {
     "data": {
      "image/png": "[encoded data removed]",
      "text/plain": [
       "<Figure size 576x576 with 36 Axes>"
      ]
     },
     "metadata": {
      "needs_background": "light"
     },
     "output_type": "display_data"
    }
   ],
   "source": [
    "# from trans_data to org data\n",
    "post_sps_org = _para_trans2org(cur_res.post_sps_trans, paras_.bds_full); # 1000 samples forming the posteriors of the parameters in the original space\n",
    "cur_res.post_sps_org = post_sps_org\n",
    "# save_pkl_dict2folder(paras.folder_path, cur_res, is_force=True, verbose=False)\n",
    "_ = analysis.pairplot(cur_res.post_sps_org,\n",
    "                      limits=paras_.bds_full,\n",
    "                      labels=paras_.names, \n",
    "                      figsize=(8,8));\n",
    "outlabel = figurepathname + '/' + 'DS6' + '_postplots'\n",
    "plt.savefig(outlabel+'.png',dpi=150)"
   ]
  },
  {
   "cell_type": "code",
   "execution_count": null,
   "id": "1e556805",
   "metadata": {},
   "outputs": [],
   "source": [
    "# Create model from modes of distributions and compare (e.g. Pearson's correlation, scatterplot) with the data"
   ]
  },
  {
   "cell_type": "code",
   "execution_count": null,
   "id": "8b2d22a4",
   "metadata": {},
   "outputs": [],
   "source": [
    "# Tablulate the correspondence between model and data as a function of the parameters that were used\n",
    "# and the hyperparameters/conditions that were passed to SBI to compare/contrast and find an \"optimal\"\n",
    "# way to run"
   ]
  },
  {
   "cell_type": "code",
   "execution_count": null,
   "id": "bd1406cf",
   "metadata": {},
   "outputs": [],
   "source": [
    "# Query posterior statistics\n",
    "param_post = np.array(post_sps_org) # Convert to numpy array\n",
    "postmean = np.mean(param_post,axis = 0) # Take mean over simulations (or whichever statistic you want, e.g. median, mode)\n",
    "print(postmean)"
   ]
  },
  {
   "cell_type": "code",
   "execution_count": null,
   "id": "fd95aa97",
   "metadata": {},
   "outputs": [],
   "source": [
    "# Test out overall model fit using the mean of the parameters\n",
    "y = nexis_model.simulate_nexis(postmean) # Run the Nexis model using the best estimate of the parameters\n",
    "y_part = y[nonnan_idxs] # remove unsampled regions\n",
    "test = np.shape(y_part)\n",
    "test = test[0]\n",
    "y_part_vec = np.reshape(y_part,(test*3,1)) # Flatten all time points of model simulation into a vector\n",
    "y_part_vec = np.ndarray.flatten(y_part_vec)\n",
    "data_part_vec = np.reshape(data_part,(test*3,1)) # Flatten all time points of data into a vector\n",
    "data_part_vec = np.ndarray.flatten(data_part_vec)\n",
    "print(np.corrcoef(y_part_vec,data_part_vec)) # Calculate R\n",
    "print(np.corrcoef(y_part[:,0],data_part[:,0]))\n",
    "print(np.corrcoef(y_part[:,1],data_part[:,1]))\n",
    "print(np.corrcoef(y_part[:,2],data_part[:,2]))"
   ]
  },
  {
   "cell_type": "code",
   "execution_count": null,
   "id": "ca82274f",
   "metadata": {},
   "outputs": [],
   "source": [
    "# Lucia list of things\n",
    "# Summary of things to test:\n",
    "# Prior noise term (bounded between 0 and 2)\n",
    "# Number of samples to train SBI on (bounded between 1e4 and 2e5)\n",
    "\n",
    "# Desired outputs (tabular)\n",
    "# Posterior statistics (mean, median, standard deviation) on the four relevant model parameters\n",
    "# Fits to data per time point (R or R^2)\n",
    "# Overall fit to data across time point (R or R^2)\n",
    "# Scatterplots of best hyperparameter sets"
   ]
  },
  {
   "cell_type": "code",
   "execution_count": null,
   "id": "e1e5b0f1",
   "metadata": {},
   "outputs": [],
   "source": [
    "# top/bottom 200 for gene ontology\n",
    "# https://github.com/tanghaibao/goatools\n",
    "# https://www.youtube.com/watch?v=ONiWugVEf2s&ab_channel=Sanbomics\n",
    "\n",
    "!pip install goatools\n",
    "\n",
    "# https://www.ncbi.nlm.nih.gov/gene\n",
    "# paste below code into search\n",
    "# \"10090\"[Taxonomy ID] AND alive[property] AND genetype protein coding[Properties]\n",
    "# 10090 is mouse 9606\n",
    "\n",
    "\n",
    "\n",
    "# the gene indeces for the original data\n",
    "sorted_index_array = np.argsort(correltion_coeffs_average)\n",
    "top_twohundred = sorted_index_array[0:200]\n",
    "bottom_twohundred = sorted_index_array[-200:]\n",
    "\n",
    "# get the gene names for the top and bottom ten\n",
    "collect_top_genes = [str(gene_name_list[i]) for i in top_twohundred]\n",
    "collect_bottom_genes = [str(gene_name_list[i]) for i in bottom_twohundred]\n",
    "\n",
    "\n",
    "# # the gene indeces for the predictions\n",
    "# sorted_index_array = np.argsort(residual_correltion_coeffs_average) \n",
    "# top_twohundred_predicted = sorted_index_array[0:200]\n",
    "# bottom_twohundred_predicted = sorted_index_array[-200:]\n",
    "\n",
    "# # get the gene names for the top and bottom ten\n",
    "# collect_predicted_top_genes = [str(gene_name_list[i]) for i in top_twohundred_predicted]\n",
    "# collect_predicted_bottom_genes = [str(gene_name_list[i]) for i in bottom_twohundred_predicted]\n",
    "\n"
   ]
  },
  {
   "cell_type": "code",
   "execution_count": null,
   "id": "91e808ac",
   "metadata": {},
   "outputs": [],
   "source": []
  },
  {
   "cell_type": "code",
   "execution_count": null,
   "id": "8ff37706",
   "metadata": {},
   "outputs": [],
   "source": []
  },
  {
   "cell_type": "code",
   "execution_count": null,
   "id": "580a6c6c",
   "metadata": {},
   "outputs": [],
   "source": []
  },
  {
   "cell_type": "code",
   "execution_count": null,
   "id": "8825bb32",
   "metadata": {},
   "outputs": [],
   "source": []
  },
  {
   "cell_type": "code",
   "execution_count": null,
   "id": "0e0a99c9",
   "metadata": {},
   "outputs": [],
   "source": []
  },
  {
   "cell_type": "code",
   "execution_count": null,
   "id": "00ff809f",
   "metadata": {},
   "outputs": [],
   "source": []
  }
 ],
 "metadata": {
  "kernelspec": {
   "display_name": "Python 3 (ipykernel)",
   "language": "python",
   "name": "python3"
  },
  "language_info": {
   "codemirror_mode": {
    "name": "ipython",
    "version": 3
   },
   "file_extension": ".py",
   "mimetype": "text/x-python",
   "name": "python",
   "nbconvert_exporter": "python",
   "pygments_lexer": "ipython3",
   "version": "3.9.7"
  },
  "toc": {
   "base_numbering": 1,
   "nav_menu": {},
   "number_sections": true,
   "sideBar": true,
   "skip_h1_title": false,
   "title_cell": "Table of Contents",
   "title_sidebar": "Contents",
   "toc_cell": false,
   "toc_position": {
    "height": "calc(100% - 180px)",
    "left": "10px",
    "top": "150px",
    "width": "193px"
   },
   "toc_section_display": true,
   "toc_window_display": true
  }
 },
 "nbformat": 4,
 "nbformat_minor": 5
}
